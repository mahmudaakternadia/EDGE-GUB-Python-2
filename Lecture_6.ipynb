{
  "nbformat": 4,
  "nbformat_minor": 0,
  "metadata": {
    "colab": {
      "provenance": []
    },
    "kernelspec": {
      "name": "python3",
      "display_name": "Python 3"
    },
    "language_info": {
      "name": "python"
    }
  },
  "cells": [
    {
      "cell_type": "code",
      "execution_count": null,
      "metadata": {
        "colab": {
          "base_uri": "https://localhost:8080/"
        },
        "id": "RnwpVSTX7nCL",
        "outputId": "4540c7e1-6e4f-4285-9db2-696243f0eba7"
      },
      "outputs": [
        {
          "output_type": "stream",
          "name": "stdout",
          "text": [
            "Enter your name: isjfishg\n",
            "Hi!  isjfishg\n"
          ]
        }
      ],
      "source": [
        "def PrintName():\n",
        "  name = input(\"Enter your name: \")\n",
        "  print(\"Hi! \", name)\n",
        "\n",
        "PrintName()"
      ]
    },
    {
      "cell_type": "code",
      "source": [
        "def FindMaxNum(num1, num2, num3):\n",
        "\n",
        "  if num1 > num2 :\n",
        "    if num1 > num3 :\n",
        "      print(\"Max: \", num1)\n",
        "\n",
        "    else:\n",
        "      print(\"Max: \", num3)\n",
        "\n",
        "  else:\n",
        "    if num2 > num3:\n",
        "     print(\"Max: \", num2)\n",
        "\n",
        "FindMaxNum(25,77,74)"
      ],
      "metadata": {
        "colab": {
          "base_uri": "https://localhost:8080/"
        },
        "id": "vOY-zMJb_Joi",
        "outputId": "e1d01dcf-40af-4590-cede-bbfafe6171bb"
      },
      "execution_count": null,
      "outputs": [
        {
          "output_type": "stream",
          "name": "stdout",
          "text": [
            "Max:  77\n"
          ]
        }
      ]
    },
    {
      "cell_type": "code",
      "source": [
        "num = int(input(\"Enter num: \"))\n",
        "\n",
        "def MultiplicationTable (num ):\n",
        "  for i in range (10, 0, -1):\n",
        "    print( f'{num} * {i} = {num*i}')\n",
        "\n",
        "MultiplicationTable (num)"
      ],
      "metadata": {
        "colab": {
          "base_uri": "https://localhost:8080/"
        },
        "id": "WD6ZqfH8A-H0",
        "outputId": "73e6faa6-74fc-44e0-dcbe-82580952bd57"
      },
      "execution_count": null,
      "outputs": [
        {
          "output_type": "stream",
          "name": "stdout",
          "text": [
            "Enter num: 45\n",
            "45 * 10 = 450\n",
            "45 * 9 = 405\n",
            "45 * 8 = 360\n",
            "45 * 7 = 315\n",
            "45 * 6 = 270\n",
            "45 * 5 = 225\n",
            "45 * 4 = 180\n",
            "45 * 3 = 135\n",
            "45 * 2 = 90\n",
            "45 * 1 = 45\n"
          ]
        }
      ]
    },
    {
      "cell_type": "code",
      "source": [
        "def Message(str_1, str_2 = \"Colombo\"):\n",
        "  print(str_1, str_2)\n",
        "\n",
        "Message(\"Cat\")\n",
        "Message(\"Dog\", \"Tiger\")"
      ],
      "metadata": {
        "colab": {
          "base_uri": "https://localhost:8080/"
        },
        "id": "Clh16FPDDUci",
        "outputId": "34892315-2545-4a86-ecaf-36bbcfafaa4f"
      },
      "execution_count": null,
      "outputs": [
        {
          "output_type": "stream",
          "name": "stdout",
          "text": [
            "Cat Colombo\n",
            "Dog Tiger\n"
          ]
        }
      ]
    },
    {
      "cell_type": "code",
      "source": [
        "PI = 3.14\n",
        "\n",
        "def Area_Circle (radius):\n",
        "  print (PI*(radius**2))\n",
        "\n",
        "def Area_Square (a):\n",
        "  print(a**2)\n",
        "\n",
        "Area_Circle (5)\n",
        "Area_Square (5)"
      ],
      "metadata": {
        "colab": {
          "base_uri": "https://localhost:8080/"
        },
        "id": "va2zmDmRE-1h",
        "outputId": "ab2d1a3b-14a2-4595-c515-70a34bd5e707"
      },
      "execution_count": null,
      "outputs": [
        {
          "output_type": "stream",
          "name": "stdout",
          "text": [
            "78.5\n",
            "25\n"
          ]
        }
      ]
    },
    {
      "cell_type": "code",
      "source": [
        "def Count():\n",
        "  sen = input(\"Enter your Sentence: \")\n",
        "  list_sen = list(sen)\n",
        "\n",
        "  sum = 0\n",
        "\n",
        "  for i in list_sen:\n",
        "    if i != ' ' :\n",
        "      sum +=1\n",
        "\n",
        "  print(sum)\n",
        "\n",
        "Count()"
      ],
      "metadata": {
        "colab": {
          "base_uri": "https://localhost:8080/"
        },
        "id": "hBlEuQPrHEsc",
        "outputId": "a89e6471-f547-41d1-b3ef-bc2169f798a2"
      },
      "execution_count": null,
      "outputs": [
        {
          "output_type": "stream",
          "name": "stdout",
          "text": [
            "Enter your Sentence: Class need to attend\n",
            "17\n"
          ]
        }
      ]
    },
    {
      "cell_type": "code",
      "source": [
        "def Percentage_Cal (num1, total_num):\n",
        "  percentage = (num1 / total_num ) * 100\n",
        "  print(percentage)\n",
        "\n",
        "Percentage_Cal (80, 95)"
      ],
      "metadata": {
        "colab": {
          "base_uri": "https://localhost:8080/"
        },
        "id": "UJuAZb8wHEvW",
        "outputId": "4e143e0f-9371-49ea-d1d8-5eca7ea3e6e5"
      },
      "execution_count": null,
      "outputs": [
        {
          "output_type": "stream",
          "name": "stdout",
          "text": [
            "84.21052631578947\n"
          ]
        }
      ]
    },
    {
      "cell_type": "code",
      "source": [
        "def Username():\n",
        "\n",
        "  name = input(\"Enter your username: \")\n",
        "  bool = True\n",
        "\n",
        "\n",
        "  for i in name:\n",
        "    if not name.isalnum() :\n",
        "      bool = False\n",
        "      return bool\n",
        "\n",
        "  if len(name) < 8 and len(name) >= 20 :\n",
        "    bool = True\n",
        "    return bool\n",
        "\n",
        "  if bool == True :\n",
        "    print(\"Correct Username\")\n",
        "\n",
        "  else:\n",
        "    print(\"Try Again maintaining Username format\")\n",
        "\n",
        "Username()"
      ],
      "metadata": {
        "colab": {
          "base_uri": "https://localhost:8080/"
        },
        "id": "cdyaHTzOHEye",
        "outputId": "bb5b95ef-d50b-487c-87ad-369643b2f221"
      },
      "execution_count": null,
      "outputs": [
        {
          "output_type": "stream",
          "name": "stdout",
          "text": [
            "Enter your username: 12345678945\n",
            "Correct Username\n"
          ]
        }
      ]
    },
    {
      "cell_type": "code",
      "source": [
        "def Username():\n",
        "\n",
        "  name = input(\"Enter your username: \")\n",
        "  bool = True\n",
        "\n",
        "\n",
        "  for i in name:\n",
        "    if not name.isalnum() :\n",
        "      bool = False\n",
        "      return bool\n",
        "\n",
        "  if len(name) < 8 and len(name) >= 20 :\n",
        "    bool = True\n",
        "    return bool\n",
        "  return bool\n",
        "\n",
        "  if"
      ],
      "metadata": {
        "id": "JTmkiyimXfGh"
      },
      "execution_count": null,
      "outputs": []
    },
    {
      "cell_type": "code",
      "source": [
        "showname"
      ],
      "metadata": {
        "id": "3JMv6zDxHE08"
      },
      "execution_count": null,
      "outputs": []
    },
    {
      "cell_type": "code",
      "source": [
        "sum = lambda a,b, c : a+b+c\n",
        "print (sum (45, 50, 1000))"
      ],
      "metadata": {
        "id": "SlgvNqwOHE3u",
        "colab": {
          "base_uri": "https://localhost:8080/"
        },
        "outputId": "b1e626f5-bd0f-4057-c947-87d83f1ddace"
      },
      "execution_count": null,
      "outputs": [
        {
          "output_type": "stream",
          "name": "stdout",
          "text": [
            "1095\n"
          ]
        }
      ]
    },
    {
      "cell_type": "code",
      "source": [
        "\n",
        "name = lambda first_name, last_name : print (first_name , last_name)\n",
        "first_name = input(\"Enter: \")\n",
        "last_name = input(\"Enter: \")\n",
        "\n",
        "name (first_name , last_name)"
      ],
      "metadata": {
        "id": "jOXR1C76HE7C",
        "colab": {
          "base_uri": "https://localhost:8080/"
        },
        "outputId": "2eb77b41-7a02-420d-9401-7ca347fb20f4"
      },
      "execution_count": null,
      "outputs": [
        {
          "output_type": "stream",
          "name": "stdout",
          "text": [
            "Enter: cddjuv\n",
            "Enter: knjjjjjjjjjjv1462\n",
            "cddjuv knjjjjjjjjjjv1462\n"
          ]
        }
      ]
    },
    {
      "cell_type": "code",
      "source": [
        "num = [1,2,3,45]\n",
        "\n",
        "def square (x):\n",
        "  return x*x\n",
        "\n",
        "squared_num = map (square, num) #map return kore object\n",
        "\n",
        "squ = list(squared_num)\n",
        "print(squ)"
      ],
      "metadata": {
        "id": "O-4uDyISE-7T",
        "colab": {
          "base_uri": "https://localhost:8080/"
        },
        "outputId": "6f7b1947-5b62-4bdd-b19f-f6317881118e"
      },
      "execution_count": null,
      "outputs": [
        {
          "output_type": "stream",
          "name": "stdout",
          "text": [
            "[1, 4, 9, 2025]\n"
          ]
        }
      ]
    },
    {
      "cell_type": "code",
      "source": [
        "num = [1,2,3,45]\n",
        "\n",
        "def square (x):\n",
        "  x*x\n",
        "\n",
        "squared_num = map (lambda x: x*x, num) #map return kore object\n",
        "\n",
        "squ = list(squared_num)\n",
        "print(squ)"
      ],
      "metadata": {
        "id": "DQH4URI5E_Db",
        "colab": {
          "base_uri": "https://localhost:8080/"
        },
        "outputId": "5644248d-becf-4d05-ed48-835522c2cc53"
      },
      "execution_count": null,
      "outputs": [
        {
          "output_type": "stream",
          "name": "stdout",
          "text": [
            "[1, 4, 9, 2025]\n"
          ]
        }
      ]
    },
    {
      "cell_type": "code",
      "source": [
        "num = [1,2,3,45]\n",
        "num1 = [12,5,9,7]\n",
        "\n",
        "sum_num = list (map (lambda x, y: x+y, num, num1)) #map return kore object\n",
        "\n",
        "print(sum_num)"
      ],
      "metadata": {
        "id": "2oO0JmuhE_Jb",
        "colab": {
          "base_uri": "https://localhost:8080/"
        },
        "outputId": "446f3426-443c-4283-db88-110c815a6d1e"
      },
      "execution_count": null,
      "outputs": [
        {
          "output_type": "stream",
          "name": "stdout",
          "text": [
            "[13, 7, 12, 52]\n"
          ]
        }
      ]
    },
    {
      "cell_type": "code",
      "source": [
        "numbers = [1,2,3,4,5,6,7,8,9,78]\n",
        "def isEven(x):\n",
        "  if x % 2 == 0:\n",
        "    return True\n",
        "\n",
        "  else:\n",
        "    return False\n",
        "\n",
        "even_num = list(filter (isEven, numbers))\n",
        "\n",
        "print(even_num)"
      ],
      "metadata": {
        "id": "sxkJJWXhE_Mj",
        "colab": {
          "base_uri": "https://localhost:8080/"
        },
        "outputId": "20618b1e-7d5f-4e4c-fef5-23e0c1d9fbdb"
      },
      "execution_count": null,
      "outputs": [
        {
          "output_type": "stream",
          "name": "stdout",
          "text": [
            "[2, 4, 6, 8, 78]\n"
          ]
        }
      ]
    },
    {
      "cell_type": "code",
      "source": [
        "numbers = [1,2,3,4,5,6,7,8,9,78]\n",
        "\n",
        "even_num = list(filter (lambda x: x % 2 == 0, numbers))\n",
        "\n",
        "print(even_num)"
      ],
      "metadata": {
        "colab": {
          "base_uri": "https://localhost:8080/"
        },
        "id": "gHgTI3bjcMgN",
        "outputId": "dba0b86e-8b23-4bbf-db1f-62da3f4cbc1d"
      },
      "execution_count": null,
      "outputs": [
        {
          "output_type": "stream",
          "name": "stdout",
          "text": [
            "[2, 4, 6, 8, 78]\n"
          ]
        }
      ]
    }
  ]
}