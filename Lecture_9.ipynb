{
  "nbformat": 4,
  "nbformat_minor": 0,
  "metadata": {
    "colab": {
      "provenance": []
    },
    "kernelspec": {
      "name": "python3",
      "display_name": "Python 3"
    },
    "language_info": {
      "name": "python"
    }
  },
  "cells": [
    {
      "cell_type": "code",
      "execution_count": null,
      "metadata": {
        "colab": {
          "base_uri": "https://localhost:8080/"
        },
        "id": "ScvN7CW9RCL4",
        "outputId": "252d764f-d9de-4c84-9ed0-e7cf136a8739"
      },
      "outputs": [
        {
          "output_type": "stream",
          "name": "stdout",
          "text": [
            "{'Alice': 25, 'Bob': 9, 'Cherry': 34}\n"
          ]
        }
      ],
      "source": [
        "std = {\"Alice\" : 25, \"Bob\": 9, \"Cherry\": 34}\n",
        "print(std)"
      ]
    },
    {
      "cell_type": "code",
      "source": [
        "#insert kora\n",
        "\n",
        "std[\"David\"] = 45\n",
        "print(std)"
      ],
      "metadata": {
        "colab": {
          "base_uri": "https://localhost:8080/"
        },
        "id": "J_1fslL6WMS3",
        "outputId": "0d0f377b-b6f5-4dd5-90b6-f9b0fd0f1f3c"
      },
      "execution_count": null,
      "outputs": [
        {
          "output_type": "stream",
          "name": "stdout",
          "text": [
            "{'Alice': 18, 'Bob': 9, 'Cherry': 34, 'David': 45}\n"
          ]
        }
      ]
    },
    {
      "cell_type": "code",
      "source": [
        "#update value\n",
        "\n",
        "std[\"Alice\"] = 18\n",
        "print(std)"
      ],
      "metadata": {
        "colab": {
          "base_uri": "https://localhost:8080/"
        },
        "id": "EmZssjjtWY9W",
        "outputId": "741f7dc6-dbcc-413f-8b0a-88d22c7f7935"
      },
      "execution_count": null,
      "outputs": [
        {
          "output_type": "stream",
          "name": "stdout",
          "text": [
            "{'Alice': 18, 'Bob': 9, 'Cherry': 34}\n"
          ]
        }
      ]
    },
    {
      "cell_type": "code",
      "source": [
        "for k,v in std.items():\n",
        "  print(k,v)\n"
      ],
      "metadata": {
        "colab": {
          "base_uri": "https://localhost:8080/"
        },
        "id": "F2gq103GWZAj",
        "outputId": "231de59f-bd03-4ee6-e1f2-514b353eb852"
      },
      "execution_count": null,
      "outputs": [
        {
          "output_type": "stream",
          "name": "stdout",
          "text": [
            "Alice 18\n",
            "Bob 9\n",
            "Cherry 34\n",
            "David 45\n"
          ]
        }
      ]
    },
    {
      "cell_type": "code",
      "source": [
        "for k in std.keys():\n",
        "  print(k)"
      ],
      "metadata": {
        "colab": {
          "base_uri": "https://localhost:8080/"
        },
        "id": "23K1-f92WZEk",
        "outputId": "f06c2fbe-9682-4eac-a5c9-343411107372"
      },
      "execution_count": null,
      "outputs": [
        {
          "output_type": "stream",
          "name": "stdout",
          "text": [
            "Alice\n",
            "Bob\n",
            "Cherry\n",
            "David\n"
          ]
        }
      ]
    },
    {
      "cell_type": "code",
      "source": [
        "for k in std:\n",
        "  print(k)"
      ],
      "metadata": {
        "colab": {
          "base_uri": "https://localhost:8080/"
        },
        "id": "a5_e94IKW9xD",
        "outputId": "2c277ce3-29ce-48b8-86a6-332dbe961207"
      },
      "execution_count": null,
      "outputs": [
        {
          "output_type": "stream",
          "name": "stdout",
          "text": [
            "Alice\n",
            "Bob\n",
            "Cherry\n",
            "David\n"
          ]
        }
      ]
    },
    {
      "cell_type": "code",
      "source": [
        "for v in std.values():\n",
        "  print(v)"
      ],
      "metadata": {
        "colab": {
          "base_uri": "https://localhost:8080/"
        },
        "id": "79gG0jlFXD19",
        "outputId": "be14f5af-14b5-4895-8488-5228bb20546d"
      },
      "execution_count": null,
      "outputs": [
        {
          "output_type": "stream",
          "name": "stdout",
          "text": [
            "18\n",
            "9\n",
            "34\n",
            "45\n"
          ]
        }
      ]
    },
    {
      "cell_type": "code",
      "source": [
        "stdlist = list(std.values())\n",
        "print(stdlist)"
      ],
      "metadata": {
        "colab": {
          "base_uri": "https://localhost:8080/"
        },
        "id": "m5vSxK5OXD_D",
        "outputId": "cdb70ef6-67d4-48e3-8dab-6e8b3f85fa0f"
      },
      "execution_count": null,
      "outputs": [
        {
          "output_type": "stream",
          "name": "stdout",
          "text": [
            "[18, 9, 34, 45]\n"
          ]
        }
      ]
    },
    {
      "cell_type": "code",
      "source": [
        "stdlist = list(std.values())\n",
        "print(stdlist)\n",
        "\n",
        "sortstdlist = sorted(stdlist, reverse = True)\n",
        "print(sortstdlist)"
      ],
      "metadata": {
        "colab": {
          "base_uri": "https://localhost:8080/"
        },
        "id": "ebXfN7xWXEK7",
        "outputId": "b732554f-a2a2-4a83-bf59-c2fade77e8e2"
      },
      "execution_count": null,
      "outputs": [
        {
          "output_type": "stream",
          "name": "stdout",
          "text": [
            "[18, 9, 34, 45]\n",
            "[45, 34, 18, 9]\n"
          ]
        }
      ]
    },
    {
      "cell_type": "code",
      "source": [
        "\"\"\"1. Create and Access Elements: Create a dictionary with three key-value pairs: {'name': 'Alice', 'age': 25, 'city': 'New York'}.\n",
        "Print the value of the key 'name'.\"\"\"\n",
        "\n",
        "create = {'name': 'Alice', 'age': 25, 'city': 'New York'}\n",
        "create['name']"
      ],
      "metadata": {
        "colab": {
          "base_uri": "https://localhost:8080/",
          "height": 35
        },
        "id": "HBjjNgPYXENl",
        "outputId": "0897e3a3-31e7-4397-e73b-4f3d27fe9b1c"
      },
      "execution_count": null,
      "outputs": [
        {
          "output_type": "execute_result",
          "data": {
            "text/plain": [
              "'Alice'"
            ],
            "application/vnd.google.colaboratory.intrinsic+json": {
              "type": "string"
            }
          },
          "metadata": {},
          "execution_count": 37
        }
      ]
    },
    {
      "cell_type": "code",
      "source": [
        "\"\"\"2. Add and Update: Add a new key-value pair 'job': 'Engineer' to the dictionary.\n",
        "Update the 'city' to 'San Francisco'.\"\"\"\n",
        "\n",
        "create[\"job\"] = \"Engineer\"\n",
        "create[\"city\"] = 'San Francisco'\n",
        "\n",
        "print(create)"
      ],
      "metadata": {
        "colab": {
          "base_uri": "https://localhost:8080/"
        },
        "id": "OaU6_bqFX4hF",
        "outputId": "28d5dbfd-e338-473c-e1a8-b9720091e559"
      },
      "execution_count": null,
      "outputs": [
        {
          "output_type": "stream",
          "name": "stdout",
          "text": [
            "{'name': 'Alice', 'age': 25, 'city': 'San Francisco', 'job': 'Engineer'}\n"
          ]
        }
      ]
    },
    {
      "cell_type": "code",
      "source": [
        "\"\"\"3. Check Existence: Write a program to check if the key 'age' exists in the dictionary and print a message accordingly.\"\"\"\n",
        "\n",
        "'age' in create"
      ],
      "metadata": {
        "colab": {
          "base_uri": "https://localhost:8080/"
        },
        "id": "Bm4HylcgYwyV",
        "outputId": "e8a6f838-2b98-4cad-889a-d3348b92b262"
      },
      "execution_count": null,
      "outputs": [
        {
          "output_type": "execute_result",
          "data": {
            "text/plain": [
              "True"
            ]
          },
          "metadata": {},
          "execution_count": 39
        }
      ]
    },
    {
      "cell_type": "code",
      "source": [
        "\"\"\"Exercise 1 : Write a Python Program to Create a Dictionary which Displays Student Basic Information in the following format:\n",
        "Id : 10\n",
        "Name : Jafri\n",
        "Course : Python\n",
        "Address : ABC\n",
        "Contact : 1233454569 \"\"\"\n",
        "\n",
        "student = {'Id ': 10,\n",
        "'Name ': 'Jafri',\n",
        "'Course ': 'Python' ,\n",
        "'Address' : 'ABC',\n",
        "'Contact' : 1233454569}\n",
        "\n",
        "print(student)\n",
        "\n"
      ],
      "metadata": {
        "colab": {
          "base_uri": "https://localhost:8080/"
        },
        "id": "v-7zdPY9ZLz9",
        "outputId": "a9081b57-c47f-4107-c57e-a5b9aee5d8e3"
      },
      "execution_count": null,
      "outputs": [
        {
          "output_type": "stream",
          "name": "stdout",
          "text": [
            "{'Id ': 10, 'Name ': 'Jafri', 'Course ': 'Python', 'Address': 'ABC', 'Contact': 1233454569}\n"
          ]
        }
      ]
    },
    {
      "cell_type": "code",
      "source": [
        "for k,v in student.items():\n",
        "  print(k,v)"
      ],
      "metadata": {
        "colab": {
          "base_uri": "https://localhost:8080/"
        },
        "id": "uG_yTXHeZL2k",
        "outputId": "b6b3124a-3e73-4eaa-bd51-85c9225a5c52"
      },
      "execution_count": null,
      "outputs": [
        {
          "output_type": "stream",
          "name": "stdout",
          "text": [
            "Id  10\n",
            "Name  Jafri\n",
            "Course  Python\n",
            "Address ABC\n",
            "Contact 1233454569\n"
          ]
        }
      ]
    },
    {
      "cell_type": "code",
      "source": [
        "#Exercise 2 : Write a Python Program to Get 5 Numbers from User and Create a Dictionary which Displays Square of Every Numbers as Value.\n",
        "\n",
        "num = dict()\n",
        "\n",
        "for i in range(1,6):\n",
        "\n",
        "  num[i] = i*i\n",
        "\n",
        "print(num)\n"
      ],
      "metadata": {
        "colab": {
          "base_uri": "https://localhost:8080/"
        },
        "id": "R6z7-iMiZL5o",
        "outputId": "03520ad0-2565-496b-a4ef-a4471a12b027"
      },
      "execution_count": null,
      "outputs": [
        {
          "output_type": "stream",
          "name": "stdout",
          "text": [
            "{1: 1, 2: 4, 3: 9, 4: 16, 5: 25}\n"
          ]
        }
      ]
    },
    {
      "cell_type": "code",
      "source": [
        "from random import randint\n",
        "print(randint(1000000, 9999999))"
      ],
      "metadata": {
        "colab": {
          "base_uri": "https://localhost:8080/"
        },
        "id": "bCgv1UAdYw0_",
        "outputId": "2ba2fdb1-1593-4863-9bc5-bcde25b13ac0"
      },
      "execution_count": null,
      "outputs": [
        {
          "output_type": "stream",
          "name": "stdout",
          "text": [
            "4977336\n"
          ]
        }
      ]
    },
    {
      "cell_type": "code",
      "source": [
        "import time\n",
        "print (time.time())"
      ],
      "metadata": {
        "colab": {
          "base_uri": "https://localhost:8080/"
        },
        "id": "aU-5t_AfYw_a",
        "outputId": "af52b49a-c3b2-458e-e52a-6a0eb023f630"
      },
      "execution_count": null,
      "outputs": [
        {
          "output_type": "stream",
          "name": "stdout",
          "text": [
            "1732791948.554485\n"
          ]
        }
      ]
    },
    {
      "cell_type": "code",
      "source": [
        "import time\n",
        "\n",
        "start_time = time.time()\n",
        "for i in range(1000000):\n",
        "\n",
        "  i = randint(1000000, 9999999)\n",
        "\n",
        "execution_time = time.time() - start_time\n",
        "print(execution_time)"
      ],
      "metadata": {
        "colab": {
          "base_uri": "https://localhost:8080/"
        },
        "id": "AltOutzbcut4",
        "outputId": "b99ca088-e504-447d-fa2b-6a4cfab92698"
      },
      "execution_count": null,
      "outputs": [
        {
          "output_type": "stream",
          "name": "stdout",
          "text": [
            "0.9652507305145264\n"
          ]
        }
      ]
    },
    {
      "cell_type": "code",
      "source": [
        "str_ = \"GUB was established in 2003 with the vision of becoming a global center of excellence in higher education. We offer a diverse range of undergraduate and postgraduate programs through our four faculties: Business Studies, Science & Engineering, Arts & Social Sciences, and Law, to meet the socio-economic needs of our country. Our curriculum is designed to provide quality education imbued with high moral and ethical values. Over the years, the university has grown rapidly and currently serves 7,000 students with over 300 dedicated faculty members. Our graduates are gaining admission to renowned foreign universities for further studies with financial aid and securing positions in prestigious industries and institutions.\"\n",
        "\n",
        "listofwords = str_.split(\" \")\n",
        "\n",
        "print(listofwords)"
      ],
      "metadata": {
        "colab": {
          "base_uri": "https://localhost:8080/"
        },
        "id": "k9LQrtTqcuzG",
        "outputId": "be539ece-cf68-42b6-b4be-312ddda9353e"
      },
      "execution_count": null,
      "outputs": [
        {
          "output_type": "stream",
          "name": "stdout",
          "text": [
            "['GUB', 'was', 'established', 'in', '2003', 'with', 'the', 'vision', 'of', 'becoming', 'a', 'global', 'center', 'of', 'excellence', 'in', 'higher', 'education.', 'We', 'offer', 'a', 'diverse', 'range', 'of', 'undergraduate', 'and', 'postgraduate', 'programs', 'through', 'our', 'four', 'faculties:', 'Business', 'Studies,', 'Science', '&', 'Engineering,', 'Arts', '&', 'Social', 'Sciences,', 'and', 'Law,', 'to', 'meet', 'the', 'socio-economic', 'needs', 'of', 'our', 'country.', 'Our', 'curriculum', 'is', 'designed', 'to', 'provide', 'quality', 'education', 'imbued', 'with', 'high', 'moral', 'and', 'ethical', 'values.', 'Over', 'the', 'years,', 'the', 'university', 'has', 'grown', 'rapidly', 'and', 'currently', 'serves', '7,000', 'students', 'with', 'over', '300', 'dedicated', 'faculty', 'members.', 'Our', 'graduates', 'are', 'gaining', 'admission', 'to', 'renowned', 'foreign', 'universities', 'for', 'further', 'studies', 'with', 'financial', 'aid', 'and', 'securing', 'positions', 'in', 'prestigious', 'industries', 'and', 'institutions.']\n"
          ]
        }
      ]
    },
    {
      "cell_type": "code",
      "source": [
        "wordcount = dict()\n",
        "\n",
        "for word in listofwords:\n",
        "  if word in wordcount:\n",
        "    wordcount[word] += 1\n",
        "\n",
        "  else:\n",
        "    wordcount[word] = 1\n",
        "\n",
        "print(wordcount)"
      ],
      "metadata": {
        "colab": {
          "base_uri": "https://localhost:8080/"
        },
        "id": "VrP4e9elcu18",
        "outputId": "eabf04a6-d003-49e8-978c-cceb62e32d86"
      },
      "execution_count": null,
      "outputs": [
        {
          "output_type": "stream",
          "name": "stdout",
          "text": [
            "{'GUB': 1, 'was': 1, 'established': 1, 'in': 3, '2003': 1, 'with': 4, 'the': 4, 'vision': 1, 'of': 4, 'becoming': 1, 'a': 2, 'global': 1, 'center': 1, 'excellence': 1, 'higher': 1, 'education.': 1, 'We': 1, 'offer': 1, 'diverse': 1, 'range': 1, 'undergraduate': 1, 'and': 6, 'postgraduate': 1, 'programs': 1, 'through': 1, 'our': 2, 'four': 1, 'faculties:': 1, 'Business': 1, 'Studies,': 1, 'Science': 1, '&': 2, 'Engineering,': 1, 'Arts': 1, 'Social': 1, 'Sciences,': 1, 'Law,': 1, 'to': 3, 'meet': 1, 'socio-economic': 1, 'needs': 1, 'country.': 1, 'Our': 2, 'curriculum': 1, 'is': 1, 'designed': 1, 'provide': 1, 'quality': 1, 'education': 1, 'imbued': 1, 'high': 1, 'moral': 1, 'ethical': 1, 'values.': 1, 'Over': 1, 'years,': 1, 'university': 1, 'has': 1, 'grown': 1, 'rapidly': 1, 'currently': 1, 'serves': 1, '7,000': 1, 'students': 1, 'over': 1, '300': 1, 'dedicated': 1, 'faculty': 1, 'members.': 1, 'graduates': 1, 'are': 1, 'gaining': 1, 'admission': 1, 'renowned': 1, 'foreign': 1, 'universities': 1, 'for': 1, 'further': 1, 'studies': 1, 'financial': 1, 'aid': 1, 'securing': 1, 'positions': 1, 'prestigious': 1, 'industries': 1, 'institutions.': 1}\n"
          ]
        }
      ]
    },
    {
      "cell_type": "code",
      "source": [
        "\n",
        "\n"
      ],
      "metadata": {
        "id": "o6OzzWrBcu4k"
      },
      "execution_count": null,
      "outputs": []
    },
    {
      "cell_type": "code",
      "source": [
        "#4. Iterate Over a Dictionary: Create a dictionary with at least 5 items. Write a loop to print all keys and their corresponding values.\n",
        "\n",
        "animal = {\"Cat\": 5, \"Dog\": 5, \"Lion\": 7,\"Tiger\": 10, \"Liger\": 2, \"Panda\": 3}\n",
        "\n",
        "for k, v in animal.items():\n",
        "  print(k,v)"
      ],
      "metadata": {
        "colab": {
          "base_uri": "https://localhost:8080/"
        },
        "id": "afjP7i2xfiuO",
        "outputId": "ec30f86b-343b-42a4-d9da-8296dbc1ec16"
      },
      "execution_count": null,
      "outputs": [
        {
          "output_type": "stream",
          "name": "stdout",
          "text": [
            "Cat 5\n",
            "Dog 5\n",
            "Lion 7\n",
            "Tiger 10\n",
            "Liger 2\n",
            "Panda 3\n"
          ]
        }
      ]
    },
    {
      "cell_type": "code",
      "source": [
        "\"\"\"convert value into  key\n",
        "and viceversa\"\"\"\n",
        "\n",
        "#5. Reverse a Dictionary: Given a dictionary {1: 'a', 2: 'b', 3: 'c'}, reverse its key-value pairs to get {'a': 1, 'b': 2, 'c': 3}.\n",
        "\n",
        "dict1 = {1: 'a', 2: 'b', 3: 'c'}\n",
        "\n",
        "dict2 =dict()\n",
        "\n",
        "for i in dict1:\n",
        "  z = dict1[i]\n",
        "  dict2[z] = i\n",
        "\n",
        "dict2\n"
      ],
      "metadata": {
        "colab": {
          "base_uri": "https://localhost:8080/"
        },
        "id": "U62bJVJnfi3a",
        "outputId": "065616f2-6062-467c-f1b4-50be87f017ff"
      },
      "execution_count": null,
      "outputs": [
        {
          "output_type": "execute_result",
          "data": {
            "text/plain": [
              "{'a': 1, 'b': 2, 'c': 3}"
            ]
          },
          "metadata": {},
          "execution_count": 71
        }
      ]
    },
    {
      "cell_type": "code",
      "source": [
        "'''6. Word Frequency Counter: Write a program to count the frequency of each word in the sentence \"the quick brown fox jumps over the lazy dog\".\n",
        "Output: {'the': 2, 'quick': 1, 'brown': 1, 'fox': 1, ...} '''\n",
        "\n",
        "string = \"the quick brown fox jumps over the lazy dog\"\n",
        "word = string.split(\" \")\n",
        "print(word)"
      ],
      "metadata": {
        "colab": {
          "base_uri": "https://localhost:8080/"
        },
        "id": "x7tuWIlcfulZ",
        "outputId": "b97bc4b9-2661-4d76-c479-54ac7c729b21"
      },
      "execution_count": null,
      "outputs": [
        {
          "output_type": "stream",
          "name": "stdout",
          "text": [
            "['the', 'quick', 'brown', 'fox', 'jumps', 'over', 'the', 'lazy', 'dog']\n"
          ]
        }
      ]
    },
    {
      "cell_type": "code",
      "source": [
        "dictw = dict()\n",
        "\n",
        "for i in word:\n",
        "  if i in dictw:\n",
        "    dictw[i] += 1\n",
        "\n",
        "  else:\n",
        "    dictw[i] = 1\n",
        "\n",
        "print(dictw)"
      ],
      "metadata": {
        "colab": {
          "base_uri": "https://localhost:8080/"
        },
        "id": "Jd3xgLAgfjAZ",
        "outputId": "9a3f9170-df1c-4b47-8d48-db4be2edf576"
      },
      "execution_count": null,
      "outputs": [
        {
          "output_type": "stream",
          "name": "stdout",
          "text": [
            "{'the': 2, 'quick': 1, 'brown': 1, 'fox': 1, 'jumps': 1, 'over': 1, 'lazy': 1, 'dog': 1}\n"
          ]
        }
      ]
    },
    {
      "cell_type": "code",
      "source": [
        "#Write a Python Program to Get 5 Student Name with their Marks and Display Student Name and their Marks in Key Value Form\n",
        "\n",
        "info =  dict()\n",
        "\n",
        "for i in range(5):\n",
        "  name = input(\"Enter your name: \")\n",
        "  marks = int(input(\"Enter your marks: \"))\n",
        "\n",
        "  print (name, marks)\n",
        "\n"
      ],
      "metadata": {
        "colab": {
          "base_uri": "https://localhost:8080/"
        },
        "id": "G61YpciwmyeH",
        "outputId": "f47d7202-02a3-47fb-a308-6d99982ba16d"
      },
      "execution_count": null,
      "outputs": [
        {
          "output_type": "stream",
          "name": "stdout",
          "text": [
            "Enter your name: dhfj\n",
            "Enter your marks: 5\n",
            "Enter your name: gmm\n",
            "Enter your marks: 85\n",
            "Enter your name: gmhdd\n",
            "Enter your marks: 16\n",
            "Enter your name: ofjp\n",
            "Enter your marks: 78\n",
            "Enter your name: fbnf\n",
            "Enter your marks: 100\n",
            "fbnf 100\n"
          ]
        }
      ]
    },
    {
      "cell_type": "code",
      "source": [
        "#Problem 2 : Write a Python Program to Get 5 Digital Product and their Price. Display Total Price of the Products.\n"
      ],
      "metadata": {
        "id": "hxxbKNCOmyhG"
      },
      "execution_count": null,
      "outputs": []
    },
    {
      "cell_type": "code",
      "source": [
        "dict1 = {'a': 4, 'b': 1, 'c': 6, 'd': 2, 'e': 3}\n",
        "\n",
        "new_dict = {k:v*3 for(k,v) in dict1.items()}\n",
        "\n",
        "new_dict"
      ],
      "metadata": {
        "colab": {
          "base_uri": "https://localhost:8080/"
        },
        "id": "yBpPei3xmykN",
        "outputId": "e17b7e8e-86d4-4834-bbed-6f3e506d50d7"
      },
      "execution_count": null,
      "outputs": [
        {
          "output_type": "execute_result",
          "data": {
            "text/plain": [
              "{'a': 12, 'b': 3, 'c': 18, 'd': 6, 'e': 9}"
            ]
          },
          "metadata": {},
          "execution_count": 85
        }
      ]
    },
    {
      "cell_type": "code",
      "source": [
        "\n",
        "new_dict = {k:v for(k,v) in dict1.items() if 'a' in k}\n",
        "\n",
        "new_dict"
      ],
      "metadata": {
        "colab": {
          "base_uri": "https://localhost:8080/"
        },
        "id": "T0dyNyKamynD",
        "outputId": "9776c52b-89b5-489c-bcdc-95e3486a8a7f"
      },
      "execution_count": null,
      "outputs": [
        {
          "output_type": "execute_result",
          "data": {
            "text/plain": [
              "{'a': 4}"
            ]
          },
          "metadata": {},
          "execution_count": 86
        }
      ]
    },
    {
      "cell_type": "code",
      "source": [
        "new_dict = {k:v for(k,v) in dict1.items() if v%2 == 0 if v%3 == 0}\n",
        "\n",
        "new_dict"
      ],
      "metadata": {
        "colab": {
          "base_uri": "https://localhost:8080/"
        },
        "id": "Y1aloGOZmyp6",
        "outputId": "a8752a88-5a79-448b-905d-59ae6fd2047c"
      },
      "execution_count": null,
      "outputs": [
        {
          "output_type": "execute_result",
          "data": {
            "text/plain": [
              "{'c': 6}"
            ]
          },
          "metadata": {},
          "execution_count": 87
        }
      ]
    },
    {
      "cell_type": "code",
      "source": [
        "new_dict = {k:v*3 for(k,v) in dict1.items()}\n",
        "\n",
        "new_dict"
      ],
      "metadata": {
        "id": "B_dIUelqmys7"
      },
      "execution_count": null,
      "outputs": []
    },
    {
      "cell_type": "code",
      "source": [
        "#Problem 1 : Write a Python Program to Create a Dictionary from a List which Displays Length of Each Word as Value.\n",
        "\n",
        "\n"
      ],
      "metadata": {
        "id": "BQ5_lb_emyvX"
      },
      "execution_count": 1,
      "outputs": []
    },
    {
      "cell_type": "code",
      "source": [
        "# Write a Python Program to Create a Dictionary from a List which Displays Length of those Word which Contain Greater than 5 Character as Value\n",
        "\n",
        "colors = ['yellow', 'red', 'green', 'pink']\n",
        "\n",
        "color_dict = {k : len(k) for k in colors}\n",
        "\n",
        "print(color_dict)"
      ],
      "metadata": {
        "colab": {
          "base_uri": "https://localhost:8080/"
        },
        "id": "jhT5XjfvmyyP",
        "outputId": "475bb1f1-2eb0-461f-f539-ea6970a23e4d"
      },
      "execution_count": null,
      "outputs": [
        {
          "output_type": "stream",
          "name": "stdout",
          "text": [
            "{'yellow': 6, 'red': 3, 'green': 5, 'pink': 4}\n"
          ]
        }
      ]
    },
    {
      "cell_type": "code",
      "source": [
        "colors = ['yellow', 'red', 'green', 'pink']\n",
        "color_dict = {k : len(k) for k in colors}\n",
        "\n",
        "print(color_dict)\n",
        "\n",
        "color_dict[\"blue\"] = color_dict.pop('yellow') #color_dict.pop(\"yellow\") = 6\n",
        "\n",
        "print(color_dict)\n",
        "\n",
        "print(min(list(color_dict.values())))"
      ],
      "metadata": {
        "colab": {
          "base_uri": "https://localhost:8080/"
        },
        "id": "jQMz2pfqmy0w",
        "outputId": "9a8b2894-ecd8-4792-8889-713fe1d680ec"
      },
      "execution_count": null,
      "outputs": [
        {
          "output_type": "stream",
          "name": "stdout",
          "text": [
            "{'yellow': 6, 'red': 3, 'green': 5, 'pink': 4}\n",
            "{'red': 3, 'green': 5, 'pink': 4, 'blue': 6}\n",
            "3\n"
          ]
        }
      ]
    },
    {
      "cell_type": "code",
      "source": [
        "#Write a Python Program to Get Color Name and its Code, and Display all the Color Name in Uppercase with their Code.\n",
        "\n"
      ],
      "metadata": {
        "id": "SFILTuTlmy3c"
      },
      "execution_count": null,
      "outputs": []
    },
    {
      "cell_type": "code",
      "source": [
        "#Write a Python Program to Create a Numeric Dictionary which Displays only those Keys which have Even Value."
      ],
      "metadata": {
        "id": "MvFZY3KNmzL9"
      },
      "execution_count": null,
      "outputs": []
    },
    {
      "cell_type": "code",
      "source": [
        "#Write a Python Program to Create a Dictionary from List which multiplies the values with 2 using Dictionary comprehension."
      ],
      "metadata": {
        "id": "BHFlwH6ZmzPH"
      },
      "execution_count": null,
      "outputs": []
    },
    {
      "cell_type": "code",
      "source": [
        "#Write a Python Program to Display Min and Max Value from a Dictionary Value."
      ],
      "metadata": {
        "id": "2OWmxwfGmzRf"
      },
      "execution_count": null,
      "outputs": []
    },
    {
      "cell_type": "code",
      "source": [
        "#Write a Python Program to Check Specific Key, whether that Key Exist in Dictionary or Not"
      ],
      "metadata": {
        "id": "2MBGpEr9mzUY"
      },
      "execution_count": null,
      "outputs": []
    },
    {
      "cell_type": "code",
      "source": [
        "\"\"\"7. Nested Dictionary Manipulation: Create a nested dictionary to store student information:\n",
        "students = {\n",
        "    'Alice': {'math': 85, 'science': 92},\n",
        "    'Bob': {'math': 78, 'science': 89},\n",
        "    'Charlie': {'math': 95, 'science': 85}\n",
        "}\n",
        "Calculate the average score for each student and print it.\"\"\"\n",
        "\n",
        "students = {\n",
        "    'Alice': {'math': 85, 'science': 92},\n",
        "    'Bob': {'math': 78, 'science': 89},\n",
        "    'Charlie': {'math': 95, 'science': 85}\n",
        "}\n",
        "\n",
        "avg_dict = {}  # Create an empty dictionary, no need to use dict() constructor\n",
        "\n",
        "for key, value in students.items():\n",
        "    avg_dict[key] = sum(value.values()) / len(value)\n",
        "\n",
        "print(avg_dict)\n"
      ],
      "metadata": {
        "colab": {
          "base_uri": "https://localhost:8080/"
        },
        "id": "pQ67NquIy4vO",
        "outputId": "9b526062-5a30-47b6-dc53-293ed7e86874"
      },
      "execution_count": null,
      "outputs": [
        {
          "output_type": "stream",
          "name": "stdout",
          "text": [
            "{'Alice': 88.5, 'Bob': 83.5, 'Charlie': 90.0}\n"
          ]
        }
      ]
    },
    {
      "cell_type": "code",
      "source": [
        "avg_dict = {k : sum(v.values()) / len(v) for k,v in students.items()}\n",
        "print(avg_dict)"
      ],
      "metadata": {
        "colab": {
          "base_uri": "https://localhost:8080/"
        },
        "id": "sYWitMDRy44n",
        "outputId": "12e3d820-0ff1-4a4e-f5d5-d9490ea43e16"
      },
      "execution_count": null,
      "outputs": [
        {
          "output_type": "stream",
          "name": "stdout",
          "text": [
            "{'Alice': 88.5, 'Bob': 83.5, 'Charlie': 90.0}\n"
          ]
        }
      ]
    },
    {
      "cell_type": "code",
      "source": [],
      "metadata": {
        "id": "03Fw4qLVy489"
      },
      "execution_count": null,
      "outputs": []
    },
    {
      "cell_type": "code",
      "source": [],
      "metadata": {
        "id": "X0yNQVNny4_u"
      },
      "execution_count": null,
      "outputs": []
    },
    {
      "cell_type": "code",
      "source": [],
      "metadata": {
        "id": "LE6y6X1Ky5Cu"
      },
      "execution_count": null,
      "outputs": []
    }
  ]
}