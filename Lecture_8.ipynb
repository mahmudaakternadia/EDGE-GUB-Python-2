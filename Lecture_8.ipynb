{
  "nbformat": 4,
  "nbformat_minor": 0,
  "metadata": {
    "colab": {
      "provenance": []
    },
    "kernelspec": {
      "name": "python3",
      "display_name": "Python 3"
    },
    "language_info": {
      "name": "python"
    }
  },
  "cells": [
    {
      "cell_type": "code",
      "execution_count": null,
      "metadata": {
        "colab": {
          "base_uri": "https://localhost:8080/"
        },
        "id": "UUwqi69g_Gsi",
        "outputId": "a93d8ae5-c080-4647-aba4-9dd2be7660f0"
      },
      "outputs": [
        {
          "output_type": "stream",
          "name": "stdout",
          "text": [
            "['abc']\n",
            "['abc', 'odg']\n"
          ]
        }
      ],
      "source": [
        "lst = list()\n",
        "lst.append ('abc')\n",
        "print(lst)\n",
        "\n",
        "lst.append ('odg')\n",
        "print(lst)"
      ]
    },
    {
      "cell_type": "code",
      "source": [
        "SZ = 10\n",
        "\n",
        "list_ = SZ * [2]\n",
        "\n",
        "print(list_)"
      ],
      "metadata": {
        "colab": {
          "base_uri": "https://localhost:8080/"
        },
        "id": "OmiQpgX1Al9R",
        "outputId": "0ebb68ff-ef67-4e9e-df5f-ad9d047ee9b1"
      },
      "execution_count": null,
      "outputs": [
        {
          "output_type": "stream",
          "name": "stdout",
          "text": [
            "[2, 2, 2, 2, 2, 2, 2, 2, 2, 2]\n"
          ]
        }
      ]
    },
    {
      "cell_type": "code",
      "source": [
        "language = [\"Python\", \"Java\", \"C\"]\n",
        "print(language)\n",
        "\n",
        "print(language[-1])\n",
        "\n",
        "language[0] = \"C#\"\n",
        "print(language)\n",
        "\n",
        "for i in language:\n",
        "  print(i)"
      ],
      "metadata": {
        "colab": {
          "base_uri": "https://localhost:8080/"
        },
        "id": "OpfnKc-eAmFY",
        "outputId": "c86ec23d-736a-47ad-a03b-32307155fe21"
      },
      "execution_count": null,
      "outputs": [
        {
          "output_type": "stream",
          "name": "stdout",
          "text": [
            "['Python', 'Java', 'C']\n",
            "C\n",
            "['C#', 'Java', 'C']\n",
            "C#\n",
            "Java\n",
            "C\n"
          ]
        }
      ]
    },
    {
      "cell_type": "code",
      "source": [
        "# Initialize the list\n",
        "language = [\"Python\", \"Java\", \"C\"]\n",
        "\n",
        "# Print the entire list\n",
        "print(language)  # Output: ['Python', 'Java', 'C']\n",
        "\n",
        "# Print the last element of the list using negative indexing\n",
        "print(language[-1])  # Output: 'C'\n",
        "\n",
        "# Modify the first element in the list\n",
        "language[0] = \"C#\"\n",
        "print(language)  # Output: ['C#', 'Java', 'C']\n",
        "\n",
        "# Initialize the index for the while loop\n",
        "index = 0\n",
        "\n",
        "# Iterate through the list using a while loop\n",
        "while index < len(language):\n",
        "    print(language[index])\n",
        "    index += 1\n"
      ],
      "metadata": {
        "colab": {
          "base_uri": "https://localhost:8080/"
        },
        "id": "5E7ZeVdCAmI_",
        "outputId": "b0457bf1-824f-408f-ee76-9a37885d13c4"
      },
      "execution_count": null,
      "outputs": [
        {
          "output_type": "stream",
          "name": "stdout",
          "text": [
            "['Python', 'Java', 'C']\n",
            "C\n",
            "['C#', 'Java', 'C']\n",
            "C#\n",
            "Java\n",
            "C\n"
          ]
        }
      ]
    },
    {
      "cell_type": "code",
      "source": [
        "box1 = [\"Japan\", \"Bangladesh\", \"Korea\"]\n",
        "box2= [\"USA\", \"UK\" ]\n",
        "\n",
        "box = box1 + box2\n",
        "print(box)\n",
        "\n",
        "if \"UK\" in box:\n",
        "  print(\"Yes\")"
      ],
      "metadata": {
        "colab": {
          "base_uri": "https://localhost:8080/"
        },
        "id": "5TSYw-BuDMKT",
        "outputId": "a1ad044f-599f-49a6-abda-f03ef47e8805"
      },
      "execution_count": null,
      "outputs": [
        {
          "output_type": "stream",
          "name": "stdout",
          "text": [
            "['Japan', 'Bangladesh', 'Korea', 'USA', 'UK']\n",
            "Yes\n"
          ]
        }
      ]
    },
    {
      "cell_type": "code",
      "source": [
        "#Write a Python Program to get 5 Students Name from user and Store in List, Display all the Students Name with Uppercase Letters\n",
        "\n",
        "name = list()\n",
        "\n",
        "for i in range(5):\n",
        "  a = input(f\"{i} Enter name: \")\n",
        "  name.append(a)\n",
        "  print(name)"
      ],
      "metadata": {
        "colab": {
          "base_uri": "https://localhost:8080/"
        },
        "id": "86rAxDYyDMPV",
        "outputId": "9df63878-e3d7-470b-c813-18423a1f9ecf"
      },
      "execution_count": null,
      "outputs": [
        {
          "output_type": "stream",
          "name": "stdout",
          "text": [
            "0 Enter name: fjjhjp\n",
            "['fjjhjp']\n",
            "1 Enter name: fhfp[gke[-e\n",
            "['fjjhjp', 'fhfp[gke[-e']\n",
            "2 Enter name: fjdgm\n",
            "['fjjhjp', 'fhfp[gke[-e', 'fjdgm']\n",
            "3 Enter name: ogm\n",
            "['fjjhjp', 'fhfp[gke[-e', 'fjdgm', 'ogm']\n",
            "4 Enter name: kdgk\n",
            "['fjjhjp', 'fhfp[gke[-e', 'fjdgm', 'ogm', 'kdgk']\n"
          ]
        }
      ]
    },
    {
      "cell_type": "code",
      "source": [
        "from random  import randint\n",
        "\n",
        "lst = list()\n",
        "\n",
        "for i in range(10):\n",
        "  lst.append(randint(0, 120))\n",
        "print(lst)\n",
        "\n",
        "for i in lst: #list_even =[i for i in lst if i % 2 == 0]\n",
        "  if i % 2:\n",
        "    print(i)"
      ],
      "metadata": {
        "colab": {
          "base_uri": "https://localhost:8080/"
        },
        "id": "R1KoSPAJDMXG",
        "outputId": "46bab7a7-6e85-4a4d-d967-2df203799de0"
      },
      "execution_count": null,
      "outputs": [
        {
          "output_type": "stream",
          "name": "stdout",
          "text": [
            "[39, 102, 107, 53, 110, 22, 39, 7, 32, 6]\n",
            "39\n",
            "107\n",
            "53\n",
            "39\n",
            "7\n"
          ]
        }
      ]
    },
    {
      "cell_type": "code",
      "source": [
        "#Write a Python Program to get 5 Words from the user. Iterate that List to Display only those Word that starts with “b”\n",
        "\n",
        "word = list()\n",
        "\n",
        "for i in range(5):\n",
        "  z = input(f\"{i} Enter your words: \")\n",
        "\n",
        "  if z.startswith(\"b\"):\n",
        "    word.append(z)\n",
        "\n",
        "print(word)\n"
      ],
      "metadata": {
        "colab": {
          "base_uri": "https://localhost:8080/"
        },
        "id": "x-yH8-TXAmMR",
        "outputId": "d8c8cb13-a0d3-4873-9c6f-cae78aa68739"
      },
      "execution_count": null,
      "outputs": [
        {
          "output_type": "stream",
          "name": "stdout",
          "text": [
            "0 Enter your words: md;hj\n",
            "1 Enter your words: bkp\n",
            "2 Enter your words: [el\n",
            "3 Enter your words: dp,b\n",
            "4 Enter your words: bwkg\n",
            "['bkp', 'bwkg']\n"
          ]
        }
      ]
    },
    {
      "cell_type": "code",
      "source": [
        "lst = [3, 1, 5, 6, 7, 8, 9, 0]\n",
        "list1 = [x+1 for x in lst ]\n",
        "\n",
        "print(lst)"
      ],
      "metadata": {
        "colab": {
          "base_uri": "https://localhost:8080/"
        },
        "id": "YbFK78HfKKfp",
        "outputId": "61355be7-717b-4230-9fc0-dc1fa786c307"
      },
      "execution_count": null,
      "outputs": [
        {
          "output_type": "stream",
          "name": "stdout",
          "text": [
            "[3, 1, 5, 6, 7, 8, 9, 0]\n"
          ]
        }
      ]
    },
    {
      "cell_type": "code",
      "source": [
        "colors= ['yellow', 'pink', 'gray', 'white', 'black']\n",
        "\n",
        "fill_colors = [color for color in colors if 'w' in color]\n",
        "\n",
        "print(fill_colors)"
      ],
      "metadata": {
        "colab": {
          "base_uri": "https://localhost:8080/"
        },
        "id": "UVKx-c7UKYJY",
        "outputId": "b0120387-c15b-4640-9bea-65fef9dc17d9"
      },
      "execution_count": null,
      "outputs": [
        {
          "output_type": "stream",
          "name": "stdout",
          "text": [
            "['yellow', 'white']\n"
          ]
        }
      ]
    },
    {
      "cell_type": "code",
      "source": [
        "num = [5, 1, 4, 12, 3, 11, 6, 8, 9, 10, 15, 17, 31]\n",
        "list3 = [i for i in num if i%2==1 if i%5 ==0 ]\n",
        "\n",
        "print(list3)"
      ],
      "metadata": {
        "colab": {
          "base_uri": "https://localhost:8080/"
        },
        "id": "geYioDmmKYMo",
        "outputId": "73173c91-8fd6-4695-92d2-57e9925d96d3"
      },
      "execution_count": null,
      "outputs": [
        {
          "output_type": "stream",
          "name": "stdout",
          "text": [
            "[5, 15]\n"
          ]
        }
      ]
    },
    {
      "cell_type": "code",
      "source": [
        "# Write a Python Program to get only Even Numbers from another List which Contains Numbers from 1 to 20 using List Comprehension\n",
        "\n",
        "fl_lst = [x for x in num if x%2 == 0 if x >= 1 and x<=20]\n",
        "\n",
        "print(fl_lst)"
      ],
      "metadata": {
        "colab": {
          "base_uri": "https://localhost:8080/"
        },
        "id": "PWFxLYb5KYTJ",
        "outputId": "1437a58e-090d-4075-e640-fdc8c4d0034f"
      },
      "execution_count": null,
      "outputs": [
        {
          "output_type": "stream",
          "name": "stdout",
          "text": [
            "[4, 12, 6, 8, 10]\n"
          ]
        }
      ]
    },
    {
      "cell_type": "code",
      "source": [
        "# Write a Python Program to get only Students Name with starting Character ‘a’ From a Complete List of Students using List Comprehension.\n",
        "\n",
        "colors= ['yellow', 'wink', 'gray', 'white', 'black']\n",
        "\n",
        "fill_colors = [color for color in colors if color.startswith('w')]\n",
        "\n",
        "print(fill_colors)"
      ],
      "metadata": {
        "colab": {
          "base_uri": "https://localhost:8080/"
        },
        "id": "x50Go9hlMm0U",
        "outputId": "d1124ddc-07ac-468b-99a4-23e8081b70bd"
      },
      "execution_count": null,
      "outputs": [
        {
          "output_type": "stream",
          "name": "stdout",
          "text": [
            "['wink', 'white']\n"
          ]
        }
      ]
    },
    {
      "cell_type": "code",
      "source": [],
      "metadata": {
        "id": "159NPhDYW5cw"
      },
      "execution_count": null,
      "outputs": []
    },
    {
      "cell_type": "code",
      "source": [
        "num = [5, 1, 4, 12, 3, 11, 6, 8, 9, 10, 15, 1colors= ['yellow', 'pink', 'gray', 'white', 'black']\n",
        "\n",
        "fill_colors = [color for color in colors if 'w' in color]\n",
        "\n",
        "print(fill_colors)7, 31]\n",
        "\n",
        "num1 = num\n",
        "\n",
        "\n",
        "print(num)\n",
        "\n",
        "print(num.clear()) #copy & assign same na\n",
        "\n",
        "num2 = num.copy()\n",
        "print(num2)\n"
      ],
      "metadata": {
        "colab": {
          "base_uri": "https://localhost:8080/"
        },
        "id": "0NH4PVi_Nu-3",
        "outputId": "107cdc25-b1df-49e9-d0ef-1e8ecc2ad832"
      },
      "execution_count": null,
      "outputs": [
        {
          "output_type": "stream",
          "name": "stdout",
          "text": [
            "[5, 1, 4, 12, 3, 11, 6, 8, 9, 10, 15, 17, 31]\n",
            "None\n",
            "[]\n"
          ]
        }
      ]
    },
    {
      "cell_type": "code",
      "source": [
        "#Write a Python Program to get 5 items from user to store in a list. User should be able to remove first item of the list.\n",
        "\n",
        "box = list()\n",
        "\n",
        "for i in range(5):\n",
        "  box.append(input(\"Enter your word: \"))\n",
        "\n",
        "\n",
        "box.remove(box[0])\n",
        "print(box)\n",
        "\n"
      ],
      "metadata": {
        "colab": {
          "base_uri": "https://localhost:8080/"
        },
        "id": "E2JPegKnW47m",
        "outputId": "94df49c4-0eef-43b2-b4ff-270948c0128b"
      },
      "execution_count": null,
      "outputs": [
        {
          "output_type": "stream",
          "name": "stdout",
          "text": [
            "Enter your word: mbnfm\n",
            "Enter your word: dg\n",
            "Enter your word: b;nd\n",
            "Enter your word: mclb;m \n",
            "Enter your word: b nk\n",
            "['dg', 'b;nd', 'mclb;m ', 'b nk']\n"
          ]
        }
      ]
    },
    {
      "cell_type": "code",
      "source": [
        "#Program to get 5 integer numbers from user and store in a list, display that number using for loop, every number should display with its square\n",
        "\n",
        "box = list()\n",
        "\n",
        "for i in range(5):\n",
        "  box.append(int(input(\"Enter your word: \")))\n",
        "\n",
        "  box[i] = box[i] * box[i] #[x*x for x in box]\n",
        "print(box)\n"
      ],
      "metadata": {
        "colab": {
          "base_uri": "https://localhost:8080/"
        },
        "id": "kbZLNvwjaCUZ",
        "outputId": "0b443c51-6ffb-443e-8711-d2b5b13d9333"
      },
      "execution_count": null,
      "outputs": [
        {
          "output_type": "stream",
          "name": "stdout",
          "text": [
            "Enter your word: 12\n",
            "Enter your word: 4\n",
            "Enter your word: 5\n",
            "Enter your word: 11\n",
            "Enter your word: 5\n",
            "[144, 16, 25, 121, 25]\n"
          ]
        }
      ]
    },
    {
      "cell_type": "code",
      "source": [
        "#Program to get 5 integer numbers from user and store in a list, display that number using for loop, every number should display with its square\n",
        "\n",
        "box = list()\n",
        "\n",
        "for i in range(5):\n",
        "  box.append(int(input(\"Enter your word: \")))\n",
        "\n",
        "box = [x*x for x in box]\n",
        "print(box)"
      ],
      "metadata": {
        "colab": {
          "base_uri": "https://localhost:8080/"
        },
        "id": "7MNgbvhrbJI3",
        "outputId": "dbf3f071-ff2b-4f18-e9dd-3a65a2ccb0e4"
      },
      "execution_count": null,
      "outputs": [
        {
          "output_type": "stream",
          "name": "stdout",
          "text": [
            "Enter your word: 12\n",
            "Enter your word: 45\n",
            "Enter your word: 8\n",
            "Enter your word: 7\n",
            "Enter your word: 3\n",
            "[144, 2025, 64, 49, 9]\n"
          ]
        }
      ]
    },
    {
      "cell_type": "code",
      "source": [
        "#Write a Python Program to get  5 words from user, display that word which ends with ‘n’ character\n",
        "\n",
        "\n",
        "box = list()\n",
        "\n",
        "for i in range(5):\n",
        "\n",
        "  box.append(input(\"Enter your word: \"))\n",
        "\n",
        "\n",
        "box as= [i for i in box if i.endswith('n')]\n",
        "print(box)\n"
      ],
      "metadata": {
        "colab": {
          "base_uri": "https://localhost:8080/"
        },
        "id": "vfZ-JpX_ay9E",
        "outputId": "c8473304-aa10-4f29-8454-f0f04e9b9007"
      },
      "execution_count": null,
      "outputs": [
        {
          "output_type": "stream",
          "name": "stdout",
          "text": [
            "Enter your word: ngjg\n",
            "Enter your word: gjgjm\n",
            "Enter your word: dkpn\n",
            "Enter your word: fjdf\n",
            "Enter your word: joojgn\n",
            "['dkpn', 'joojgn']\n"
          ]
        }
      ]
    },
    {
      "cell_type": "code",
      "source": [
        "#Write a Python Program in which user is able to modify any item of list\n",
        "\n",
        "lst = [\"St\", \"vhi\", \"dj\", \"sjm\"]\n",
        "a = int(input(\"Enter index to chage: \"))\n",
        "b = input(\"Enter modifying: \")\n",
        "\n",
        "lst.insert(a, b)\n",
        "\n",
        "print(lst)"
      ],
      "metadata": {
        "colab": {
          "base_uri": "https://localhost:8080/"
        },
        "id": "rkeHQZ7NcsEU",
        "outputId": "a921233d-0b61-4894-dc89-0ff14ca3eff2"
      },
      "execution_count": null,
      "outputs": [
        {
          "output_type": "stream",
          "name": "stdout",
          "text": [
            "Enter index to chage: 1\n",
            "Enter modifying: d\n",
            "['St', 'd', 'vhi', 'dj', 'sjm']\n"
          ]
        }
      ]
    },
    {
      "cell_type": "code",
      "source": [
        "#Write a Python Program in which user is able to modify any item of list\n",
        "\n",
        "lst = [\"St\", \"vhi\", \"dj\", \"sjm\"]\n",
        "indx = lst.index(\"St\")\n",
        "lst[indx]= \"KKK\"\n",
        "\n",
        "print(lst)"
      ],
      "metadata": {
        "colab": {
          "base_uri": "https://localhost:8080/"
        },
        "id": "SPZW_5bPdrLI",
        "outputId": "6c054fbb-34dc-4458-afa6-73ea4846a4ed"
      },
      "execution_count": null,
      "outputs": [
        {
          "output_type": "stream",
          "name": "stdout",
          "text": [
            "['KKK', 'vhi', 'dj', 'sjm']\n"
          ]
        }
      ]
    },
    {
      "cell_type": "code",
      "source": [
        "#Write a Python Program in which user is able to delete any element from a list.\n",
        "\n",
        "lst = [\"St\", \"vhi\", \"dj\", \"sjm\"]\n",
        "indx = lst.index(\"St\")\n",
        "lst.remove(lst[indx])\n",
        "print(lst)"
      ],
      "metadata": {
        "colab": {
          "base_uri": "https://localhost:8080/"
        },
        "id": "ka6zNF81eF-J",
        "outputId": "a7aebe1a-d7e7-4781-c4d3-0de8f373c369"
      },
      "execution_count": null,
      "outputs": [
        {
          "output_type": "stream",
          "name": "stdout",
          "text": [
            "['vhi', 'dj', 'sjm']\n"
          ]
        }
      ]
    },
    {
      "cell_type": "code",
      "source": [
        "#Write a Python Program in which user is able to delete any element from a list.\n",
        "\n",
        "lst = [\"St\", \"vhi\", \"dj\", \"sjm\"]\n",
        "lst.remove(\"St\")\n",
        "print(lst)"
      ],
      "metadata": {
        "colab": {
          "base_uri": "https://localhost:8080/"
        },
        "id": "UvOPZxWVejkq",
        "outputId": "e19aba42-8900-4aa5-fe57-76cf704f71ee"
      },
      "execution_count": null,
      "outputs": [
        {
          "output_type": "stream",
          "name": "stdout",
          "text": [
            "['vhi', 'dj', 'sjm']\n"
          ]
        }
      ]
    },
    {
      "cell_type": "code",
      "source": [
        "#From stephen.marquars@uct.ac.za Sat Jan 5 03:1416 2008 extract uctacza\n",
        "ab = \"stephen.marquars@uct.ac.za Sat Jan 5 03:1416 2008\"\n",
        "abc = list(ab)\n",
        "\n",
        "print((str(abc[19: 26])))"
      ],
      "metadata": {
        "colab": {
          "base_uri": "https://localhost:8080/"
        },
        "id": "UbYdFbn9f7rN",
        "outputId": "c8129495-00f2-4799-9e75-d9363a202376"
      },
      "execution_count": null,
      "outputs": [
        {
          "output_type": "stream",
          "name": "stdout",
          "text": [
            "['t', '.', 'a', 'c', '.', 'z', 'a']\n"
          ]
        }
      ]
    },
    {
      "cell_type": "code",
      "source": [
        "str_ = \"stephen.marquars@uct.ac.za Sat Jan 5 03:1416 2008\"\n",
        "\n",
        "lst = str_.split(\" \")\n",
        "word = [word for word in lst if \"@\" in word]\n",
        "word = str(word)\n",
        "word = [word.split(\"@\") in word]\n",
        "\n",
        "word = str(word)\n",
        "word = word.split(\"@\")"
      ],
      "metadata": {
        "id": "5qC3QKjihUew"
      },
      "execution_count": null,
      "outputs": []
    },
    {
      "cell_type": "code",
      "source": [
        "print(list)\n",
        "\n",
        "dir(list)"
      ],
      "metadata": {
        "id": "f-PTW0ChRrP8",
        "outputId": "7e00f13d-e054-41aa-a656-da8b7100e95d",
        "colab": {
          "base_uri": "https://localhost:8080/"
        }
      },
      "execution_count": null,
      "outputs": [
        {
          "output_type": "stream",
          "name": "stdout",
          "text": [
            "<class 'list'>\n"
          ]
        },
        {
          "output_type": "execute_result",
          "data": {
            "text/plain": [
              "['__add__',\n",
              " '__class__',\n",
              " '__class_getitem__',\n",
              " '__contains__',\n",
              " '__delattr__',\n",
              " '__delitem__',\n",
              " '__dir__',\n",
              " '__doc__',\n",
              " '__eq__',\n",
              " '__format__',\n",
              " '__ge__',\n",
              " '__getattribute__',\n",
              " '__getitem__',\n",
              " '__getstate__',\n",
              " '__gt__',\n",
              " '__hash__',\n",
              " '__iadd__',\n",
              " '__imul__',\n",
              " '__init__',\n",
              " '__init_subclass__',\n",
              " '__iter__',\n",
              " '__le__',\n",
              " '__len__',\n",
              " '__lt__',\n",
              " '__mul__',\n",
              " '__ne__',\n",
              " '__new__',\n",
              " '__reduce__',\n",
              " '__reduce_ex__',\n",
              " '__repr__',\n",
              " '__reversed__',\n",
              " '__rmul__',\n",
              " '__setattr__',\n",
              " '__setitem__',\n",
              " '__sizeof__',\n",
              " '__str__',\n",
              " '__subclasshook__',\n",
              " 'append',\n",
              " 'clear',\n",
              " 'copy',\n",
              " 'count',\n",
              " 'extend',\n",
              " 'index',\n",
              " 'insert',\n",
              " 'pop',\n",
              " 'remove',\n",
              " 'reverse',\n",
              " 'sort']"
            ]
          },
          "metadata": {},
          "execution_count": 1
        }
      ]
    }
  ]
}