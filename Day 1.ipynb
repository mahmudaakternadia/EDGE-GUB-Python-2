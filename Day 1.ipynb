{
 "cells": [
  {
   "cell_type": "code",
   "execution_count": 4,
   "id": "65d5ebeb",
   "metadata": {},
   "outputs": [
    {
     "name": "stdout",
     "output_type": "stream",
     "text": [
      "Enter your name: Nadia\n",
      "My name is Nadia\n"
     ]
    }
   ],
   "source": [
    "Name = input (\"Enter your name: \")\n",
    "print(\"My name is \" + Name)"
   ]
  },
  {
   "cell_type": "code",
   "execution_count": 6,
   "id": "6afa1d77",
   "metadata": {},
   "outputs": [
    {
     "name": "stdout",
     "output_type": "stream",
     "text": [
      "Enter your name: Zara\n",
      "Enter your age: 18\n",
      "My name is Zara. I am 18 years old.\n"
     ]
    }
   ],
   "source": [
    "Name1 = input (\"Enter your name: \")\n",
    "Age = input (\"Enter your age: \")\n",
    "\n",
    "print(\"My name is \" + Name1 + \". I am \" \n",
    "     + Age + \" years old.\")"
   ]
  },
  {
   "cell_type": "code",
   "execution_count": 7,
   "id": "586307c9",
   "metadata": {},
   "outputs": [
    {
     "name": "stdout",
     "output_type": "stream",
     "text": [
      "Enter a number: 50\n",
      "Enter another number: 385\n",
      "435\n"
     ]
    }
   ],
   "source": [
    "a = int (input(\"Enter a number: \"))\n",
    "b = int (input(\"Enter another number: \"))\n",
    "\n",
    "total_sum = a+b\n",
    "print(total_sum)"
   ]
  }
 ],
 "metadata": {
  "kernelspec": {
   "display_name": "Python 3 (ipykernel)",
   "language": "python",
   "name": "python3"
  },
  "language_info": {
   "codemirror_mode": {
    "name": "ipython",
    "version": 3
   },
   "file_extension": ".py",
   "mimetype": "text/x-python",
   "name": "python",
   "nbconvert_exporter": "python",
   "pygments_lexer": "ipython3",
   "version": "3.11.3"
  }
 },
 "nbformat": 4,
 "nbformat_minor": 5
}
