{
  "nbformat": 4,
  "nbformat_minor": 0,
  "metadata": {
    "colab": {
      "provenance": []
    },
    "kernelspec": {
      "name": "python3",
      "display_name": "Python 3"
    },
    "language_info": {
      "name": "python"
    }
  },
  "cells": [
    {
      "cell_type": "code",
      "source": [
        "import random\n",
        "import pandas as pd\n",
        "\n",
        "# Define the list of pick-drop points\n",
        "pick_drop_points = [\n",
        "    \"Shewrapara (City Campus)\",\n",
        "    \"Mirpur-10 (Metro Station)\",\n",
        "    \"Zigatola (15 No. Bus Stand)\",\n",
        "    \"Azimpur (Nilkhet)\",\n",
        "    \"Moti Jhil (Janta Bank)\",\n",
        "    \"Gulistan (Hockey Stadium)\",\n",
        "    \"Shonir Akhra (Under Pass)\",\n",
        "    \"Abdullahpur (Bus Stand)\",\n",
        "    \"Narshingdi (Bus Stand)\",\n",
        "    \"Gazipur (Gazipur Circle)\",\n",
        "    \"Shahbag (PG Hospital)\",\n",
        "    \"Narayanganj\",\n",
        "    \"Shuttle Bus(Kuril or Gauchia)\"\n",
        "]\n",
        "\n",
        "# Generate 179 random pick-drop points\n",
        "random_pick_drop_points = [random.choice(pick_drop_points) for _ in range(179)]\n",
        "\n",
        "# Create a DataFrame for the pick-drop points\n",
        "df = pd.DataFrame(random_pick_drop_points, columns=[\"Pick-Drop Point\"])\n",
        "\n",
        "# Save the DataFrame to an Excel file\n",
        "df.to_excel(\"pick_drop_points.xlsx\", index=False)\n",
        "\n",
        "# Print a success message\n",
        "print(\"The pick-drop points have been saved to 'pick_drop_points.xlsx'.\")\n"
      ],
      "metadata": {
        "colab": {
          "base_uri": "https://localhost:8080/"
        },
        "id": "AJ9qoIs5-E_6",
        "outputId": "9d044e3f-6f70-49e9-e7a2-6bd1d5d07fce"
      },
      "execution_count": null,
      "outputs": [
        {
          "output_type": "stream",
          "name": "stdout",
          "text": [
            "The pick-drop points have been saved to 'pick_drop_points.xlsx'.\n"
          ]
        }
      ]
    },
    {
      "cell_type": "code",
      "source": [
        "from google.colab import files\n",
        "files.download(\"pick_drop_points.xlsx\")"
      ],
      "metadata": {
        "colab": {
          "base_uri": "https://localhost:8080/",
          "height": 34
        },
        "id": "4S_gAT7c_Yap",
        "outputId": "25356026-03d4-4a01-86c2-5924ac8ebf13"
      },
      "execution_count": null,
      "outputs": [
        {
          "output_type": "display_data",
          "data": {
            "text/plain": [
              "<IPython.core.display.Javascript object>"
            ],
            "application/javascript": [
              "\n",
              "    async function download(id, filename, size) {\n",
              "      if (!google.colab.kernel.accessAllowed) {\n",
              "        return;\n",
              "      }\n",
              "      const div = document.createElement('div');\n",
              "      const label = document.createElement('label');\n",
              "      label.textContent = `Downloading \"${filename}\": `;\n",
              "      div.appendChild(label);\n",
              "      const progress = document.createElement('progress');\n",
              "      progress.max = size;\n",
              "      div.appendChild(progress);\n",
              "      document.body.appendChild(div);\n",
              "\n",
              "      const buffers = [];\n",
              "      let downloaded = 0;\n",
              "\n",
              "      const channel = await google.colab.kernel.comms.open(id);\n",
              "      // Send a message to notify the kernel that we're ready.\n",
              "      channel.send({})\n",
              "\n",
              "      for await (const message of channel.messages) {\n",
              "        // Send a message to notify the kernel that we're ready.\n",
              "        channel.send({})\n",
              "        if (message.buffers) {\n",
              "          for (const buffer of message.buffers) {\n",
              "            buffers.push(buffer);\n",
              "            downloaded += buffer.byteLength;\n",
              "            progress.value = downloaded;\n",
              "          }\n",
              "        }\n",
              "      }\n",
              "      const blob = new Blob(buffers, {type: 'application/binary'});\n",
              "      const a = document.createElement('a');\n",
              "      a.href = window.URL.createObjectURL(blob);\n",
              "      a.download = filename;\n",
              "      div.appendChild(a);\n",
              "      a.click();\n",
              "      div.remove();\n",
              "    }\n",
              "  "
            ]
          },
          "metadata": {}
        },
        {
          "output_type": "display_data",
          "data": {
            "text/plain": [
              "<IPython.core.display.Javascript object>"
            ],
            "application/javascript": [
              "download(\"download_ec33b52e-258a-4351-9bf5-107454a55e50\", \"pick_drop_points.xlsx\", 6482)"
            ]
          },
          "metadata": {}
        }
      ]
    },
    {
      "cell_type": "code",
      "source": [
        "from google.colab import files\n",
        "\n",
        "# Upload the file\n",
        "uploaded = files.upload()"
      ],
      "metadata": {
        "colab": {
          "base_uri": "https://localhost:8080/",
          "height": 73
        },
        "id": "8DLqChlBLH3C",
        "outputId": "992b0592-9d7c-4ae2-a90f-b558963ab11a"
      },
      "execution_count": null,
      "outputs": [
        {
          "output_type": "display_data",
          "data": {
            "text/plain": [
              "<IPython.core.display.HTML object>"
            ],
            "text/html": [
              "\n",
              "     <input type=\"file\" id=\"files-f70b1ae9-2b61-46bc-a4fe-b0a200c4a5c8\" name=\"files[]\" multiple disabled\n",
              "        style=\"border:none\" />\n",
              "     <output id=\"result-f70b1ae9-2b61-46bc-a4fe-b0a200c4a5c8\">\n",
              "      Upload widget is only available when the cell has been executed in the\n",
              "      current browser session. Please rerun this cell to enable.\n",
              "      </output>\n",
              "      <script>// Copyright 2017 Google LLC\n",
              "//\n",
              "// Licensed under the Apache License, Version 2.0 (the \"License\");\n",
              "// you may not use this file except in compliance with the License.\n",
              "// You may obtain a copy of the License at\n",
              "//\n",
              "//      http://www.apache.org/licenses/LICENSE-2.0\n",
              "//\n",
              "// Unless required by applicable law or agreed to in writing, software\n",
              "// distributed under the License is distributed on an \"AS IS\" BASIS,\n",
              "// WITHOUT WARRANTIES OR CONDITIONS OF ANY KIND, either express or implied.\n",
              "// See the License for the specific language governing permissions and\n",
              "// limitations under the License.\n",
              "\n",
              "/**\n",
              " * @fileoverview Helpers for google.colab Python module.\n",
              " */\n",
              "(function(scope) {\n",
              "function span(text, styleAttributes = {}) {\n",
              "  const element = document.createElement('span');\n",
              "  element.textContent = text;\n",
              "  for (const key of Object.keys(styleAttributes)) {\n",
              "    element.style[key] = styleAttributes[key];\n",
              "  }\n",
              "  return element;\n",
              "}\n",
              "\n",
              "// Max number of bytes which will be uploaded at a time.\n",
              "const MAX_PAYLOAD_SIZE = 100 * 1024;\n",
              "\n",
              "function _uploadFiles(inputId, outputId) {\n",
              "  const steps = uploadFilesStep(inputId, outputId);\n",
              "  const outputElement = document.getElementById(outputId);\n",
              "  // Cache steps on the outputElement to make it available for the next call\n",
              "  // to uploadFilesContinue from Python.\n",
              "  outputElement.steps = steps;\n",
              "\n",
              "  return _uploadFilesContinue(outputId);\n",
              "}\n",
              "\n",
              "// This is roughly an async generator (not supported in the browser yet),\n",
              "// where there are multiple asynchronous steps and the Python side is going\n",
              "// to poll for completion of each step.\n",
              "// This uses a Promise to block the python side on completion of each step,\n",
              "// then passes the result of the previous step as the input to the next step.\n",
              "function _uploadFilesContinue(outputId) {\n",
              "  const outputElement = document.getElementById(outputId);\n",
              "  const steps = outputElement.steps;\n",
              "\n",
              "  const next = steps.next(outputElement.lastPromiseValue);\n",
              "  return Promise.resolve(next.value.promise).then((value) => {\n",
              "    // Cache the last promise value to make it available to the next\n",
              "    // step of the generator.\n",
              "    outputElement.lastPromiseValue = value;\n",
              "    return next.value.response;\n",
              "  });\n",
              "}\n",
              "\n",
              "/**\n",
              " * Generator function which is called between each async step of the upload\n",
              " * process.\n",
              " * @param {string} inputId Element ID of the input file picker element.\n",
              " * @param {string} outputId Element ID of the output display.\n",
              " * @return {!Iterable<!Object>} Iterable of next steps.\n",
              " */\n",
              "function* uploadFilesStep(inputId, outputId) {\n",
              "  const inputElement = document.getElementById(inputId);\n",
              "  inputElement.disabled = false;\n",
              "\n",
              "  const outputElement = document.getElementById(outputId);\n",
              "  outputElement.innerHTML = '';\n",
              "\n",
              "  const pickedPromise = new Promise((resolve) => {\n",
              "    inputElement.addEventListener('change', (e) => {\n",
              "      resolve(e.target.files);\n",
              "    });\n",
              "  });\n",
              "\n",
              "  const cancel = document.createElement('button');\n",
              "  inputElement.parentElement.appendChild(cancel);\n",
              "  cancel.textContent = 'Cancel upload';\n",
              "  const cancelPromise = new Promise((resolve) => {\n",
              "    cancel.onclick = () => {\n",
              "      resolve(null);\n",
              "    };\n",
              "  });\n",
              "\n",
              "  // Wait for the user to pick the files.\n",
              "  const files = yield {\n",
              "    promise: Promise.race([pickedPromise, cancelPromise]),\n",
              "    response: {\n",
              "      action: 'starting',\n",
              "    }\n",
              "  };\n",
              "\n",
              "  cancel.remove();\n",
              "\n",
              "  // Disable the input element since further picks are not allowed.\n",
              "  inputElement.disabled = true;\n",
              "\n",
              "  if (!files) {\n",
              "    return {\n",
              "      response: {\n",
              "        action: 'complete',\n",
              "      }\n",
              "    };\n",
              "  }\n",
              "\n",
              "  for (const file of files) {\n",
              "    const li = document.createElement('li');\n",
              "    li.append(span(file.name, {fontWeight: 'bold'}));\n",
              "    li.append(span(\n",
              "        `(${file.type || 'n/a'}) - ${file.size} bytes, ` +\n",
              "        `last modified: ${\n",
              "            file.lastModifiedDate ? file.lastModifiedDate.toLocaleDateString() :\n",
              "                                    'n/a'} - `));\n",
              "    const percent = span('0% done');\n",
              "    li.appendChild(percent);\n",
              "\n",
              "    outputElement.appendChild(li);\n",
              "\n",
              "    const fileDataPromise = new Promise((resolve) => {\n",
              "      const reader = new FileReader();\n",
              "      reader.onload = (e) => {\n",
              "        resolve(e.target.result);\n",
              "      };\n",
              "      reader.readAsArrayBuffer(file);\n",
              "    });\n",
              "    // Wait for the data to be ready.\n",
              "    let fileData = yield {\n",
              "      promise: fileDataPromise,\n",
              "      response: {\n",
              "        action: 'continue',\n",
              "      }\n",
              "    };\n",
              "\n",
              "    // Use a chunked sending to avoid message size limits. See b/62115660.\n",
              "    let position = 0;\n",
              "    do {\n",
              "      const length = Math.min(fileData.byteLength - position, MAX_PAYLOAD_SIZE);\n",
              "      const chunk = new Uint8Array(fileData, position, length);\n",
              "      position += length;\n",
              "\n",
              "      const base64 = btoa(String.fromCharCode.apply(null, chunk));\n",
              "      yield {\n",
              "        response: {\n",
              "          action: 'append',\n",
              "          file: file.name,\n",
              "          data: base64,\n",
              "        },\n",
              "      };\n",
              "\n",
              "      let percentDone = fileData.byteLength === 0 ?\n",
              "          100 :\n",
              "          Math.round((position / fileData.byteLength) * 100);\n",
              "      percent.textContent = `${percentDone}% done`;\n",
              "\n",
              "    } while (position < fileData.byteLength);\n",
              "  }\n",
              "\n",
              "  // All done.\n",
              "  yield {\n",
              "    response: {\n",
              "      action: 'complete',\n",
              "    }\n",
              "  };\n",
              "}\n",
              "\n",
              "scope.google = scope.google || {};\n",
              "scope.google.colab = scope.google.colab || {};\n",
              "scope.google.colab._files = {\n",
              "  _uploadFiles,\n",
              "  _uploadFilesContinue,\n",
              "};\n",
              "})(self);\n",
              "</script> "
            ]
          },
          "metadata": {}
        },
        {
          "output_type": "stream",
          "name": "stdout",
          "text": [
            "Saving participants.csv to participants.csv\n"
          ]
        }
      ]
    },
    {
      "cell_type": "code",
      "source": [
        "import pandas as pd\n",
        "\n",
        "# Load the CSV file\n",
        "df = pd.read_csv(\"participants.csv\")\n",
        "print(df.head())  # Display the first few rows\n"
      ],
      "metadata": {
        "colab": {
          "base_uri": "https://localhost:8080/"
        },
        "id": "089bb56-McTY",
        "outputId": "3b8bb1e2-6306-478f-f2aa-b589a95b24f9"
      },
      "execution_count": null,
      "outputs": [
        {
          "output_type": "stream",
          "name": "stdout",
          "text": [
            "                      Name                       Email         Phone  \\\n",
            "0              Bakul Ahmed         Cyberbokul@gmail.com  01786685665   \n",
            "1       Taslim Ahmed Tamim   taslimahmed00033@gmail.com  01954896065   \n",
            "2                 Ayon Dey            ayondey200@gmail   01581271204   \n",
            "3                  shourov       asrshourov999@gmail.cm  01705249560   \n",
            "4  Md.Sajjad Mahmud Suton   sajjadmahmudsuton@gmail.com  01968161494   \n",
            "\n",
            "         PickUp_DropUp_Point    StudentID  Unnamed: 5  Unnamed: 6  \n",
            "0  Gulistan (Hockey Stadium)  232002184.0         NaN         NaN  \n",
            "1      Shahbag (PG Hospital)  232002105.0         NaN         NaN  \n",
            "2     Moti Jhil (Janta Bank)  232002236.0         NaN         NaN  \n",
            "3      Shahbag (PG Hospital)  221002619.0         NaN         NaN  \n",
            "4   Gazipur (Gazipur Circle)  232002218.0         NaN         NaN  \n"
          ]
        }
      ]
    },
    {
      "cell_type": "code",
      "source": [
        "import pandas as pd\n",
        "\n",
        "# Step 1: Read the CSV file\n",
        "df = pd.read_csv(\"participants.csv\")  # Adjust the file name if needed\n",
        "\n",
        "# Step 2: Remove duplicates\n",
        "df_cleaned = df.drop_duplicates()\n",
        "\n",
        "# Step 3: Export the cleaned DataFrame to a new CSV file\n",
        "output_file = \"participants_cleaned.csv\"\n",
        "df_cleaned.to_csv(output_file, index=False)\n",
        "\n",
        "# Step 4: Download the file\n",
        "from google.colab import files\n",
        "files.download(output_file)\n"
      ],
      "metadata": {
        "colab": {
          "base_uri": "https://localhost:8080/",
          "height": 17
        },
        "id": "55Bt6NtMMgJ0",
        "outputId": "fc6387ac-94ee-4453-9a0e-5fe927512f20"
      },
      "execution_count": null,
      "outputs": [
        {
          "output_type": "display_data",
          "data": {
            "text/plain": [
              "<IPython.core.display.Javascript object>"
            ],
            "application/javascript": [
              "\n",
              "    async function download(id, filename, size) {\n",
              "      if (!google.colab.kernel.accessAllowed) {\n",
              "        return;\n",
              "      }\n",
              "      const div = document.createElement('div');\n",
              "      const label = document.createElement('label');\n",
              "      label.textContent = `Downloading \"${filename}\": `;\n",
              "      div.appendChild(label);\n",
              "      const progress = document.createElement('progress');\n",
              "      progress.max = size;\n",
              "      div.appendChild(progress);\n",
              "      document.body.appendChild(div);\n",
              "\n",
              "      const buffers = [];\n",
              "      let downloaded = 0;\n",
              "\n",
              "      const channel = await google.colab.kernel.comms.open(id);\n",
              "      // Send a message to notify the kernel that we're ready.\n",
              "      channel.send({})\n",
              "\n",
              "      for await (const message of channel.messages) {\n",
              "        // Send a message to notify the kernel that we're ready.\n",
              "        channel.send({})\n",
              "        if (message.buffers) {\n",
              "          for (const buffer of message.buffers) {\n",
              "            buffers.push(buffer);\n",
              "            downloaded += buffer.byteLength;\n",
              "            progress.value = downloaded;\n",
              "          }\n",
              "        }\n",
              "      }\n",
              "      const blob = new Blob(buffers, {type: 'application/binary'});\n",
              "      const a = document.createElement('a');\n",
              "      a.href = window.URL.createObjectURL(blob);\n",
              "      a.download = filename;\n",
              "      div.appendChild(a);\n",
              "      a.click();\n",
              "      div.remove();\n",
              "    }\n",
              "  "
            ]
          },
          "metadata": {}
        },
        {
          "output_type": "display_data",
          "data": {
            "text/plain": [
              "<IPython.core.display.Javascript object>"
            ],
            "application/javascript": [
              "download(\"download_a6accb74-50d0-41e5-9730-217db97ee8aa\", \"participants_cleaned.csv\", 16266)"
            ]
          },
          "metadata": {}
        }
      ]
    },
    {
      "cell_type": "code",
      "execution_count": null,
      "metadata": {
        "colab": {
          "base_uri": "https://localhost:8080/"
        },
        "id": "1wJKrJrKIKXV",
        "outputId": "9a3714ea-4256-48ea-f0f6-7784225660e0"
      },
      "outputs": [
        {
          "output_type": "stream",
          "name": "stdout",
          "text": [
            "Enter marks: 47\n",
            "A\n"
          ]
        }
      ],
      "source": [
        "#Grading Mark\n",
        "\n",
        "mark = float(input(\"Enter marks: \"))\n",
        "\n",
        "if mark<0 or mark>100 :\n",
        "  print(\"Invalid mark\")\n",
        "\n",
        "elif mark>=80:\n",
        "  print(\"A+\")\n",
        "\n",
        "elif mark<=79:\n",
        "  print(\"A\")\n",
        "\n",
        "elif mark<40:\n",
        "  print(\"Need improvement\")\n",
        "\n",
        "else:\n",
        "  print(\"A-\")"
      ]
    },
    {
      "cell_type": "code",
      "source": [
        "#Interest\n",
        "\n",
        "p = float(input(\"Enter principal amount: \"))\n",
        "r = float(input(\"Enter interest rate: \"))\n",
        "y = int(input(\"Enter year: \"))\n",
        "\n",
        "interest = p*(r/100)*y\n",
        "\n",
        "print(\"Interest: \", interest)"
      ],
      "metadata": {
        "colab": {
          "base_uri": "https://localhost:8080/"
        },
        "id": "CtaNQbyEQlL4",
        "outputId": "13574d2c-74f8-4995-dd0d-e569e699b13e"
      },
      "execution_count": null,
      "outputs": [
        {
          "output_type": "stream",
          "name": "stdout",
          "text": [
            "Enter principal amount: 5000\n",
            "Enter interest rate: 5\n",
            "Enter year: 7\n",
            "Interest:  1750.0\n"
          ]
        }
      ]
    },
    {
      "cell_type": "code",
      "source": [
        "#Create a program that prints all even numbers between 1 and 100.\n",
        "\n",
        "for i in range (2, 100+1, 2):\n",
        "  print(i)"
      ],
      "metadata": {
        "colab": {
          "base_uri": "https://localhost:8080/"
        },
        "id": "OUzdQM2pSSzc",
        "outputId": "4d814278-b0ee-44b9-a20b-d1cbc95fa5b9"
      },
      "execution_count": null,
      "outputs": [
        {
          "output_type": "stream",
          "name": "stdout",
          "text": [
            "2\n",
            "4\n",
            "6\n",
            "8\n",
            "10\n",
            "12\n",
            "14\n",
            "16\n",
            "18\n",
            "20\n",
            "22\n",
            "24\n",
            "26\n",
            "28\n",
            "30\n",
            "32\n",
            "34\n",
            "36\n",
            "38\n",
            "40\n",
            "42\n",
            "44\n",
            "46\n",
            "48\n",
            "50\n",
            "52\n",
            "54\n",
            "56\n",
            "58\n",
            "60\n",
            "62\n",
            "64\n",
            "66\n",
            "68\n",
            "70\n",
            "72\n",
            "74\n",
            "76\n",
            "78\n",
            "80\n",
            "82\n",
            "84\n",
            "86\n",
            "88\n",
            "90\n",
            "92\n",
            "94\n",
            "96\n",
            "98\n",
            "100\n"
          ]
        }
      ]
    },
    {
      "cell_type": "code",
      "source": [
        "#Write a program that takes a number from the user and prints all its multiples upto 100 (from which the number can be divided)\n",
        "\n",
        "num = int(input(\"Enter number: \"))\n",
        "\n",
        "for i in range (1, num+1):\n",
        "  if (num % i == 0):\n",
        "    print(i)\n"
      ],
      "metadata": {
        "colab": {
          "base_uri": "https://localhost:8080/"
        },
        "id": "j5oH9e0TSYmQ",
        "outputId": "49b6ce35-f57c-45de-d249-4cdf38653060"
      },
      "execution_count": null,
      "outputs": [
        {
          "output_type": "stream",
          "name": "stdout",
          "text": [
            "Enter number: 100\n",
            "1\n",
            "2\n",
            "4\n",
            "5\n",
            "10\n",
            "20\n",
            "25\n",
            "50\n",
            "100\n"
          ]
        }
      ]
    },
    {
      "cell_type": "code",
      "source": [
        "#Write a program that takes a number from the user and counts down to zero, printing each number\n",
        "\n",
        "count_down = int(input(\"Enter number: \"))\n",
        "\n",
        "while (count_down >= 0):\n",
        "  print(count_down)\n",
        "  count_down -= 1"
      ],
      "metadata": {
        "colab": {
          "base_uri": "https://localhost:8080/"
        },
        "id": "MrTdsN2RUktq",
        "outputId": "767c593e-b99c-4405-d724-e8f7b94b3094"
      },
      "execution_count": null,
      "outputs": [
        {
          "output_type": "stream",
          "name": "stdout",
          "text": [
            "Enter number: 5\n",
            "5\n",
            "4\n",
            "3\n",
            "2\n",
            "1\n",
            "0\n"
          ]
        }
      ]
    },
    {
      "cell_type": "code",
      "source": [
        "#Develop a program that computes the factorial of a given non-negative integer using a loop\n",
        "\n",
        "num = int(input(\"Enter number: \"))\n",
        "fact = 1\n",
        "\n",
        "while (num>0):\n",
        "  fact *= num\n",
        "  num -=1\n",
        "\n",
        "print(fact)"
      ],
      "metadata": {
        "colab": {
          "base_uri": "https://localhost:8080/"
        },
        "id": "BUPbez6NV53W",
        "outputId": "c7423f66-26c8-42d6-b6a2-0403d3300f00"
      },
      "execution_count": null,
      "outputs": [
        {
          "output_type": "stream",
          "name": "stdout",
          "text": [
            "Enter number: 5\n",
            "120\n"
          ]
        }
      ]
    },
    {
      "cell_type": "code",
      "source": [
        "#Write a program that checks whether a number entered by the user is prime\n",
        "\n",
        "import math\n",
        "\n",
        "num = int(input(\"Enter number: \"))\n",
        "\n",
        "prime = True\n",
        "\n",
        "for i in range (2, int(math.sqrt(num)+1)):\n",
        "  if (not (num%i )) :\n",
        "    prime = False\n",
        "    break\n",
        "\n",
        "if prime == True:\n",
        "  print(num, \" is Prime number\")\n",
        "\n",
        "else:\n",
        "  print(num, \" is not Prime number\")\n",
        "\n"
      ],
      "metadata": {
        "colab": {
          "base_uri": "https://localhost:8080/"
        },
        "id": "o5lQTBefWoRi",
        "outputId": "71d3ebc8-c866-427f-84c4-50e0801f6dc6"
      },
      "execution_count": null,
      "outputs": [
        {
          "output_type": "stream",
          "name": "stdout",
          "text": [
            "Enter number: 7\n",
            "7  is Prime number\n"
          ]
        }
      ]
    },
    {
      "cell_type": "code",
      "source": [
        "#Create a program that prints the Fibonacci sequence up to n terms, where n is provided by the user\n",
        "\n",
        "num = int(input(\"Enter number: \"))\n",
        "\n",
        "n1, n2 = 0, 1\n",
        "\n",
        "print(n1)\n",
        "\n",
        "if (num>1):\n",
        "  print(n2)\n",
        "\n",
        "for i in range (2, num):\n",
        "  print(n2)\n",
        "  n1 = n2\n",
        "  n2 = n1+n2\n",
        "\n"
      ],
      "metadata": {
        "colab": {
          "base_uri": "https://localhost:8080/"
        },
        "id": "yOLJtEmDaSlT",
        "outputId": "92591a8c-4f90-40af-ca53-2656775eb7e4"
      },
      "execution_count": null,
      "outputs": [
        {
          "output_type": "stream",
          "name": "stdout",
          "text": [
            "Enter number: 5\n",
            "0\n",
            "1\n",
            "1\n",
            "2\n",
            "4\n"
          ]
        }
      ]
    },
    {
      "cell_type": "code",
      "source": [
        "#Write a program that checks if a character entered by the user is a vowel or a consonant.\n",
        "\n",
        "box = \"scanner\"\n",
        "\n",
        "for i in box:\n",
        "  if (i == 'a' or i == 'e' or i == 'i' or i == 'o' or i == 'u' ) :\n",
        "    print (i,\" is Vowel\")\n",
        "\n",
        "  else:\n",
        "    print (i,\" is Consonat\")"
      ],
      "metadata": {
        "colab": {
          "base_uri": "https://localhost:8080/"
        },
        "id": "GdSFyssOgkNR",
        "outputId": "1becad0b-3e78-4ec5-8831-f18c4af90d00"
      },
      "execution_count": null,
      "outputs": [
        {
          "output_type": "stream",
          "name": "stdout",
          "text": [
            "s  is Consonat\n",
            "c  is Consonat\n",
            "a  is Vowel\n",
            "n  is Consonat\n",
            "n  is Consonat\n",
            "e  is Vowel\n",
            "r  is Consonat\n"
          ]
        }
      ]
    },
    {
      "cell_type": "code",
      "source": [
        "\n",
        "num = int(input(\"Enter number: \"))\n",
        "\n",
        "\n",
        "n1, n2 = 0, 1\n",
        "\n",
        "print(n1)\n",
        "\n",
        "\n",
        "if num > 1:\n",
        "    print(n2)\n",
        "\n",
        "for i in range(2, num):\n",
        "\n",
        "    print(n2)\n",
        "\n",
        "    n1, n2 = n2, n1 + n2\n"
      ],
      "metadata": {
        "colab": {
          "base_uri": "https://localhost:8080/"
        },
        "id": "t77rqbQNgkFL",
        "outputId": "1adde1ce-1a43-4c55-f2ea-ec26679628d5"
      },
      "execution_count": null,
      "outputs": [
        {
          "output_type": "stream",
          "name": "stdout",
          "text": [
            "Enter number: 5\n",
            "0\n",
            "1\n",
            "1\n",
            "1\n",
            "2\n"
          ]
        }
      ]
    },
    {
      "cell_type": "code",
      "source": [
        "#Guess number\n",
        "\n",
        "import random\n",
        "\n",
        "num_to_guess = random.randint(1, 100)\n",
        "guess = None\n",
        "\n",
        "while guess != num_to_guess:\n",
        "\n",
        "  guess = int(input(\"Enter number: \"))\n",
        "\n",
        "  if guess > num_to_guess:\n",
        "    print(\"Guess is high\")\n",
        "\n",
        "  elif (guess < num_to_guess):\n",
        "    print(\"Guess is low\")\n",
        "\n",
        "print(\"Congrats! You got in right\")\n"
      ],
      "metadata": {
        "colab": {
          "base_uri": "https://localhost:8080/"
        },
        "id": "B8hAd9W8h_cO",
        "outputId": "71b90768-d5a7-4f39-bfbc-7b533db3a414"
      },
      "execution_count": null,
      "outputs": [
        {
          "output_type": "stream",
          "name": "stdout",
          "text": [
            "Enter number: 50\n",
            "Guess is low\n",
            "Enter number: 80\n",
            "Guess is low\n",
            "Enter number: 95\n",
            "Guess is high\n",
            "Enter number: 90\n",
            "Guess is low\n",
            "Enter number: 93\n",
            "Guess is high\n",
            "Enter number: 92\n",
            "Guess is high\n",
            "Enter number: 91\n",
            "Congrats! You got in right\n"
          ]
        }
      ]
    },
    {
      "cell_type": "code",
      "source": [
        "#Develop a program that generates the multiplication table for a number\n",
        "\n",
        "num = int(input(\"Enter number: \"))\n",
        "\n",
        "for i in range (1, 11):\n",
        "  print(num, \"*\", i, \" = \", i*num)"
      ],
      "metadata": {
        "colab": {
          "base_uri": "https://localhost:8080/"
        },
        "id": "Mgm0CciFkMFz",
        "outputId": "b50b7a4f-4fca-4a8c-e7de-49f16d6a3e05"
      },
      "execution_count": null,
      "outputs": [
        {
          "output_type": "stream",
          "name": "stdout",
          "text": [
            "Enter number: 5\n",
            "5 * 1  =  5\n",
            "5 * 2  =  10\n",
            "5 * 3  =  15\n",
            "5 * 4  =  20\n",
            "5 * 5  =  25\n",
            "5 * 6  =  30\n",
            "5 * 7  =  35\n",
            "5 * 8  =  40\n",
            "5 * 9  =  45\n",
            "5 * 10  =  50\n"
          ]
        }
      ]
    },
    {
      "cell_type": "code",
      "source": [
        "#Write a program that counts how many times a specific character appears in a string entered by the user.\n",
        "\n",
        "box = input(\"Enter word: \")\n",
        "count = 0\n",
        "\n",
        "for i in box:\n",
        "  if i == \"a\" :\n",
        "    count +=1\n",
        "print(\"The character: a is there \", count, \" times\")"
      ],
      "metadata": {
        "colab": {
          "base_uri": "https://localhost:8080/"
        },
        "id": "Okx5_x5akwN0",
        "outputId": "77bd890b-1bd6-4c37-945b-b517d81eb059"
      },
      "execution_count": null,
      "outputs": [
        {
          "output_type": "stream",
          "name": "stdout",
          "text": [
            "Enter word: jnfsalgkg a66aa\n",
            "The character: a is there  4  times\n"
          ]
        }
      ]
    },
    {
      "cell_type": "code",
      "source": [
        "height = int(input(\"Enter yours: \"))\n",
        "\n",
        "count = 0\n",
        "\n",
        "for i in (height):\n",
        "  print(\"*\")\n",
        "\n"
      ],
      "metadata": {
        "id": "wImDLTiRoGUb"
      },
      "execution_count": null,
      "outputs": []
    },
    {
      "cell_type": "code",
      "source": [
        "word = input(\"Enter yours: \")\n",
        "\n",
        "if word == word [ : : -1]:\n",
        "  print(\"Palindrom\")\n",
        "\n",
        "else:\n",
        "  print(\"Not Palindrom\")\n",
        "\n"
      ],
      "metadata": {
        "colab": {
          "base_uri": "https://localhost:8080/"
        },
        "id": "Aev2X1KHnf_l",
        "outputId": "5fed4c9c-222e-4429-d794-44ecea2c1609"
      },
      "execution_count": null,
      "outputs": [
        {
          "output_type": "stream",
          "name": "stdout",
          "text": [
            "Enter yours: Mom\n",
            "Not Palindrom\n"
          ]
        }
      ]
    },
    {
      "cell_type": "code",
      "source": [
        "#Create a program that asks the user for a month (as a number) and checks how many days are in that month, considering leap years\n",
        "\n",
        "#month = int(input(\"Enter month number: \"))\n",
        "\n",
        "month = int(input(\"Enter month(1 to 12): \"))\n",
        "\n",
        "if month == 2:\n",
        "\n",
        "  year = int(input(\"Enter year: \"))\n",
        "\n",
        "  if (((not (year % 4)) and (year % 100)) or (not (year % 400))):\n",
        "    print(\"It is Leap Year. So, February has 29 days.\")\n",
        "\n",
        "  else:\n",
        "    print(\"It is Not Leap Year. So, February has 28 days.\")\n",
        "\n",
        "elif month in [4,6, 9, 11] :\n",
        "  print(f\"The month has 30 days.\")\n",
        "\n",
        "else:\n",
        "  print(f\"The month has 31 days.\")"
      ],
      "metadata": {
        "colab": {
          "base_uri": "https://localhost:8080/"
        },
        "id": "CUeogmS8pOBY",
        "outputId": "e2e869b3-a67c-4fd8-ef55-d0b8757949db"
      },
      "execution_count": null,
      "outputs": [
        {
          "output_type": "stream",
          "name": "stdout",
          "text": [
            "Enter month(1 to 12): 2\n",
            "Enter year: 2027\n",
            "It is Not Leap Year. So, February has 28 days.\n"
          ]
        }
      ]
    },
    {
      "cell_type": "code",
      "source": [
        "''' Write a program that takes an integer input from the user and checks if it is divisible\n",
        "by both 3 and 5. If it is, print ”Divisible by 3 and 5”; otherwise, print ”Not divisible by 3 and 5” '''\n",
        "\n",
        "\n",
        "num = int(input(\"Enter a integer: \"))\n",
        "\n",
        "if not(num % 3) and not (num % 5):\n",
        "  print(\"Divisible by 3 and 5\")\n",
        "\n",
        "else:\n",
        "  print(\"Not divisible by 3 and 5\")"
      ],
      "metadata": {
        "colab": {
          "base_uri": "https://localhost:8080/"
        },
        "id": "Vz5dEbUvX1MH",
        "outputId": "c88b23f1-faf2-45c8-8bb3-da3d1c73e8cf"
      },
      "execution_count": null,
      "outputs": [
        {
          "output_type": "stream",
          "name": "stdout",
          "text": [
            "Enter a integer: 15\n",
            "Divisible by 3 and 5\n"
          ]
        }
      ]
    },
    {
      "cell_type": "code",
      "source": [
        "\"\"\" Create a program that takes a positive integer from the user and calculates the sum of its\n",
        "digits. For example, if the user enters 123, the program should return 6. \"\"\"\n",
        "\n",
        "num = int(input(\"Enter a integer: \"))\n",
        "\n",
        "sum = 0\n",
        "\n",
        "while (num > 0) :\n",
        "  d = num % 10\n",
        "  print(\"Digits are: \", d)\n",
        "  num //= 10\n",
        "  sum += d\n",
        "\n",
        "print(\"Sum of digits: \", sum)\n",
        "\n"
      ],
      "metadata": {
        "colab": {
          "base_uri": "https://localhost:8080/"
        },
        "id": "uD2AVswOaz8d",
        "outputId": "590ef10c-5762-406b-f0e7-9ba38c8b0b7f"
      },
      "execution_count": null,
      "outputs": [
        {
          "output_type": "stream",
          "name": "stdout",
          "text": [
            "Enter a integer: 123\n",
            "Digits are:  3\n",
            "Digits are:  2\n",
            "Digits are:  1\n",
            "Sum of digits:  6\n"
          ]
        }
      ]
    },
    {
      "cell_type": "code",
      "source": [
        "#Count frequency of digits\n",
        "\n",
        "digit_list = [0, 0, 0, 0, 0, 0, 0, 0, 0, 0]\n",
        "num = int(input(\"Enter num: \"))\n",
        "\n",
        "while (num > 0):\n",
        "  d = num % 10\n",
        "  digit_list[d] += 1\n",
        "  num //= 10\n",
        "\n",
        "print(\"Frequency of Digits: \", digit_list)\n"
      ],
      "metadata": {
        "colab": {
          "base_uri": "https://localhost:8080/"
        },
        "id": "rxnOqQFQcYLN",
        "outputId": "373b0ae1-d893-45e8-f84a-9b1b58abd275"
      },
      "execution_count": null,
      "outputs": [
        {
          "output_type": "stream",
          "name": "stdout",
          "text": [
            "Enter num: 177\n",
            "Frequency of Digits:  [0, 1, 0, 0, 0, 0, 0, 2, 0, 0]\n"
          ]
        }
      ]
    },
    {
      "cell_type": "code",
      "source": [
        "\"\"\" Develop a program that prompts the user to enter a series of numbers (the\n",
        "input should continue until the user enters 0). The program should then count how many of those numbers\n",
        "are even and how many are odd. \"\"\"\n",
        "\n",
        "num_list = []\n",
        "num = int(input(\"Enter your num: \"))\n",
        "\n",
        "even = 0\n",
        "odd = 0\n",
        "\n",
        "while num != 0:\n",
        "  num_list.append(num)\n",
        "  print(num_list)\n",
        "\n",
        "  num = int(input(\"Enter your num: \"))\n",
        "\n",
        "print(\"\\nTaking input stopped because 0 found.\")\n",
        "\n",
        "for i in num_list:\n",
        "  if not (i % 2):\n",
        "      even += 1\n",
        "  else:\n",
        "    odd += 1\n",
        "\n",
        "print(\"Total even number found: \", even)\n",
        "\n",
        "print(\"Total odd number found: \", odd)"
      ],
      "metadata": {
        "colab": {
          "base_uri": "https://localhost:8080/"
        },
        "id": "vQgunpUyhFNt",
        "outputId": "b5808789-134f-4d29-95ab-6cdb18a17768"
      },
      "execution_count": null,
      "outputs": [
        {
          "output_type": "stream",
          "name": "stdout",
          "text": [
            "Enter your num: 47\n",
            "[47]\n",
            "Enter your num: 139\n",
            "[47, 139]\n",
            "Enter your num: 12\n",
            "[47, 139, 12]\n",
            "Enter your num: 0\n",
            "\n",
            "Taking input stopped because 0 found.\n",
            "Total even number found:  1\n",
            "Total odd number found:  2\n"
          ]
        }
      ]
    },
    {
      "cell_type": "code",
      "source": [
        "\"\"\" Write a program that takes a positive integer from the user and calculates its factorial.\n",
        "Use a loop to perform the calculation, and print the result.\"\"\"\n",
        "\n",
        "num = int(input(\"Enter your num: \"))\n",
        "\n",
        "fact = 1\n",
        "\n",
        "for i in range (1, num+1):\n",
        "  fact *= i\n",
        "\n",
        "print(\"Factorial of \", num, \" is: \", fact)"
      ],
      "metadata": {
        "colab": {
          "base_uri": "https://localhost:8080/"
        },
        "id": "WePsJzDJhFRB",
        "outputId": "46000829-8c6d-4f0c-d525-da3cf7777c13"
      },
      "execution_count": null,
      "outputs": [
        {
          "output_type": "stream",
          "name": "stdout",
          "text": [
            "Enter your num: 0\n",
            "Factorial of  0  is:  1\n"
          ]
        }
      ]
    },
    {
      "cell_type": "code",
      "source": [
        "\"\"\" Create a program that generates a multiplication table for a number entered by the\n",
        "user, up to 12.\"\"\"\n"
      ],
      "metadata": {
        "id": "PcypjK2CpkF_"
      },
      "execution_count": null,
      "outputs": []
    },
    {
      "cell_type": "code",
      "source": [
        "\"\"\" Write a program that prompts the user to enter a list of numbers (the input should\n",
        "continue until the user enters -1). The program should then find and print the largest number in the list.\"\"\"\n",
        "\n",
        "num_list = []\n",
        "\n",
        "num = int(input(\"Enter your num: \"))\n",
        "\n",
        "while (num != -1):\n",
        "  num_list.append(num)\n",
        "  num = int(input(\"Enter your num: \"))\n",
        "\n",
        "print(\"\\nTaking input stopped because -1 found.\")\n",
        "\n",
        "max = num_list[0]\n",
        "for i in num_list:\n",
        "  if i>max:\n",
        "    max = i\n",
        "print(\"The maximum number: \", max)"
      ],
      "metadata": {
        "colab": {
          "base_uri": "https://localhost:8080/"
        },
        "id": "DjN4DwqDhFT5",
        "outputId": "df6c1710-cce0-484c-96d7-65a9c0c2e39f"
      },
      "execution_count": null,
      "outputs": [
        {
          "output_type": "stream",
          "name": "stdout",
          "text": [
            "Enter your num: 656\n",
            "Enter your num: 41\n",
            "Enter your num: 0\n",
            "Enter your num: 97\n",
            "Enter your num: -5\n",
            "Enter your num: -1\n",
            "\n",
            "Taking input stopped because -1 found.\n",
            "The maximum number:  656\n"
          ]
        }
      ]
    },
    {
      "cell_type": "code",
      "source": [
        "\"\"\" Develop a program that checks whether a number provided by the user is a prime\n",
        "number. If it is prime, print ”Prime”; otherwise, print ”Not Prime”.\"\"\"\n",
        "\n",
        "import math\n",
        "\n",
        "num = int(input(\"Enter your num: \"))\n",
        "prime = True\n",
        "\n",
        "for i in range (2, int(math.sqrt(num)) + 1):\n",
        "  if num % i == 0:\n",
        "    prime = False\n",
        "    break\n",
        "\n",
        "if prime == False:\n",
        "    print(\"Not Prime\")\n",
        "else:\n",
        "  print(\"Prime\")"
      ],
      "metadata": {
        "colab": {
          "base_uri": "https://localhost:8080/"
        },
        "id": "00_xyWYupvit",
        "outputId": "0c46bfa6-bc94-42a0-8668-0cbd0ef8008f"
      },
      "execution_count": null,
      "outputs": [
        {
          "output_type": "stream",
          "name": "stdout",
          "text": [
            "Enter your num: 7\n",
            "Prime\n"
          ]
        }
      ]
    },
    {
      "cell_type": "code",
      "source": [
        "\"\"\" Create a program that takes a student’s score as input and outputs the corresponding\n",
        "grade according to the following scale:\n",
        "• A: 90-100\n",
        "• B: 80-89\n",
        "• C: 70-79\n",
        "• D: 60-69\n",
        "• F: Below 60 \"\"\""
      ],
      "metadata": {
        "id": "mf8IXxxDp92F"
      },
      "execution_count": null,
      "outputs": []
    },
    {
      "cell_type": "code",
      "source": [
        "\"\"\" Write a program that takes a string input from the user and counts how many vowels (a, e, i,\n",
        "o, u) are present in the string. \"\"\""
      ],
      "metadata": {
        "id": "Sd40oskCp-EH"
      },
      "execution_count": null,
      "outputs": []
    },
    {
      "cell_type": "code",
      "source": [
        "\"\"\"Develop a program that simulates a simple banking system. The user should be\n",
        "able to perform the following actions:\n",
        "• Check balance\n",
        "• Deposit money\n",
        "• Withdraw money\n",
        "Ensure to validate the withdrawal amount to ensure the user does not withdraw more than the available\n",
        "balance.\"\"\"\n",
        "\n"
      ],
      "metadata": {
        "id": "tlsTpTWep-Gj"
      },
      "execution_count": null,
      "outputs": []
    },
    {
      "cell_type": "code",
      "source": [],
      "metadata": {
        "id": "wx62ZvQop-JZ"
      },
      "execution_count": null,
      "outputs": []
    }
  ]
}