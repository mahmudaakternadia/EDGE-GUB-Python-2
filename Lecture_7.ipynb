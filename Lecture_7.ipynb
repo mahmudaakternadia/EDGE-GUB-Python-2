{
  "nbformat": 4,
  "nbformat_minor": 0,
  "metadata": {
    "colab": {
      "provenance": []
    },
    "kernelspec": {
      "name": "python3",
      "display_name": "Python 3"
    },
    "language_info": {
      "name": "python"
    }
  },
  "cells": [
    {
      "cell_type": "code",
      "execution_count": null,
      "metadata": {
        "colab": {
          "base_uri": "https://localhost:8080/"
        },
        "id": "w3Hjob9YJ1FR",
        "outputId": "1d1f3230-edaf-47aa-8819-0ef0f29546bb"
      },
      "outputs": [
        {
          "output_type": "stream",
          "name": "stdout",
          "text": [
            "Python\n",
            "h\n",
            "PythonSnake\n"
          ]
        }
      ],
      "source": [
        "word = \"Python\"\n",
        "word1 = \"Snake\"\n",
        "\n",
        "print(word)\n",
        "print(word[3])\n",
        "print(word+word1) #concat"
      ]
    },
    {
      "cell_type": "code",
      "source": [
        "x = \"12\"\n",
        "\n",
        "print(x+ str(2))\n",
        "print(int(x) + 2)"
      ],
      "metadata": {
        "colab": {
          "base_uri": "https://localhost:8080/"
        },
        "id": "e5Lg5dg2P7mp",
        "outputId": "afb0a3dd-e88a-4a0b-9735-beac86416a83"
      },
      "execution_count": null,
      "outputs": [
        {
          "output_type": "stream",
          "name": "stdout",
          "text": [
            "122\n",
            "14\n"
          ]
        }
      ]
    },
    {
      "cell_type": "code",
      "source": [
        "str_ = 'Alice'\n",
        "i = 0\n",
        "while i < len(str_):\n",
        "  print(i)\n",
        "\n",
        "  i += 1"
      ],
      "metadata": {
        "colab": {
          "base_uri": "https://localhost:8080/"
        },
        "id": "OYinKqUXP70Y",
        "outputId": "1d6b1e79-c3ef-42da-e037-4d497a921a72"
      },
      "execution_count": null,
      "outputs": [
        {
          "output_type": "stream",
          "name": "stdout",
          "text": [
            "0\n",
            "1\n",
            "2\n",
            "3\n",
            "4\n"
          ]
        }
      ]
    },
    {
      "cell_type": "code",
      "source": [
        "str_ = 'Alice'\n",
        "\n",
        "for i in str_ :\n",
        "  print(i)"
      ],
      "metadata": {
        "colab": {
          "base_uri": "https://localhost:8080/"
        },
        "id": "wFMZ9rlzP783",
        "outputId": "e5e99ab2-a9fb-45af-8de2-a17712c4dd80"
      },
      "execution_count": null,
      "outputs": [
        {
          "output_type": "stream",
          "name": "stdout",
          "text": [
            "A\n",
            "l\n",
            "i\n",
            "c\n",
            "e\n"
          ]
        }
      ]
    },
    {
      "cell_type": "code",
      "source": [
        "str_ = 'Alice'\n",
        "\n",
        "for i in range (len(str_)) :\n",
        "  print(str_ [i])"
      ],
      "metadata": {
        "colab": {
          "base_uri": "https://localhost:8080/"
        },
        "id": "ja7d6Ra7S000",
        "outputId": "920b9aa9-7fac-453b-ffca-cf00af58ce64"
      },
      "execution_count": null,
      "outputs": [
        {
          "output_type": "stream",
          "name": "stdout",
          "text": [
            "A\n",
            "l\n",
            "i\n",
            "c\n",
            "e\n"
          ]
        }
      ]
    },
    {
      "cell_type": "code",
      "source": [
        "box = lambda x:"
      ],
      "metadata": {
        "id": "wg_2uL1nXFr2"
      },
      "execution_count": null,
      "outputs": []
    },
    {
      "cell_type": "code",
      "source": [
        "str_ = 'Alice'\n",
        "\n",
        "key = 3\n",
        "\n",
        "cipher = \" \"\n",
        "\n",
        "for i in str_:\n",
        "  cipher += chr(ord(i) + key)\n",
        "\n",
        "print(cipher)"
      ],
      "metadata": {
        "colab": {
          "base_uri": "https://localhost:8080/"
        },
        "id": "NHGpf091UVHz",
        "outputId": "5991c1f6-b38b-4d0c-89bf-c5ebdd113357"
      },
      "execution_count": null,
      "outputs": [
        {
          "output_type": "stream",
          "name": "stdout",
          "text": [
            " Dolfh\n"
          ]
        }
      ]
    },
    {
      "cell_type": "code",
      "source": [
        "str_ = input(\"Enter your word: \")\n",
        "\n",
        "def FindPalindrom(str_):\n",
        "  if str_ == str_[: : -1]:\n",
        "    print (\"Palindrom\")\n",
        "\n",
        "  else:\n",
        "    print(\"Not Palindrom\")\n",
        "\n",
        "FindPalindrom(str_)"
      ],
      "metadata": {
        "colab": {
          "base_uri": "https://localhost:8080/"
        },
        "id": "7RuDwk_UVAvW",
        "outputId": "33b76aea-e3dc-4853-811a-cdc6d4965fe3"
      },
      "execution_count": null,
      "outputs": [
        {
          "output_type": "stream",
          "name": "stdout",
          "text": [
            "Enter your word: EyE\n",
            "Palindrom\n"
          ]
        }
      ]
    },
    {
      "cell_type": "code",
      "source": [
        "str_ = input(\"Enter your word: \")\n",
        "\n",
        "def FindPalindrom(str_):\n",
        "  if str_ == str_[: : -1]:\n",
        "    return True print (\"Palindrom\")\n",
        "\n",
        "  return False\n",
        "\n",
        "\n",
        "  else:\n",
        "    print(\"Not Palindrom\")\n",
        "\n",
        "FindPalindrom(str_)"
      ],
      "metadata": {
        "id": "MlxfQF3dY8Z6"
      },
      "execution_count": null,
      "outputs": []
    },
    {
      "cell_type": "code",
      "source": [
        "box = lambda x :\n",
        "\n"
      ],
      "metadata": {
        "id": "W35iGj1dT-Ro"
      },
      "execution_count": null,
      "outputs": []
    },
    {
      "cell_type": "code",
      "source": [
        "word = 'Catalog'\n",
        "\n",
        "if word == 'banana':\n",
        "    print('All right, bananas.')\n",
        "\n",
        "if word < 'banana':\n",
        "    print('Your word,' + word + ', comes before banana.')\n",
        "elif word > 'banana':\n",
        "    print('Your word,' + word + ', comes after banana.')\n",
        "else:\n",
        "    print('All right, bananas.')"
      ],
      "metadata": {
        "colab": {
          "base_uri": "https://localhost:8080/"
        },
        "id": "72YSLA_7U0Ky",
        "outputId": "7dccbb16-1fc7-43d8-ea8e-f9157cf9a3ad"
      },
      "execution_count": null,
      "outputs": [
        {
          "output_type": "stream",
          "name": "stdout",
          "text": [
            "Your word,Catalog, comes before banana.\n"
          ]
        }
      ]
    },
    {
      "cell_type": "code",
      "source": [
        "print(str)\n",
        "\n",
        "dir(str)"
      ],
      "metadata": {
        "colab": {
          "base_uri": "https://localhost:8080/"
        },
        "id": "PG4pzfiVbOsZ",
        "outputId": "8368f37c-d1de-412a-b5f7-ea767ff771f4"
      },
      "execution_count": null,
      "outputs": [
        {
          "output_type": "stream",
          "name": "stdout",
          "text": [
            "<class 'str'>\n"
          ]
        },
        {
          "output_type": "execute_result",
          "data": {
            "text/plain": [
              "['__add__',\n",
              " '__class__',\n",
              " '__contains__',\n",
              " '__delattr__',\n",
              " '__dir__',\n",
              " '__doc__',\n",
              " '__eq__',\n",
              " '__format__',\n",
              " '__ge__',\n",
              " '__getattribute__',\n",
              " '__getitem__',\n",
              " '__getnewargs__',\n",
              " '__gt__',\n",
              " '__hash__',\n",
              " '__init__',\n",
              " '__init_subclass__',\n",
              " '__iter__',\n",
              " '__le__',\n",
              " '__len__',\n",
              " '__lt__',\n",
              " '__mod__',\n",
              " '__mul__',\n",
              " '__ne__',\n",
              " '__new__',\n",
              " '__reduce__',\n",
              " '__reduce_ex__',\n",
              " '__repr__',\n",
              " '__rmod__',\n",
              " '__rmul__',\n",
              " '__setattr__',\n",
              " '__sizeof__',\n",
              " '__str__',\n",
              " '__subclasshook__',\n",
              " 'capitalize',\n",
              " 'casefold',\n",
              " 'center',\n",
              " 'count',\n",
              " 'encode',\n",
              " 'endswith',\n",
              " 'expandtabs',\n",
              " 'find',\n",
              " 'format',\n",
              " 'format_map',\n",
              " 'index',\n",
              " 'isalnum',\n",
              " 'isalpha',\n",
              " 'isascii',\n",
              " 'isdecimal',\n",
              " 'isdigit',\n",
              " 'isidentifier',\n",
              " 'islower',\n",
              " 'isnumeric',\n",
              " 'isprintable',\n",
              " 'isspace',\n",
              " 'istitle',\n",
              " 'isupper',\n",
              " 'join',\n",
              " 'ljust',\n",
              " 'lower',\n",
              " 'lstrip',\n",
              " 'maketrans',\n",
              " 'partition',\n",
              " 'removeprefix',\n",
              " 'removesuffix',\n",
              " 'replace',\n",
              " 'rfind',\n",
              " 'rindex',\n",
              " 'rjust',\n",
              " 'rpartition',\n",
              " 'rsplit',\n",
              " 'rstrip',\n",
              " 'split',\n",
              " 'splitlines',\n",
              " 'startswith',\n",
              " 'strip',\n",
              " 'swapcase',\n",
              " 'title',\n",
              " 'translate',\n",
              " 'upper',\n",
              " 'zfill']"
            ]
          },
          "metadata": {},
          "execution_count": 31
        }
      ]
    },
    {
      "cell_type": "code",
      "source": [],
      "metadata": {
        "id": "p-Cx-3GUllXn"
      },
      "execution_count": null,
      "outputs": []
    },
    {
      "cell_type": "code",
      "source": [
        "#Using string function\n",
        "\n",
        "text = \"Geneva\"\n"
      ],
      "metadata": {
        "id": "NC0fR4OGbOve"
      },
      "execution_count": null,
      "outputs": []
    },
    {
      "cell_type": "code",
      "source": [
        "box = \"Bangladesh is a populated country\"\n",
        "\n",
        "box_spilt = box.split()\n",
        "\n",
        "print(box_spilt)"
      ],
      "metadata": {
        "colab": {
          "base_uri": "https://localhost:8080/"
        },
        "id": "IG-3GtjibOyl",
        "outputId": "d09afc4a-707e-4aed-da84-36a830c8a5ed"
      },
      "execution_count": null,
      "outputs": [
        {
          "output_type": "stream",
          "name": "stdout",
          "text": [
            "['Bangladesh', 'is', 'a', 'populated', 'country']\n"
          ]
        }
      ]
    },
    {
      "cell_type": "code",
      "source": [
        "box = \"Bangladesh is a populated country\"\n",
        "\n",
        "box_spilt = box.split(\" p\")\n",
        "\n",
        "print(box_spilt)"
      ],
      "metadata": {
        "colab": {
          "base_uri": "https://localhost:8080/"
        },
        "id": "cqzJcrR0eeVx",
        "outputId": "4fd542c6-b0b9-4532-f516-500d05f60bd2"
      },
      "execution_count": null,
      "outputs": [
        {
          "output_type": "stream",
          "name": "stdout",
          "text": [
            "['Bangladesh is a', 'opulated country']\n"
          ]
        }
      ]
    },
    {
      "cell_type": "code",
      "source": [
        "box = \"Bangladesh is a populated country\"\n",
        "\n",
        "box_spilt = box.split(\" p\")[0]\n",
        "\n",
        "print(box_spilt)"
      ],
      "metadata": {
        "colab": {
          "base_uri": "https://localhost:8080/"
        },
        "id": "6CXQ9UOweeYy",
        "outputId": "818c97d2-da25-4d86-9c00-b7754a98346f"
      },
      "execution_count": null,
      "outputs": [
        {
          "output_type": "stream",
          "name": "stdout",
          "text": [
            "Bangladesh is a\n"
          ]
        }
      ]
    },
    {
      "cell_type": "code",
      "source": [
        "box = \"Bangladesh is a populated country\"\n",
        "\n",
        "box_spilt = box.split(\" p\")[1]\n",
        "\n",
        "print(box_spilt)"
      ],
      "metadata": {
        "colab": {
          "base_uri": "https://localhost:8080/"
        },
        "id": "PdhNzJw0eebz",
        "outputId": "946b3540-f2f5-4cd5-fa56-84aa59417539"
      },
      "execution_count": null,
      "outputs": [
        {
          "output_type": "stream",
          "name": "stdout",
          "text": [
            "opulated country\n"
          ]
        }
      ]
    },
    {
      "cell_type": "code",
      "source": [
        "box = \"Bangladesh is a populated country\"\n",
        "\n",
        "box_spilt = box.split(\" \",2)\n",
        "\n",
        "print(box_spilt)"
      ],
      "metadata": {
        "colab": {
          "base_uri": "https://localhost:8080/"
        },
        "id": "dortlXkneeNH",
        "outputId": "912f6871-2e08-41be-bd44-3927eb2fe97c"
      },
      "execution_count": null,
      "outputs": [
        {
          "output_type": "stream",
          "name": "stdout",
          "text": [
            "['Bangladesh', 'is', 'a populated country']\n"
          ]
        }
      ]
    },
    {
      "cell_type": "code",
      "source": [
        "box = \"Bangladesh is a populated country\"\n",
        "\n",
        "box_spilt = box.split()\n",
        "\n",
        "box_list = list(box_spilt)\n",
        "\n",
        "new_box = \" \".join(box_list)\n",
        "\n",
        "print(new_box)"
      ],
      "metadata": {
        "colab": {
          "base_uri": "https://localhost:8080/"
        },
        "id": "78t7VgoceJCf",
        "outputId": "717aa12f-c68c-4cfd-876f-e485be930975"
      },
      "execution_count": null,
      "outputs": [
        {
          "output_type": "stream",
          "name": "stdout",
          "text": [
            "Bangladesh is a populated country\n"
          ]
        }
      ]
    },
    {
      "cell_type": "code",
      "source": [
        "sentence = input(\"Enter a sentence: \")\n",
        "\n",
        "count = 0\n",
        "\n",
        "for i in sentence:\n",
        "  if i.isalnum():\n",
        "    count += 1\n",
        "\n",
        "print(\"Count: \", count)\n",
        "\n",
        "if sentence.isupper():\n",
        "  pass\n",
        "\n",
        "else:\n",
        "  sentence = sentence.upper()\n",
        "\n",
        "print(sentence)"
      ],
      "metadata": {
        "colab": {
          "base_uri": "https://localhost:8080/"
        },
        "id": "CNgG2Ti4lnb1",
        "outputId": "65b1fa71-7ea7-42c7-db8b-a5e02938fedd"
      },
      "execution_count": null,
      "outputs": [
        {
          "output_type": "stream",
          "name": "stdout",
          "text": [
            "Enter a sentence: Bangladesh 12@q!\n",
            "Count:  13\n",
            "BANGLADESH 12@Q!\n"
          ]
        }
      ]
    },
    {
      "cell_type": "code",
      "source": [
        "sentence = \"Bangladesh 12@q!\"\n",
        "\n",
        "nst = \"\" .join(list(filter (lambda x: x.isdigit(), sentence)))\n",
        "\n",
        "print(nst)"
      ],
      "metadata": {
        "colab": {
          "base_uri": "https://localhost:8080/"
        },
        "id": "U_1lJFt3lneg",
        "outputId": "e4d32419-f099-4340-adff-9923f71d42c4"
      },
      "execution_count": null,
      "outputs": [
        {
          "output_type": "stream",
          "name": "stdout",
          "text": [
            "12\n"
          ]
        }
      ]
    },
    {
      "cell_type": "code",
      "source": [
        "#Write a Python Program to get Name of User that starts with ‘a’, otherwise Error Message Should Display\n",
        "\n",
        "name = input(\"Enter name: \")\n",
        "\n",
        "if name.lower().startswith('a') :\n",
        "  print(\"Yes\")\n",
        "\n",
        "else:\n",
        "  print(\"Error Message\")"
      ],
      "metadata": {
        "colab": {
          "base_uri": "https://localhost:8080/"
        },
        "id": "b2rgI4omlnhQ",
        "outputId": "717dd15d-92ba-4ef7-a9de-89c8260f5c73"
      },
      "execution_count": null,
      "outputs": [
        {
          "output_type": "stream",
          "name": "stdout",
          "text": [
            "Enter name: Alex\n",
            "Yes\n"
          ]
        }
      ]
    },
    {
      "cell_type": "code",
      "source": [
        "name = input(\"Enter name: \")\n",
        "\n",
        "if name.lower().endswith('a') :\n",
        "  print(\"Yes\")\n",
        "\n",
        "else:\n",
        "  print(\"Error Message\")"
      ],
      "metadata": {
        "colab": {
          "base_uri": "https://localhost:8080/"
        },
        "id": "0HHjyHVhrbnE",
        "outputId": "95d205cd-6ea8-42b3-e29e-4dff4bc8c67a"
      },
      "execution_count": null,
      "outputs": [
        {
          "output_type": "stream",
          "name": "stdout",
          "text": [
            "Enter name: lejgjha\n",
            "Yes\n"
          ]
        }
      ]
    },
    {
      "cell_type": "code",
      "source": [
        "colors = [\"yellow\", \"red\", \"green\", \"blue\", \"grey\"]\n",
        "\n",
        "nl = list(filter(lambda x : x.startswith(\"g\"), colors))\n",
        "\n",
        "print(nl)"
      ],
      "metadata": {
        "colab": {
          "base_uri": "https://localhost:8080/"
        },
        "id": "Cnizirfdlnmm",
        "outputId": "08cd11b7-fc6b-428b-9a84-36d28d3a33b8"
      },
      "execution_count": null,
      "outputs": [
        {
          "output_type": "stream",
          "name": "stdout",
          "text": [
            "['green', 'grey']\n"
          ]
        }
      ]
    },
    {
      "cell_type": "code",
      "source": [
        "name = input(\"Enter name: \")\n",
        "\n",
        "odd_inchar = list(filter(lambda x: (name.index(x) % 2 != 0), name))\n",
        "\n",
        "odd_char = \" \".join(odd_inchar)\n",
        "\n",
        "print(odd_char)"
      ],
      "metadata": {
        "colab": {
          "base_uri": "https://localhost:8080/"
        },
        "id": "DHStK2a_lnpP",
        "outputId": "676ef2e1-f480-4b96-f18c-2600f0c32055"
      },
      "execution_count": null,
      "outputs": [
        {
          "output_type": "stream",
          "name": "stdout",
          "text": [
            "Enter name: ksbkd\n",
            "s\n"
          ]
        }
      ]
    },
    {
      "cell_type": "code",
      "source": [
        "sen = input(\" Enter: \")\n",
        "\n",
        "for index, word in enumerate(sen) :\n",
        "  if index % 2 :\n",
        "     print(word)"
      ],
      "metadata": {
        "colab": {
          "base_uri": "https://localhost:8080/"
        },
        "id": "ZkkjNgH7wa51",
        "outputId": "dcc26f6d-b0ec-46a3-cc6c-ab0d8071c2f0"
      },
      "execution_count": null,
      "outputs": [
        {
          "output_type": "stream",
          "name": "stdout",
          "text": [
            " Enter: adhdeff\n",
            "d\n",
            "d\n",
            "f\n"
          ]
        }
      ]
    },
    {
      "cell_type": "code",
      "source": [
        "sen = input(\" Enter: \")\n",
        "sl = sen.split()\n",
        "\n",
        "\n",
        "for index, word in enumerate(sl) :\n",
        "  if index % 2 :\n",
        "    print(word)"
      ],
      "metadata": {
        "colab": {
          "base_uri": "https://localhost:8080/"
        },
        "id": "qQjhRnlSw6-0",
        "outputId": "a1c59a8f-d2ba-4498-e7ae-3674b3e4845f"
      },
      "execution_count": null,
      "outputs": [
        {
          "output_type": "stream",
          "name": "stdout",
          "text": [
            " Enter: jhghfg yii\n",
            "yii\n"
          ]
        }
      ]
    },
    {
      "cell_type": "code",
      "source": [
        "sen = input(\" Enter: \")\n",
        "sl = [word for index, word in enumerate (sen.split()) if index % 2 ]\n",
        "\n",
        "print(sl)"
      ],
      "metadata": {
        "colab": {
          "base_uri": "https://localhost:8080/"
        },
        "id": "KUPgsmSsxQ2m",
        "outputId": "0a1e8e87-ae40-4f2d-f019-d64a61f066e5"
      },
      "execution_count": null,
      "outputs": [
        {
          "output_type": "stream",
          "name": "stdout",
          "text": [
            " Enter: hubf osgosfj\n",
            "['osgosfj']\n"
          ]
        }
      ]
    },
    {
      "cell_type": "code",
      "source": [
        "sen = \"the brown fox jumps over the lazy dog\"\n",
        "\n"
      ],
      "metadata": {
        "id": "OPHFHKGky3BW"
      },
      "execution_count": null,
      "outputs": []
    },
    {
      "cell_type": "code",
      "source": [],
      "metadata": {
        "id": "TG2DsZ1ty3I_"
      },
      "execution_count": null,
      "outputs": []
    },
    {
      "cell_type": "code",
      "source": [],
      "metadata": {
        "id": "ADDJidWyy3Og"
      },
      "execution_count": null,
      "outputs": []
    }
  ]
}