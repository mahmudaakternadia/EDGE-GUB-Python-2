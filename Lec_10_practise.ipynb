{
  "nbformat": 4,
  "nbformat_minor": 0,
  "metadata": {
    "colab": {
      "provenance": []
    },
    "kernelspec": {
      "name": "python3",
      "display_name": "Python 3"
    },
    "language_info": {
      "name": "python"
    }
  },
  "cells": [
    {
      "cell_type": "code",
      "execution_count": null,
      "metadata": {
        "colab": {
          "base_uri": "https://localhost:8080/"
        },
        "id": "LABG8Ol-hVXP",
        "outputId": "94f1c4b4-77cb-456b-e103-380f4ba6bca7"
      },
      "outputs": [
        {
          "output_type": "stream",
          "name": "stdout",
          "text": [
            "Enter your string: Nadia\n",
            "aidaN\n"
          ]
        }
      ],
      "source": [
        "a = input(\"Enter your string: \")\n",
        "b = a[::-1]\n",
        "\n",
        "print(b)"
      ]
    },
    {
      "cell_type": "code",
      "source": [
        "a = int(input(\"Enter your string: \"))\n",
        "print(type(a))"
      ],
      "metadata": {
        "colab": {
          "base_uri": "https://localhost:8080/"
        },
        "id": "ABJ6Hw7nhbwW",
        "outputId": "174d9080-8979-4a76-d86b-9d536be4d710"
      },
      "execution_count": null,
      "outputs": [
        {
          "output_type": "stream",
          "name": "stdout",
          "text": [
            "Enter your string: 15\n",
            "<class 'int'>\n"
          ]
        }
      ]
    },
    {
      "cell_type": "code",
      "source": [
        "expression = input(\"Enter an arithmetic expression: \")\n",
        "result = eval(expression)\n",
        "print(\"Result:\", result)"
      ],
      "metadata": {
        "colab": {
          "base_uri": "https://localhost:8080/"
        },
        "id": "Eu7Qwy2uietd",
        "outputId": "97b9c2ee-b6b0-4b6d-b141-b0efd0bc0abb"
      },
      "execution_count": null,
      "outputs": [
        {
          "output_type": "stream",
          "name": "stdout",
          "text": [
            "Enter an arithmetic expression: (3*(2+5))-25\n",
            "Result: -4\n"
          ]
        }
      ]
    },
    {
      "cell_type": "code",
      "source": [
        "n1 = int(input(\"Enter n1: \"))\n",
        "n2 = int(input(\"Enter n2: \"))\n",
        "\n",
        "if n1>n2:\n",
        "  print(f\"{n1} > {n2}\" )\n",
        "\n",
        "elif n1 == n2:\n",
        "  print(f\"{n1} == {n2}\" )\n",
        "\n",
        "elif n1 != n2:\n",
        "  print(f\"{n1} != {n2}\" )\n",
        "\n",
        "elif n1 <= n2:\n",
        "  print(f\"{n1} <= {n2}\" )\n",
        "\n",
        "elif n1 >= n2:\n",
        "  print(f\"{n1} >= {n2}\" )"
      ],
      "metadata": {
        "colab": {
          "base_uri": "https://localhost:8080/"
        },
        "id": "ty8pDvFrp5VM",
        "outputId": "c6bc9247-65d0-4f65-bb27-cde03d24961c"
      },
      "execution_count": null,
      "outputs": [
        {
          "output_type": "stream",
          "name": "stdout",
          "text": [
            "Enter n1: 25\n",
            "Enter n2: 9\n",
            "25 > 9\n"
          ]
        }
      ]
    },
    {
      "cell_type": "code",
      "source": [
        "import math\n",
        "\n",
        "n1 = int(input(\"Enter n1: \"))\n",
        "\n",
        "prime = True\n",
        "\n",
        "if (n1 == 1):\n",
        "  prime = False\n",
        "\n",
        "for i in range (2, int(math.sqrt(n1))+1) :\n",
        "  if not(n1%i) :\n",
        "    prime = False\n",
        "\n",
        "if prime == True:\n",
        "  print(n1, \"is a  Prime\")\n",
        "\n",
        "else:\n",
        "  print(\"False\")\n"
      ],
      "metadata": {
        "id": "D72kB_0xqGKg",
        "colab": {
          "base_uri": "https://localhost:8080/"
        },
        "outputId": "85970730-acc4-4664-d2ef-d87961c8f348"
      },
      "execution_count": null,
      "outputs": [
        {
          "output_type": "stream",
          "name": "stdout",
          "text": [
            "Enter n1: 74\n",
            "False\n"
          ]
        }
      ]
    },
    {
      "cell_type": "code",
      "source": [
        "import random\n",
        "\n",
        "num_to_guess = random.randint(1, 101)\n",
        "guess = None\n",
        "\n",
        "i = 0\n",
        "\n",
        "while (num_to_guess != guess and i<4 ) :\n",
        "\n",
        "  i +=1\n",
        "  guess = int(input(\"Enter your guess: \"))\n",
        "\n",
        "\n",
        "\n",
        "  if (guess < num_to_guess):\n",
        "    print(\"Your guess is less than that number\")\n",
        "\n",
        "  elif (guess > num_to_guess):\n",
        "    print(\"Your guess is higher than that number\")\n",
        "\n",
        "  else:\n",
        "    print(\"Correct guess\")\n",
        "\n",
        "\n",
        "\n",
        "\n"
      ],
      "metadata": {
        "colab": {
          "base_uri": "https://localhost:8080/"
        },
        "id": "egnUk7Oo2pyr",
        "outputId": "7245fa53-493e-43cd-fdc3-9d10f606b8bb"
      },
      "execution_count": null,
      "outputs": [
        {
          "output_type": "stream",
          "name": "stdout",
          "text": [
            "Enter your guess: 50\n",
            "Your guess is higher than that number\n",
            "Enter your guess: 25\n",
            "Your guess is higher than that number\n",
            "Enter your guess: 10\n",
            "Your guess is higher than that number\n",
            "Enter your guess: 3\n",
            "Your guess is less than that number\n"
          ]
        }
      ]
    },
    {
      "cell_type": "code",
      "source": [
        "import statistics\n",
        "\n",
        "numbers = [int(x) for x in input(\"Enter spaceseperated: \").split() ]\n",
        "\n",
        "print(numbers)\n",
        "\n",
        "mean = sum(numbers) / len(numbers)\n",
        "print(mean)\n",
        "\n",
        "numbers.sort()\n",
        "median = numbers[ len(numbers) // 2]\n",
        "print(median)\n",
        "\n",
        "\n",
        "moderesult = statistics.mode(numbers)\n",
        "print(moderesult)"
      ],
      "metadata": {
        "colab": {
          "base_uri": "https://localhost:8080/"
        },
        "id": "dRQgHp076Lgp",
        "outputId": "8628a3e7-7865-4052-92ad-2dfb8165e962"
      },
      "execution_count": null,
      "outputs": [
        {
          "output_type": "stream",
          "name": "stdout",
          "text": [
            "Enter spaceseperated: 20 4 40 65 14\n",
            "[20, 4, 40, 65, 14]\n",
            "28.6\n",
            "20\n",
            "4\n"
          ]
        }
      ]
    },
    {
      "cell_type": "code",
      "source": [
        "list1 = [int(x) for x in input(\"Enter num by space: \").split()]\n",
        "list2 = [int(x) for x in input(\"Enter num by space: \").split()]\n",
        "\n",
        "u1 = list(set(list1) | set(list2))\n",
        "print(u1)\n",
        "\n",
        "in1 = list(set(list1) & set(list2))\n",
        "print(in1)\n",
        "\n",
        "symdiff = list(set(list1) ^ set(list2))\n",
        "print(symdiff)"
      ],
      "metadata": {
        "colab": {
          "base_uri": "https://localhost:8080/"
        },
        "id": "3JwkgwW6A4B2",
        "outputId": "f797dcb8-49af-459b-8828-e718432ac256"
      },
      "execution_count": null,
      "outputs": [
        {
          "output_type": "stream",
          "name": "stdout",
          "text": [
            "Enter num by space: 10 20 30\n",
            "Enter num by space: 15 20 5 4\n",
            "[20, 4, 5, 10, 30, 15]\n",
            "[20]\n",
            "[4, 5, 10, 15, 30]\n"
          ]
        }
      ]
    },
    {
      "cell_type": "code",
      "source": [
        "l1 = [(50, 'n'), (2, 'b')]\n",
        "\n",
        "l = dict(l1)\n",
        "\n",
        "print(l)\n",
        "\n",
        "l2 = (sorted(l.items()))\n",
        "\n",
        "print(l2)"
      ],
      "metadata": {
        "colab": {
          "base_uri": "https://localhost:8080/"
        },
        "id": "LTlzFNB6DgDu",
        "outputId": "23f4961f-23e2-4c9e-b134-5bd542996c5a"
      },
      "execution_count": null,
      "outputs": [
        {
          "output_type": "stream",
          "name": "stdout",
          "text": [
            "{50: 'n', 2: 'b'}\n",
            "[(2, 'b'), (50, 'n')]\n"
          ]
        }
      ]
    }
  ]
}