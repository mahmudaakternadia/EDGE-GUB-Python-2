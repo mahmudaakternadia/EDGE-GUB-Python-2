{
  "nbformat": 4,
  "nbformat_minor": 0,
  "metadata": {
    "colab": {
      "provenance": []
    },
    "kernelspec": {
      "name": "python3",
      "display_name": "Python 3"
    },
    "language_info": {
      "name": "python"
    }
  },
  "cells": [
    {
      "cell_type": "code",
      "execution_count": null,
      "metadata": {
        "colab": {
          "base_uri": "https://localhost:8080/"
        },
        "id": "jaR9NreM3R1I",
        "outputId": "b1c01e05-61da-429d-bafe-afd2e0ab7a67"
      },
      "outputs": [
        {
          "output_type": "stream",
          "name": "stdout",
          "text": [
            "1\n",
            "3\n",
            "5\n",
            "7\n",
            "9\n",
            "11\n",
            "13\n",
            "15\n",
            "17\n",
            "19\n",
            "21\n",
            "23\n",
            "25\n",
            "27\n",
            "29\n",
            "31\n",
            "33\n",
            "35\n",
            "37\n",
            "39\n",
            "41\n",
            "43\n",
            "45\n",
            "47\n",
            "49\n"
          ]
        }
      ],
      "source": [
        "for i in range (1,51,2):\n",
        "  print(i)"
      ]
    },
    {
      "cell_type": "code",
      "source": [
        "found = False\n",
        "print('Before', found)\n",
        "for value in [9, 41, 12, 3, 74, 15] :\n",
        "   if value == 3 :\n",
        "       found = True\n",
        "   print(found, value)\n",
        "print('After', found)"
      ],
      "metadata": {
        "colab": {
          "base_uri": "https://localhost:8080/"
        },
        "id": "Y_rc9Pz413Qb",
        "outputId": "040d4760-f474-450e-bb2a-f345178a58be"
      },
      "execution_count": null,
      "outputs": [
        {
          "output_type": "stream",
          "name": "stdout",
          "text": [
            "Before False\n",
            "False 9\n",
            "False 41\n",
            "False 12\n",
            "True 3\n",
            "True 74\n",
            "True 15\n",
            "After True\n"
          ]
        }
      ]
    },
    {
      "cell_type": "code",
      "source": [
        "for i in range (51): #by default start from 0\n",
        "  print(i)"
      ],
      "metadata": {
        "colab": {
          "base_uri": "https://localhost:8080/"
        },
        "id": "UUU8FSsu8QUe",
        "outputId": "d32ed99a-666c-4f1c-a3b5-399eb653145d"
      },
      "execution_count": null,
      "outputs": [
        {
          "output_type": "stream",
          "name": "stdout",
          "text": [
            "0\n",
            "1\n",
            "2\n",
            "3\n",
            "4\n",
            "5\n",
            "6\n",
            "7\n",
            "8\n",
            "9\n",
            "10\n",
            "11\n",
            "12\n",
            "13\n",
            "14\n",
            "15\n",
            "16\n",
            "17\n",
            "18\n",
            "19\n",
            "20\n",
            "21\n",
            "22\n",
            "23\n",
            "24\n",
            "25\n",
            "26\n",
            "27\n",
            "28\n",
            "29\n",
            "30\n",
            "31\n",
            "32\n",
            "33\n",
            "34\n",
            "35\n",
            "36\n",
            "37\n",
            "38\n",
            "39\n",
            "40\n",
            "41\n",
            "42\n",
            "43\n",
            "44\n",
            "45\n",
            "46\n",
            "47\n",
            "48\n",
            "49\n",
            "50\n"
          ]
        }
      ]
    },
    {
      "cell_type": "code",
      "source": [
        "fruits = [\"apple\", \"banana\", \"cherry\", \"strawberry\"]\n",
        "\n",
        "for fruit in fruits:\n",
        "  print(fruit)\n"
      ],
      "metadata": {
        "colab": {
          "base_uri": "https://localhost:8080/"
        },
        "id": "sUzUJvhZ8jlE",
        "outputId": "20b03a82-6512-44d7-d0bb-3a841ec294d3"
      },
      "execution_count": null,
      "outputs": [
        {
          "output_type": "stream",
          "name": "stdout",
          "text": [
            "apple\n",
            "banana\n",
            "cherry\n",
            "strawberry\n"
          ]
        }
      ]
    },
    {
      "cell_type": "code",
      "source": [
        "for i in [5, 9, 5, 100]:\n",
        "  print(i)\n"
      ],
      "metadata": {
        "colab": {
          "base_uri": "https://localhost:8080/"
        },
        "id": "WwAZjpDP9Z4p",
        "outputId": "f7c8254b-d8a5-4249-e374-6961d68e56f7"
      },
      "execution_count": null,
      "outputs": [
        {
          "output_type": "stream",
          "name": "stdout",
          "text": [
            "5\n",
            "9\n",
            "5\n",
            "100\n"
          ]
        }
      ]
    },
    {
      "cell_type": "code",
      "source": [
        "box = [5, 9, 5, 100]\n",
        "\n",
        "for i in box:\n",
        "  print(i)\n"
      ],
      "metadata": {
        "colab": {
          "base_uri": "https://localhost:8080/"
        },
        "id": "_dz0OXYV9abr",
        "outputId": "eb5e369d-0ef5-4cf9-82bf-cddfeca1e344"
      },
      "execution_count": null,
      "outputs": [
        {
          "output_type": "stream",
          "name": "stdout",
          "text": [
            "5\n",
            "9\n",
            "5\n",
            "100\n"
          ]
        }
      ]
    },
    {
      "cell_type": "code",
      "source": [
        "word = \"Artificial\"\n",
        "print(word[0])"
      ],
      "metadata": {
        "colab": {
          "base_uri": "https://localhost:8080/"
        },
        "id": "3llk-7-7_v_6",
        "outputId": "9653ae25-58a5-42f1-a7a5-b51a7b2837a3"
      },
      "execution_count": null,
      "outputs": [
        {
          "output_type": "stream",
          "name": "stdout",
          "text": [
            "A\n"
          ]
        }
      ]
    },
    {
      "cell_type": "code",
      "source": [
        "word = \"Artificial\"\n",
        "\n",
        "for char in word:\n",
        "  print(char)"
      ],
      "metadata": {
        "colab": {
          "base_uri": "https://localhost:8080/"
        },
        "id": "LwyTqs3k9alE",
        "outputId": "66e38285-be3f-4db9-c1b7-4dbeeefd9c96"
      },
      "execution_count": null,
      "outputs": [
        {
          "output_type": "stream",
          "name": "stdout",
          "text": [
            "A\n",
            "r\n",
            "t\n",
            "i\n",
            "f\n",
            "i\n",
            "c\n",
            "i\n",
            "a\n",
            "l\n"
          ]
        }
      ]
    },
    {
      "cell_type": "code",
      "source": [
        "plain_text = \"Artificial\"\n",
        "\n",
        "for char in plain_text:\n",
        "  print(ord(char)) #ord means asci value"
      ],
      "metadata": {
        "colab": {
          "base_uri": "https://localhost:8080/"
        },
        "id": "3mabpkH4AEju",
        "outputId": "395294e4-6e17-49a1-a1ba-c0b65cd284f0"
      },
      "execution_count": null,
      "outputs": [
        {
          "output_type": "stream",
          "name": "stdout",
          "text": [
            "65\n",
            "114\n",
            "116\n",
            "105\n",
            "102\n",
            "105\n",
            "99\n",
            "105\n",
            "97\n",
            "108\n"
          ]
        }
      ]
    },
    {
      "cell_type": "code",
      "source": [
        "plain_text = \"Artificial\"\n",
        "\n",
        "for char in plain_text:\n",
        "  print(chr(ord(char))) #chr means converting into character"
      ],
      "metadata": {
        "colab": {
          "base_uri": "https://localhost:8080/"
        },
        "id": "NboiZOJtAEzY",
        "outputId": "62616ad8-f7e4-4966-a5af-bf7dbb43ac05"
      },
      "execution_count": null,
      "outputs": [
        {
          "output_type": "stream",
          "name": "stdout",
          "text": [
            "A\n",
            "r\n",
            "t\n",
            "i\n",
            "f\n",
            "i\n",
            "c\n",
            "i\n",
            "a\n",
            "l\n"
          ]
        }
      ]
    },
    {
      "cell_type": "code",
      "source": [],
      "metadata": {
        "id": "szJoy2SoBdKh"
      },
      "execution_count": null,
      "outputs": []
    },
    {
      "cell_type": "code",
      "source": [
        "plain_txt = \"hello\"\n",
        "key = 3\n",
        "cipher = \"\"\n",
        "\n",
        "for char in plain_txt:\n",
        "  cipher += chr(ord(char) + key)\n",
        "print(cipher)\n",
        "\n",
        "decode = \"\"\n",
        "for i in cipher:\n",
        "  decode += chr(ord(i) - key)\n",
        "print(decode)"
      ],
      "metadata": {
        "colab": {
          "base_uri": "https://localhost:8080/"
        },
        "id": "ZcNvwk8MAf_U",
        "outputId": "ef5a301d-565f-4834-ed51-450f510776a8"
      },
      "execution_count": null,
      "outputs": [
        {
          "output_type": "stream",
          "name": "stdout",
          "text": [
            "khoor\n",
            "hello\n"
          ]
        }
      ]
    },
    {
      "cell_type": "code",
      "source": [
        "print(ord(\"a\"))"
      ],
      "metadata": {
        "colab": {
          "base_uri": "https://localhost:8080/"
        },
        "id": "ka_ZrVhx9at7",
        "outputId": "d62ad767-f318-46d6-8f24-fe62fc6c50f8"
      },
      "execution_count": null,
      "outputs": [
        {
          "output_type": "stream",
          "name": "stdout",
          "text": [
            "97\n"
          ]
        }
      ]
    },
    {
      "cell_type": "code",
      "source": [
        "a = 123\n",
        "b = chr(a)\n",
        "print(type(b))"
      ],
      "metadata": {
        "id": "cqWhHjLF_jOk",
        "colab": {
          "base_uri": "https://localhost:8080/"
        },
        "outputId": "ab24fac4-b07a-4b41-ec87-bd0abb86f428"
      },
      "execution_count": null,
      "outputs": [
        {
          "output_type": "stream",
          "name": "stdout",
          "text": [
            "<class 'str'>\n"
          ]
        }
      ]
    },
    {
      "cell_type": "code",
      "source": [
        "student_dict = {\"Alice\": 25, \"Bob\": 18,\"Joyee\": 40}\n",
        "\n",
        "for name in student_dict.keys():\n",
        "  print(name)\n",
        "\n",
        "for age in student_dict.values():\n",
        "  print(age)\n",
        "\n",
        "for name, age in student_dict.items():\n",
        "  print(name, age)\n",
        "\n",
        "for t in student_dict.items():\n",
        "  print(t)"
      ],
      "metadata": {
        "colab": {
          "base_uri": "https://localhost:8080/"
        },
        "id": "KSTsO69P_jU_",
        "outputId": "f6238470-9c0e-45e7-bcbd-2c86b273fc52"
      },
      "execution_count": null,
      "outputs": [
        {
          "output_type": "stream",
          "name": "stdout",
          "text": [
            "Alice\n",
            "Bob\n",
            "Joyee\n",
            "25\n",
            "18\n",
            "40\n",
            "Alice 25\n",
            "Bob 18\n",
            "Joyee 40\n",
            "('Alice', 25)\n",
            "('Bob', 18)\n",
            "('Joyee', 40)\n"
          ]
        }
      ]
    },
    {
      "cell_type": "code",
      "source": [
        "names =[\"Alice\", \"Bob\",\"Joyee\"]\n",
        "ages = [25,18, 40]\n",
        "\n",
        "for name, age in zip (names, ages):\n",
        "  print(name, age)"
      ],
      "metadata": {
        "colab": {
          "base_uri": "https://localhost:8080/"
        },
        "id": "jSiRGkAp_jbg",
        "outputId": "42feda47-55e5-42c8-f3e1-19f759b16576"
      },
      "execution_count": null,
      "outputs": [
        {
          "output_type": "stream",
          "name": "stdout",
          "text": [
            "Alice 25\n",
            "Bob 18\n",
            "Joyee 40\n"
          ]
        }
      ]
    },
    {
      "cell_type": "code",
      "source": [
        "names =[\"Alice\", \"Bob\",\"Joyee\"]\n",
        "\n",
        "for index, name in enumerate(names):\n",
        "  print(index, name)"
      ],
      "metadata": {
        "colab": {
          "base_uri": "https://localhost:8080/"
        },
        "id": "svjU9eZCEoXo",
        "outputId": "99b9c7fc-5fa3-489a-fd04-8172f73d72ef"
      },
      "execution_count": null,
      "outputs": [
        {
          "output_type": "stream",
          "name": "stdout",
          "text": [
            "0 Alice\n",
            "1 Bob\n",
            "2 Joyee\n"
          ]
        }
      ]
    },
    {
      "cell_type": "code",
      "source": [
        "for i in  range(4):\n",
        "  for j in range(4):\n",
        "    for k in range (4):\n",
        "      print(\"i: \", i, \" j: \", j, \" k:  \",k)"
      ],
      "metadata": {
        "colab": {
          "base_uri": "https://localhost:8080/"
        },
        "id": "caYdVJNqHCkE",
        "outputId": "3c0f8430-b05e-4ca3-cd0e-b413b7b05089"
      },
      "execution_count": null,
      "outputs": [
        {
          "output_type": "stream",
          "name": "stdout",
          "text": [
            "i:  0  j:  0  k:   0\n",
            "i:  0  j:  0  k:   1\n",
            "i:  0  j:  0  k:   2\n",
            "i:  0  j:  0  k:   3\n",
            "i:  0  j:  1  k:   0\n",
            "i:  0  j:  1  k:   1\n",
            "i:  0  j:  1  k:   2\n",
            "i:  0  j:  1  k:   3\n",
            "i:  0  j:  2  k:   0\n",
            "i:  0  j:  2  k:   1\n",
            "i:  0  j:  2  k:   2\n",
            "i:  0  j:  2  k:   3\n",
            "i:  0  j:  3  k:   0\n",
            "i:  0  j:  3  k:   1\n",
            "i:  0  j:  3  k:   2\n",
            "i:  0  j:  3  k:   3\n",
            "i:  1  j:  0  k:   0\n",
            "i:  1  j:  0  k:   1\n",
            "i:  1  j:  0  k:   2\n",
            "i:  1  j:  0  k:   3\n",
            "i:  1  j:  1  k:   0\n",
            "i:  1  j:  1  k:   1\n",
            "i:  1  j:  1  k:   2\n",
            "i:  1  j:  1  k:   3\n",
            "i:  1  j:  2  k:   0\n",
            "i:  1  j:  2  k:   1\n",
            "i:  1  j:  2  k:   2\n",
            "i:  1  j:  2  k:   3\n",
            "i:  1  j:  3  k:   0\n",
            "i:  1  j:  3  k:   1\n",
            "i:  1  j:  3  k:   2\n",
            "i:  1  j:  3  k:   3\n",
            "i:  2  j:  0  k:   0\n",
            "i:  2  j:  0  k:   1\n",
            "i:  2  j:  0  k:   2\n",
            "i:  2  j:  0  k:   3\n",
            "i:  2  j:  1  k:   0\n",
            "i:  2  j:  1  k:   1\n",
            "i:  2  j:  1  k:   2\n",
            "i:  2  j:  1  k:   3\n",
            "i:  2  j:  2  k:   0\n",
            "i:  2  j:  2  k:   1\n",
            "i:  2  j:  2  k:   2\n",
            "i:  2  j:  2  k:   3\n",
            "i:  2  j:  3  k:   0\n",
            "i:  2  j:  3  k:   1\n",
            "i:  2  j:  3  k:   2\n",
            "i:  2  j:  3  k:   3\n",
            "i:  3  j:  0  k:   0\n",
            "i:  3  j:  0  k:   1\n",
            "i:  3  j:  0  k:   2\n",
            "i:  3  j:  0  k:   3\n",
            "i:  3  j:  1  k:   0\n",
            "i:  3  j:  1  k:   1\n",
            "i:  3  j:  1  k:   2\n",
            "i:  3  j:  1  k:   3\n",
            "i:  3  j:  2  k:   0\n",
            "i:  3  j:  2  k:   1\n",
            "i:  3  j:  2  k:   2\n",
            "i:  3  j:  2  k:   3\n",
            "i:  3  j:  3  k:   0\n",
            "i:  3  j:  3  k:   1\n",
            "i:  3  j:  3  k:   2\n",
            "i:  3  j:  3  k:   3\n"
          ]
        }
      ]
    },
    {
      "cell_type": "code",
      "source": [
        "matrix = [[0,1,5], [28, 96, 89], [45, 79, 120]]\n",
        "\n",
        "for row in matrix:\n",
        "  for ele in row:\n",
        "    print(ele)"
      ],
      "metadata": {
        "colab": {
          "base_uri": "https://localhost:8080/"
        },
        "id": "w9LtjOg2HLNZ",
        "outputId": "6d011fa4-6051-401e-ecab-410fc62364e0"
      },
      "execution_count": null,
      "outputs": [
        {
          "output_type": "stream",
          "name": "stdout",
          "text": [
            "0\n",
            "1\n",
            "5\n",
            "28\n",
            "96\n",
            "89\n",
            "45\n",
            "79\n",
            "120\n"
          ]
        }
      ]
    },
    {
      "cell_type": "code",
      "source": [
        "a = [32, 45, 99,5]\n",
        "max = a[0]\n",
        "\n",
        "for i in a:\n",
        "  if i>max:\n",
        "    max = i\n",
        "print(max)"
      ],
      "metadata": {
        "colab": {
          "base_uri": "https://localhost:8080/"
        },
        "id": "Jpa8Wo6IHCoz",
        "outputId": "5066457b-1bb8-4e7b-ad2c-2e496577e6a3"
      },
      "execution_count": null,
      "outputs": [
        {
          "output_type": "stream",
          "name": "stdout",
          "text": [
            "99\n"
          ]
        }
      ]
    },
    {
      "cell_type": "code",
      "source": [
        "for i in range (11):\n",
        "  print(i)"
      ],
      "metadata": {
        "colab": {
          "base_uri": "https://localhost:8080/"
        },
        "id": "HboApZCBM4xI",
        "outputId": "16554b0e-4a92-4bae-e902-fffa59ddfbc3"
      },
      "execution_count": null,
      "outputs": [
        {
          "output_type": "stream",
          "name": "stdout",
          "text": [
            "0\n",
            "1\n",
            "2\n",
            "3\n",
            "4\n",
            "5\n",
            "6\n",
            "7\n",
            "8\n",
            "9\n",
            "10\n"
          ]
        }
      ]
    },
    {
      "cell_type": "code",
      "source": [
        "sum = 0\n",
        "a = int (input(\"Enter n: \"))\n",
        "\n",
        "for i in range(a):\n",
        "  sum+=i\n",
        "print(sum)\n"
      ],
      "metadata": {
        "colab": {
          "base_uri": "https://localhost:8080/"
        },
        "id": "rTzdVjctM6I0",
        "outputId": "02c69d4f-ab69-4396-a966-a2fe443e4ee6"
      },
      "execution_count": null,
      "outputs": [
        {
          "output_type": "stream",
          "name": "stdout",
          "text": [
            "Enter n: 10\n",
            "45\n"
          ]
        }
      ]
    },
    {
      "cell_type": "code",
      "source": [
        "string = \"Bank\"\n",
        "\n",
        "for i in string:\n",
        "  print(chr(ord(i)))"
      ],
      "metadata": {
        "colab": {
          "base_uri": "https://localhost:8080/"
        },
        "id": "6xO4ah50M6RA",
        "outputId": "8fad36f9-f7c1-40f5-cda9-c99a1e77a38b"
      },
      "execution_count": null,
      "outputs": [
        {
          "output_type": "stream",
          "name": "stdout",
          "text": [
            "B\n",
            "a\n",
            "n\n",
            "k\n"
          ]
        }
      ]
    },
    {
      "cell_type": "code",
      "source": [
        "fact = 1\n",
        "a = int (input(\"Enter n: \"))\n",
        "\n",
        "for i in range(a):\n",
        "  fact*=i\n",
        "  a-=1\n",
        "print(fact)"
      ],
      "metadata": {
        "colab": {
          "base_uri": "https://localhost:8080/"
        },
        "id": "6SMQqF5SM6Us",
        "outputId": "0ffca0dc-aead-42c9-d8fc-309a05b867fe"
      },
      "execution_count": null,
      "outputs": [
        {
          "output_type": "stream",
          "name": "stdout",
          "text": [
            "Enter n: 5\n",
            "0\n"
          ]
        }
      ]
    },
    {
      "cell_type": "code",
      "source": [
        "#Count frequency of digits\n",
        "\n",
        "a = [0, 0, 0, 0,0, 0,0, 0, 0, 0]   # 0 to 9 = 10 digits so 10 0 in list ele\n",
        "b = int (input (\"Enter number: \"))\n",
        "\n",
        "while (b>0):\n",
        "  d = b%10\n",
        "  a[d] +=1 #increasing frquency in that position\n",
        "  b//=10\n",
        "print(a)\n",
        "\n"
      ],
      "metadata": {
        "colab": {
          "base_uri": "https://localhost:8080/"
        },
        "id": "ZvZlyoZlM6b0",
        "outputId": "37335a71-19e1-44c9-fbf2-00992ef7a20e"
      },
      "execution_count": null,
      "outputs": [
        {
          "output_type": "stream",
          "name": "stdout",
          "text": [
            "Enter number: 2412\n",
            "[0, 1, 2, 0, 1, 0, 0]\n"
          ]
        }
      ]
    },
    {
      "cell_type": "code",
      "source": [
        "#Count the Frequency of Digits in a Number\n",
        "\n",
        "import math\n",
        "\n",
        "n = int(input(\"Enter a num: \"))\n",
        "prime = True\n",
        "\n",
        "for i in range (2, int(math.sqrt(n))+1: # math.sqrt(n) returns float value and range always be int\n",
        "  if not (n%i):\n",
        "    prime = False\n",
        "    break\n",
        "\n",
        "if prime is True:\n",
        "  print(n, \" is a prime number\")\n",
        "else:\n",
        "  print(n, \" is not a prime number\")"
      ],
      "metadata": {
        "colab": {
          "base_uri": "https://localhost:8080/"
        },
        "id": "3NYTdOYHM6lQ",
        "outputId": "b7379da0-33c5-43dd-dd6d-d0f2f28bc626"
      },
      "execution_count": null,
      "outputs": [
        {
          "output_type": "stream",
          "name": "stdout",
          "text": [
            "Enter a num: 65\n",
            "65  is not a prime number\n"
          ]
        }
      ]
    },
    {
      "cell_type": "code",
      "source": [
        "#Finding Palindromes in a List\n",
        "\n",
        "a = [121, 45, 60]\n",
        "\n",
        "for i in a:\n",
        "\n"
      ],
      "metadata": {
        "id": "KyqJfFWwaQXc"
      },
      "execution_count": null,
      "outputs": []
    },
    {
      "cell_type": "code",
      "source": [
        "#Fibonnacci number in a List"
      ],
      "metadata": {
        "id": "tpugYpRLbsQH"
      },
      "execution_count": null,
      "outputs": []
    },
    {
      "cell_type": "code",
      "source": [
        "smallest = None # is True"
      ],
      "metadata": {
        "id": "kWDMreAYWztb"
      },
      "execution_count": null,
      "outputs": []
    },
    {
      "cell_type": "code",
      "source": [
        "is"
      ],
      "metadata": {
        "id": "KIM--NHR9sVH"
      },
      "execution_count": null,
      "outputs": []
    },
    {
      "cell_type": "code",
      "source": [
        "''' Write a program to:\n",
        "1. Print Numbers from 1 to 10\n",
        "2. Sum of First N Natural Numbers\n",
        "3. Print Each Character of a String\n",
        "4. Print Even Numbers Between 1 and 20\n",
        "5. Find the Factorial of a Number\n",
        "6. Create a Multiplication Table\n",
        "7. Sum of Even Numbers in a List\n",
        "8. Count the Frequency of Digits in a Number\n",
        "9. Check for Prime Numbers in a Range\n",
        "10. Finding Palindromes in a List '''\n"
      ],
      "metadata": {
        "id": "OJ4hm9DY92H-"
      },
      "execution_count": null,
      "outputs": []
    },
    {
      "cell_type": "code",
      "source": [
        "#Sum of First N Natural Numbers\n",
        "\n",
        "num = int(input(\"Enter number until which you want to sum: \"))\n",
        "\n",
        "sum = 0\n",
        "\n",
        "for i in range (1, num+1):\n",
        "  sum+= i\n",
        "print (sum)"
      ],
      "metadata": {
        "colab": {
          "base_uri": "https://localhost:8080/"
        },
        "id": "W6ta48cf99Qp",
        "outputId": "8372b5df-ba2f-4ce6-e115-030bb2c6c215"
      },
      "execution_count": null,
      "outputs": [
        {
          "output_type": "stream",
          "name": "stdout",
          "text": [
            "Enter number until which you want to sum: 5\n",
            "15\n"
          ]
        }
      ]
    },
    {
      "cell_type": "code",
      "source": [
        "#Print Each Character of a String\n",
        "\n",
        "music = \"It's My Life\"\n",
        "\n",
        "for i in music:\n",
        "  print(i)"
      ],
      "metadata": {
        "colab": {
          "base_uri": "https://localhost:8080/"
        },
        "id": "9x5MHcfq-V1w",
        "outputId": "f0c0472b-da04-4873-815b-4256e64d32c2"
      },
      "execution_count": null,
      "outputs": [
        {
          "output_type": "stream",
          "name": "stdout",
          "text": [
            "I\n",
            "t\n",
            "'\n",
            "s\n",
            " \n",
            "M\n",
            "y\n",
            " \n",
            "L\n",
            "i\n",
            "f\n",
            "e\n"
          ]
        }
      ]
    },
    {
      "cell_type": "code",
      "source": [
        "#Find the Factorial of a Number\n",
        "\n",
        "num = int(input(\"Enter num: \"))\n",
        "fact = 1\n",
        "\n",
        "for i in range (2, num+1):\n",
        "  fact *= i\n",
        "print(fact)"
      ],
      "metadata": {
        "colab": {
          "base_uri": "https://localhost:8080/"
        },
        "id": "JZ1LVQvG_VUW",
        "outputId": "75d192a6-faef-4824-e22e-abbf5f5b35ec"
      },
      "execution_count": null,
      "outputs": [
        {
          "output_type": "stream",
          "name": "stdout",
          "text": [
            "Enter num: 5\n",
            "120\n"
          ]
        }
      ]
    },
    {
      "cell_type": "code",
      "source": [
        "#Create a Multiplication Table\n",
        "\n",
        "num = int(input(\"Enter num: \"))\n",
        "\n",
        "for i in range (1, 11):\n",
        "  print(num, \"*\",i, \" = \", num*i)\n",
        "\n"
      ],
      "metadata": {
        "colab": {
          "base_uri": "https://localhost:8080/"
        },
        "id": "Peh8Ezeb_1JW",
        "outputId": "1e4c214c-8177-4305-946f-7d44d8c70d20"
      },
      "execution_count": null,
      "outputs": [
        {
          "output_type": "stream",
          "name": "stdout",
          "text": [
            "Enter num: 18\n",
            "18 * 1  =  18\n",
            "18 * 2  =  36\n",
            "18 * 3  =  54\n",
            "18 * 4  =  72\n",
            "18 * 5  =  90\n",
            "18 * 6  =  108\n",
            "18 * 7  =  126\n",
            "18 * 8  =  144\n",
            "18 * 9  =  162\n",
            "18 * 10  =  180\n"
          ]
        }
      ]
    },
    {
      "cell_type": "code",
      "source": [
        "#Sum of Even Numbers in a List\n",
        "\n",
        "num_list = [12,50,11,78,3,5,78,47,4,41]\n",
        "\n",
        "sum = 0\n",
        "\n",
        "for i in num_list:\n",
        "  if (i%2):\n",
        "    continue\n",
        "  sum += i\n",
        "print(sum)"
      ],
      "metadata": {
        "colab": {
          "base_uri": "https://localhost:8080/"
        },
        "id": "-D0q3xIZAqH-",
        "outputId": "e70c17bf-e615-48cf-ae91-5306e3b959d8"
      },
      "execution_count": null,
      "outputs": [
        {
          "output_type": "stream",
          "name": "stdout",
          "text": [
            "222\n"
          ]
        }
      ]
    },
    {
      "cell_type": "code",
      "source": [
        "\n",
        "\n"
      ],
      "metadata": {
        "id": "tvs5PI7MCf_R"
      },
      "execution_count": null,
      "outputs": []
    },
    {
      "cell_type": "code",
      "source": [
        "#Check for Prime Numbers in a Range"
      ],
      "metadata": {
        "id": "l56lLPeICoWg"
      },
      "execution_count": null,
      "outputs": []
    },
    {
      "cell_type": "code",
      "source": [
        "#Finding Palindromes in a List"
      ],
      "metadata": {
        "id": "ILVDvgA3CsMB"
      },
      "execution_count": null,
      "outputs": []
    }
  ]
}