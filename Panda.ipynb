{
  "nbformat": 4,
  "nbformat_minor": 0,
  "metadata": {
    "colab": {
      "provenance": []
    },
    "kernelspec": {
      "name": "python3",
      "display_name": "Python 3"
    },
    "language_info": {
      "name": "python"
    }
  },
  "cells": [
    {
      "cell_type": "code",
      "execution_count": null,
      "metadata": {
        "colab": {
          "base_uri": "https://localhost:8080/"
        },
        "id": "k69ofnYEih_x",
        "outputId": "0edbda29-9ccd-4ef3-be99-83b1cab80146"
      },
      "outputs": [
        {
          "output_type": "stream",
          "name": "stdout",
          "text": [
            "0    10\n",
            "1    20\n",
            "2    30\n",
            "3    40\n",
            "dtype: int64\n"
          ]
        }
      ],
      "source": [
        "#You can create a Series from a list, NumPy array, or dictionary.\n",
        "\n",
        "import pandas as pd\n",
        "\n",
        "data = [10, 20, 30, 40]\n",
        "series = pd.Series(data)\n",
        "print(series)"
      ]
    },
    {
      "cell_type": "code",
      "source": [
        "#You can access individual elements in a Series by their index label or position.\n",
        "\n",
        "print(series[2]) # Access by position"
      ],
      "metadata": {
        "colab": {
          "base_uri": "https://localhost:8080/"
        },
        "id": "i5NNBjzbjHhz",
        "outputId": "85608ed8-b93c-4191-aa47-e0c1eb8bfdf1"
      },
      "execution_count": null,
      "outputs": [
        {
          "output_type": "stream",
          "name": "stdout",
          "text": [
            "30\n"
          ]
        }
      ]
    },
    {
      "cell_type": "code",
      "source": [
        "#A DataFrame can be created from various sources, such as dictionaries, lists of lists, or NumPy arrays.\n",
        "\n",
        "data = {'Name': ['Alice', 'Bob', 'Charlie'], 'Age': [25, 30, 35]}\n",
        "df = pd.DataFrame(data)\n",
        "print(df)"
      ],
      "metadata": {
        "colab": {
          "base_uri": "https://localhost:8080/"
        },
        "id": "IeGd3OgIjshh",
        "outputId": "55cfb051-455b-42fa-da5b-8419ee3b593d"
      },
      "execution_count": null,
      "outputs": [
        {
          "output_type": "stream",
          "name": "stdout",
          "text": [
            "      Name  Age\n",
            "0    Alice   25\n",
            "1      Bob   30\n",
            "2  Charlie   35\n"
          ]
        }
      ]
    },
    {
      "cell_type": "code",
      "source": [
        "#You can access rows, columns, or subsets of the DataFrame using various methods like .loc[], .iloc[], and direct column access.\n",
        "\n",
        "print(df['Name']) # Accessing a column by name\n",
        "print(df.iloc[1]) # Accessing a row by position\n",
        "print(df.loc[1, 'Name']) # Accessing specific cell by row and column labels"
      ],
      "metadata": {
        "colab": {
          "base_uri": "https://localhost:8080/"
        },
        "id": "qcortYsQjsuj",
        "outputId": "2866ee97-9d3c-4921-f64f-49d79363efbf"
      },
      "execution_count": null,
      "outputs": [
        {
          "output_type": "stream",
          "name": "stdout",
          "text": [
            "0      Alice\n",
            "1        Bob\n",
            "2    Charlie\n",
            "Name: Name, dtype: object\n",
            "Name    Bob\n",
            "Age      30\n",
            "Name: 1, dtype: object\n",
            "Bob\n"
          ]
        }
      ]
    },
    {
      "cell_type": "code",
      "source": [
        "df = pd.DataFrame({'A': [1, 2, 3], 'B': [4, 5, 6]})\n",
        "print(df.loc[0]) # Access by label (row index)\n",
        "\n",
        "print(\"Japan\")\n",
        "print(df.iloc[1]) # Access by position (row index)"
      ],
      "metadata": {
        "colab": {
          "base_uri": "https://localhost:8080/"
        },
        "id": "BPIaBlM3jHsw",
        "outputId": "04a6cfe6-017c-4d44-dbfc-7a4e30229253"
      },
      "execution_count": null,
      "outputs": [
        {
          "output_type": "stream",
          "name": "stdout",
          "text": [
            "A    1\n",
            "B    4\n",
            "Name: 0, dtype: int64\n",
            "Japan\n",
            "A    2\n",
            "B    5\n",
            "Name: 1, dtype: int64\n"
          ]
        }
      ]
    },
    {
      "cell_type": "code",
      "source": [
        "#Adding Columns and Rows: You can add new columns by directly assigning values or by using methods like insert().Removing Data: Use .drop() to remove rows or columns.\n",
        "\n",
        "df['C'] = [7, 8, 9] # Adding a column"
      ],
      "metadata": {
        "id": "Y3ZPQYnVnO9p"
      },
      "execution_count": null,
      "outputs": []
    },
    {
      "cell_type": "code",
      "source": [
        "#Grouping in Pandas is done using the .groupby() method. This method allows you to group data based on one or more columns, and then apply aggregation functions like sum(), mean(), or count() to each group.\n",
        "df = pd.DataFrame({'Category': ['A', 'A', 'B', 'B'], 'Value': [10, 15, 20, 25]})\n",
        "grouped = df.groupby('Category').sum()\n",
        "print(grouped)"
      ],
      "metadata": {
        "colab": {
          "base_uri": "https://localhost:8080/"
        },
        "id": "Fdx2AdFUnssz",
        "outputId": "d4b1e1ee-fdb8-4f53-8124-9e8606dbdcac"
      },
      "execution_count": null,
      "outputs": [
        {
          "output_type": "stream",
          "name": "stdout",
          "text": [
            "          Value\n",
            "Category       \n",
            "A            25\n",
            "B            45\n"
          ]
        }
      ]
    },
    {
      "cell_type": "code",
      "source": [
        "#Aggregating Data\n",
        "#You can apply various aggregate functions (e.g., sum, mean, min, max) across rows or columns of a DataFrame using.aggregate()\n",
        "\n",
        "df = pd.DataFrame({'A': [1, 2, 3], 'B': [4, 5, 6]})\n",
        "print(df.aggregate('sum')) # Apply sum function to all columns"
      ],
      "metadata": {
        "colab": {
          "base_uri": "https://localhost:8080/"
        },
        "id": "3bCWKQtloQI7",
        "outputId": "583db3e7-2fe2-4b78-f022-a858c85f1faf"
      },
      "execution_count": null,
      "outputs": [
        {
          "output_type": "stream",
          "name": "stdout",
          "text": [
            "A     6\n",
            "B    15\n",
            "dtype: int64\n"
          ]
        }
      ]
    },
    {
      "cell_type": "code",
      "source": [
        "#Detecting Missing Data\n",
        "#Pandas provides the .isnull() and .notnull() functions to identify missing values in a DataFrame or Series.\n",
        "\n",
        "import numpy as np\n",
        "\n",
        "df = pd.DataFrame({'A': [1, np.nan, 3], 'B': [4, 5, np.nan]})\n",
        "print(df.isnull()) # Detect missing data"
      ],
      "metadata": {
        "colab": {
          "base_uri": "https://localhost:8080/"
        },
        "id": "EsuwsjERo1lW",
        "outputId": "5f85cefd-4dfc-44ce-85f9-24317a5b0074"
      },
      "execution_count": null,
      "outputs": [
        {
          "output_type": "stream",
          "name": "stdout",
          "text": [
            "       A      B\n",
            "0  False  False\n",
            "1   True  False\n",
            "2  False   True\n"
          ]
        }
      ]
    },
    {
      "cell_type": "code",
      "source": [
        "#Cleaning and Filling Missing Data\n",
        "'''Missing data can be handled by either removing rows/columns containing NaN values using .dropna()\n",
        "or filling the missing values using .fillna().'''\n",
        "\n",
        "df = df.fillna(0) # Filling missing data with 0\n",
        "print(df)"
      ],
      "metadata": {
        "colab": {
          "base_uri": "https://localhost:8080/"
        },
        "id": "fsrujauUpyrD",
        "outputId": "fa0d9e15-0cc5-4b37-9186-62c50fc34a0e"
      },
      "execution_count": null,
      "outputs": [
        {
          "output_type": "stream",
          "name": "stdout",
          "text": [
            "     A    B\n",
            "0  1.0  4.0\n",
            "1  0.0  5.0\n",
            "2  3.0  0.0\n"
          ]
        }
      ]
    },
    {
      "cell_type": "markdown",
      "source": [
        "**Working with Time Series Data**"
      ],
      "metadata": {
        "id": "RCrcrkFOqN9-"
      }
    },
    {
      "cell_type": "code",
      "source": [
        "'''Time series data in Pandas can be created using the pd.to datetime() function.\n",
        "Time series data often requires indexing by date and time.'''\n",
        "\n",
        "dates = pd.date_range('20230101', periods=6)\n",
        "df = pd.DataFrame(np.random.randn(6, 4), index=dates, columns=list('ABCD'))\n",
        "print(df)"
      ],
      "metadata": {
        "colab": {
          "base_uri": "https://localhost:8080/"
        },
        "id": "bFBVbYa_py0l",
        "outputId": "dcecc3e6-bf14-4c23-a4b0-04ff67d646c7"
      },
      "execution_count": null,
      "outputs": [
        {
          "output_type": "stream",
          "name": "stdout",
          "text": [
            "                   A         B         C         D\n",
            "2023-01-01  0.334946 -1.724745 -1.884682 -0.240324\n",
            "2023-01-02 -0.018926  0.329640  3.079282  1.232676\n",
            "2023-01-03 -0.813644 -0.856727  0.159937 -0.158352\n",
            "2023-01-04 -0.020376  0.028918  0.254747  0.202676\n",
            "2023-01-05 -1.832331  0.264201  1.047731 -0.461809\n",
            "2023-01-06 -0.362763 -0.117930 -0.052385  1.090213\n"
          ]
        }
      ]
    },
    {
      "cell_type": "code",
      "source": [
        "#Resampling and Shifting Time Series Data\n",
        "'''You can resample data to a different frequency (e.g., daily, monthly) using .resample() and perform operations\n",
        "like aggregation on the resampled data.'''\n",
        "\n",
        "df_resampled = df.resample('D').mean() # Daily resampling\n",
        "print(df_resampled)"
      ],
      "metadata": {
        "colab": {
          "base_uri": "https://localhost:8080/"
        },
        "id": "u9iHMvWDq8NM",
        "outputId": "c71403df-c909-4584-ac15-5427d4d2e6a2"
      },
      "execution_count": null,
      "outputs": [
        {
          "output_type": "stream",
          "name": "stdout",
          "text": [
            "                   A         B         C         D\n",
            "2023-01-01  0.334946 -1.724745 -1.884682 -0.240324\n",
            "2023-01-02 -0.018926  0.329640  3.079282  1.232676\n",
            "2023-01-03 -0.813644 -0.856727  0.159937 -0.158352\n",
            "2023-01-04 -0.020376  0.028918  0.254747  0.202676\n",
            "2023-01-05 -1.832331  0.264201  1.047731 -0.461809\n",
            "2023-01-06 -0.362763 -0.117930 -0.052385  1.090213\n"
          ]
        }
      ]
    },
    {
      "cell_type": "code",
      "source": [
        "#Merging and Joining Data\n",
        "'''Merging DataFrames in Pandas is done using the .merge() method. This is similar to SQL joins and allows you to\n",
        "combine DataFrames based on common columns.'''\n",
        "\n",
        "df1 = pd.DataFrame({'key': ['A',' B'], 'value': [1, 2]})\n",
        "df2 = pd.DataFrame({'key': ['A', 'C'], 'value': [3, 4]})\n",
        "merged = pd.merge(df1, df2, on='key', how='inner')\n",
        "print(merged)"
      ],
      "metadata": {
        "colab": {
          "base_uri": "https://localhost:8080/"
        },
        "id": "bZppDXx8q8Us",
        "outputId": "6a3fcc1e-6ef2-48b8-b3aa-0369d77dc1f0"
      },
      "execution_count": null,
      "outputs": [
        {
          "output_type": "stream",
          "name": "stdout",
          "text": [
            "  key  value_x  value_y\n",
            "0   A        1        3\n"
          ]
        }
      ]
    },
    {
      "cell_type": "code",
      "source": [
        "#Concatenating DataFrames\n",
        "#You can concatenate multiple DataFrames along rows or columns using the .concat() method.\n",
        "\n",
        "df1 = pd.DataFrame([[1, 2], [3, 4]], columns=['A', 'B'])\n",
        "df2 = pd.DataFrame([[5, 6], [7, 8]], columns=['A', 'B'])\n",
        "result = pd.concat([df1, df2], axis=0) # Concatenate along rows\n",
        "print(result)"
      ],
      "metadata": {
        "colab": {
          "base_uri": "https://localhost:8080/"
        },
        "id": "b4EYk0IJq8Xg",
        "outputId": "f1468c7f-33b6-4147-9728-76a535514b7d"
      },
      "execution_count": null,
      "outputs": [
        {
          "output_type": "stream",
          "name": "stdout",
          "text": [
            "   A  B\n",
            "0  1  2\n",
            "1  3  4\n",
            "0  5  6\n",
            "1  7  8\n"
          ]
        }
      ]
    },
    {
      "cell_type": "markdown",
      "source": [
        "**Exercise**"
      ],
      "metadata": {
        "id": "Li7ZjvZ1yH-W"
      }
    },
    {
      "cell_type": "code",
      "source": [
        "'''Problem 1: Create a Pandas Series from the list [5,10,15,20,25]. Access the\n",
        "third element of the series.'''\n",
        "\n",
        "a = [5,10,15,20,25]\n",
        "series = pd.Series(a)\n",
        "print(series[2])"
      ],
      "metadata": {
        "colab": {
          "base_uri": "https://localhost:8080/"
        },
        "id": "t66W1fJmpy5p",
        "outputId": "a63ec8c6-b3b8-43c9-8dd5-f794a31cc2d5"
      },
      "execution_count": null,
      "outputs": [
        {
          "output_type": "stream",
          "name": "stdout",
          "text": [
            "15\n"
          ]
        }
      ]
    },
    {
      "cell_type": "code",
      "source": [
        "'''Problem 2: Create a DataFrame with the following data:\n",
        "\n",
        "Data =\n",
        "⎛\n",
        "⎜\n",
        "⎜\n",
        "⎜\n",
        "⎜\n",
        "⎝\n",
        "Name Age City\n",
        "Alice 23 New York\n",
        "Bob 30 Los Angeles\n",
        "Charlie 28 Chicago\n",
        "⎞\n",
        "⎟\n",
        "⎟\n",
        "⎟\n",
        "⎟\n",
        "⎠\n",
        "\n",
        "Access the City column of the DataFrame.\n",
        "'''\n",
        "\n",
        "data = {'Name': ['Alice', 'Bob', 'Charlie'], 'Age': [23,30,28], 'City': ['New York', 'Los Angeles', 'Chicago']}\n",
        "df = pd.DataFrame(data)\n",
        "print(df['City'])"
      ],
      "metadata": {
        "colab": {
          "base_uri": "https://localhost:8080/"
        },
        "id": "_FoII8mstGc2",
        "outputId": "bf4b7b1d-87c9-4586-bf39-931bb5e62e60"
      },
      "execution_count": null,
      "outputs": [
        {
          "output_type": "stream",
          "name": "stdout",
          "text": [
            "0       New York\n",
            "1    Los Angeles\n",
            "2        Chicago\n",
            "Name: City, dtype: object\n"
          ]
        }
      ]
    },
    {
      "cell_type": "code",
      "source": [
        "'''Problem 3: Create a DataFrame with Name, Age, and Salary columns. Insert\n",
        "a new column Gender with values [’M’, ’F’, ’M’].\n",
        "'''\n",
        "\n",
        "df = pd.DataFrame({'Name': ['Alice', 'Bob', 'Charlie'], 'Age': [23,30,28], 'City': ['New York', 'Los Angeles', 'Chicago']})\n",
        "\n",
        "df['Gender'] = ['M', 'F', 'M']\n",
        "\n",
        "print(df)"
      ],
      "metadata": {
        "colab": {
          "base_uri": "https://localhost:8080/"
        },
        "id": "fP9J70YstMWZ",
        "outputId": "37a8dd9d-10d5-4904-8e84-bc50485378cd"
      },
      "execution_count": null,
      "outputs": [
        {
          "output_type": "stream",
          "name": "stdout",
          "text": [
            "      Name  Age         City Gender\n",
            "0    Alice   23     New York      M\n",
            "1      Bob   30  Los Angeles      F\n",
            "2  Charlie   28      Chicago      M\n"
          ]
        }
      ]
    },
    {
      "cell_type": "code",
      "source": [
        "'''Problem 4: Remove the Age column from the DataFrame created in Problem 3.\n",
        "'''\n",
        "\n",
        "df = df.drop(columns = ['Age'])\n",
        "print(df)"
      ],
      "metadata": {
        "colab": {
          "base_uri": "https://localhost:8080/"
        },
        "id": "8-jYoLK3tMz5",
        "outputId": "e9668d91-1e1b-48eb-b156-1a9c8b8b1b57"
      },
      "execution_count": null,
      "outputs": [
        {
          "output_type": "stream",
          "name": "stdout",
          "text": [
            "      Name         City Gender\n",
            "0    Alice     New York      M\n",
            "1      Bob  Los Angeles      F\n",
            "2  Charlie      Chicago      M\n"
          ]
        }
      ]
    },
    {
      "cell_type": "code",
      "source": [
        "'''Problem 5: Create a Series with values [1,2,3] and index labels [′A′,′B′,′C′].\n",
        "Retrieve the value of label ’B’.\n",
        "'''\n",
        "\n",
        "a = [1,2,3]\n",
        "series = pd.Series(a, index = ['A', 'B', 'C'])\n",
        "\n",
        "print(series['B'])\n"
      ],
      "metadata": {
        "colab": {
          "base_uri": "https://localhost:8080/"
        },
        "id": "21fmxIHCtNQZ",
        "outputId": "81f5c9f5-2eda-42bd-aa9e-7760f3dcfb94"
      },
      "execution_count": null,
      "outputs": [
        {
          "output_type": "stream",
          "name": "stdout",
          "text": [
            "2\n"
          ]
        }
      ]
    },
    {
      "cell_type": "code",
      "source": [
        "'''Problem 6: Create a DataFrame with X and Y columns and 5 rows of random\n",
        "integers between 1 and 100. Find the sum of all values in column X.'''\n",
        "\n",
        "df = pd.DataFrame(np.random.randint(1, 101, size=(5, 2)), columns=['X', 'Y'])\n",
        "print(df)\n",
        "print(df['X'].sum())"
      ],
      "metadata": {
        "colab": {
          "base_uri": "https://localhost:8080/"
        },
        "id": "6jynbx_dtNqx",
        "outputId": "f72788ab-0675-4ca3-c5cb-8163fd01ed93"
      },
      "execution_count": null,
      "outputs": [
        {
          "output_type": "stream",
          "name": "stdout",
          "text": [
            "    X   Y\n",
            "0  61   6\n",
            "1  85   3\n",
            "2  67  55\n",
            "3   5  65\n",
            "4  92   3\n",
            "310\n"
          ]
        }
      ]
    },
    {
      "cell_type": "code",
      "source": [
        "'''Problem 7: Create a DataFrame and filter out rows where the Age column has\n",
        "missing values.\n",
        "'''\n",
        "\n"
      ],
      "metadata": {
        "id": "oYEs1IZi0V3k"
      },
      "execution_count": null,
      "outputs": []
    },
    {
      "cell_type": "code",
      "source": [],
      "metadata": {
        "id": "EECrxATY0V9U"
      },
      "execution_count": null,
      "outputs": []
    },
    {
      "cell_type": "code",
      "source": [],
      "metadata": {
        "id": "FR3h1Wzc0WAQ"
      },
      "execution_count": null,
      "outputs": []
    },
    {
      "cell_type": "code",
      "source": [],
      "metadata": {
        "id": "u2x7EKvb0WDP"
      },
      "execution_count": null,
      "outputs": []
    }
  ]
}