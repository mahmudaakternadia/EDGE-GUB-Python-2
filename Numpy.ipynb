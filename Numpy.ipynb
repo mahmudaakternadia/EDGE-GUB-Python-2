{
  "nbformat": 4,
  "nbformat_minor": 0,
  "metadata": {
    "colab": {
      "provenance": []
    },
    "kernelspec": {
      "name": "python3",
      "display_name": "Python 3"
    },
    "language_info": {
      "name": "python"
    }
  },
  "cells": [
    {
      "cell_type": "code",
      "execution_count": null,
      "metadata": {
        "colab": {
          "base_uri": "https://localhost:8080/"
        },
        "id": "R46TCKp5MM2j",
        "outputId": "6ab01a6c-8973-43a0-d586-874fd66273ce"
      },
      "outputs": [
        {
          "output_type": "stream",
          "name": "stdout",
          "text": [
            "Element: 1\n",
            "Element: 5\n",
            "Element: 6\n",
            "Element: 88\n",
            "Element: 66\n",
            "['1' '5' '6' '88' '66']\n"
          ]
        }
      ],
      "source": [
        "from numpy import *\n",
        "arr = array([])\n",
        "for i in range(5):\n",
        "  v = input(\"Element: \")\n",
        "  arr = append(arr, v)\n",
        "print(arr)"
      ]
    },
    {
      "cell_type": "code",
      "source": [
        "import numpy as np\n",
        "arr1d = np.array([1,2,3])\n",
        "print(arr1d)\n",
        "\n",
        "arr2d = np.array([[1, 2], [3, 4]])\n",
        "print(arr2d)\n"
      ],
      "metadata": {
        "colab": {
          "base_uri": "https://localhost:8080/"
        },
        "id": "PDZBh51fRxC5",
        "outputId": "95043fcd-7a3e-43e1-f8a4-d05dd7b44372"
      },
      "execution_count": null,
      "outputs": [
        {
          "output_type": "stream",
          "name": "stdout",
          "text": [
            "[1 2 3]\n",
            "[[1 2]\n",
            " [3 4]]\n"
          ]
        }
      ]
    },
    {
      "cell_type": "code",
      "source": [
        "#0array\n",
        "\n",
        "zeroarr = np.ones((2,3))\n",
        "print(zeroarr)"
      ],
      "metadata": {
        "colab": {
          "base_uri": "https://localhost:8080/"
        },
        "id": "w80IN3UeSoJ_",
        "outputId": "5486d047-7047-4bed-a561-4aa9f37dd5a7"
      },
      "execution_count": null,
      "outputs": [
        {
          "output_type": "stream",
          "name": "stdout",
          "text": [
            "[[1. 1. 1.]\n",
            " [1. 1. 1.]]\n"
          ]
        }
      ]
    },
    {
      "cell_type": "code",
      "source": [
        "#0array\n",
        "\n",
        "zeroarr = np.zeros((2,3))\n",
        "print(zeroarr)"
      ],
      "metadata": {
        "colab": {
          "base_uri": "https://localhost:8080/"
        },
        "id": "lPBlm8J4Tbcv",
        "outputId": "28f29d3a-1287-4d63-eaca-3c1c66cad348"
      },
      "execution_count": null,
      "outputs": [
        {
          "output_type": "stream",
          "name": "stdout",
          "text": [
            "[[0. 0. 0.]\n",
            " [0. 0. 0.]]\n"
          ]
        }
      ]
    },
    {
      "cell_type": "code",
      "source": [
        "arr = np.array([1,2,3], dtype = 'float32')\n",
        "print(arr)"
      ],
      "metadata": {
        "colab": {
          "base_uri": "https://localhost:8080/"
        },
        "id": "Zd7QiMbIThO2",
        "outputId": "5dae3015-ee10-4780-c2bc-8f1549d67155"
      },
      "execution_count": null,
      "outputs": [
        {
          "output_type": "stream",
          "name": "stdout",
          "text": [
            "[1. 2. 3.]\n"
          ]
        }
      ]
    },
    {
      "cell_type": "code",
      "source": [
        "arr = np.array([1,2,3])\n",
        "print(arr)"
      ],
      "metadata": {
        "colab": {
          "base_uri": "https://localhost:8080/"
        },
        "id": "usav0yRTT331",
        "outputId": "2cbb2c3b-3663-438a-f217-60c7e8ac818b"
      },
      "execution_count": null,
      "outputs": [
        {
          "output_type": "stream",
          "name": "stdout",
          "text": [
            "[1 2 3]\n"
          ]
        }
      ]
    },
    {
      "cell_type": "code",
      "source": [
        "#indexing\n",
        "\n",
        "arr = np.array([10,20,30,40])\n",
        "print(arr[1])\n",
        "\n",
        "arr2d = np.array([[10,20],[30,40]])\n",
        "print(arr2d[1,1])\n"
      ],
      "metadata": {
        "colab": {
          "base_uri": "https://localhost:8080/"
        },
        "id": "oJyYdSaoT6QV",
        "outputId": "5dae21d7-dd2c-483c-d316-5404a3a2d29d"
      },
      "execution_count": null,
      "outputs": [
        {
          "output_type": "stream",
          "name": "stdout",
          "text": [
            "20\n",
            "40\n"
          ]
        }
      ]
    },
    {
      "cell_type": "code",
      "source": [
        "\n",
        "\n",
        "arr = np.array([[10,20],[30,40]])\n",
        "print(arr[:1])\n",
        "print(arr[:0])"
      ],
      "metadata": {
        "colab": {
          "base_uri": "https://localhost:8080/"
        },
        "id": "TAMDxj5IUY3V",
        "outputId": "e74aff6f-0760-4592-9939-89e9555e928b"
      },
      "execution_count": null,
      "outputs": [
        {
          "output_type": "stream",
          "name": "stdout",
          "text": [
            "[[10 20]]\n",
            "[]\n"
          ]
        }
      ]
    },
    {
      "cell_type": "code",
      "source": [
        "#boolean indexing\n",
        "\n",
        "arr = np.array([10,20,30,40])\n",
        "print(arr[arr>=20])"
      ],
      "metadata": {
        "colab": {
          "base_uri": "https://localhost:8080/"
        },
        "id": "n5Ho4mmVVciP",
        "outputId": "9899b94d-ca7e-4227-dbe5-665a6cf9a717"
      },
      "execution_count": null,
      "outputs": [
        {
          "output_type": "stream",
          "name": "stdout",
          "text": [
            "[20 30 40]\n"
          ]
        }
      ]
    },
    {
      "cell_type": "code",
      "source": [
        "#reshape\n",
        "\n",
        "arr = np.arange(6)\n",
        "print(arr)\n",
        "\n",
        "reshaped = arr.reshape(2,3)\n",
        "print(reshaped)"
      ],
      "metadata": {
        "colab": {
          "base_uri": "https://localhost:8080/"
        },
        "id": "GVaNVrK1V8su",
        "outputId": "4d6f83c6-83e9-4fb1-a7e0-058d529f1168"
      },
      "execution_count": null,
      "outputs": [
        {
          "output_type": "stream",
          "name": "stdout",
          "text": [
            "[0 1 2 3 4 5]\n",
            "[[0 1 2]\n",
            " [3 4 5]]\n"
          ]
        }
      ]
    },
    {
      "cell_type": "code",
      "source": [
        "#stacking\n",
        "\n",
        "a = np.array([1,2])\n",
        "b = np.array([3,4])\n",
        "\n",
        "v = np.vstack((a,b))\n",
        "h = np.hstack((a,b))\n",
        "\n",
        "print(v)\n",
        "print(h)"
      ],
      "metadata": {
        "colab": {
          "base_uri": "https://localhost:8080/"
        },
        "id": "2aWzVW1MWhbf",
        "outputId": "fd8c5c41-f5a0-4dea-d83c-eaada9797240"
      },
      "execution_count": null,
      "outputs": [
        {
          "output_type": "stream",
          "name": "stdout",
          "text": [
            "[[1 2]\n",
            " [3 4]]\n",
            "[1 2 3 4]\n"
          ]
        }
      ]
    },
    {
      "cell_type": "code",
      "source": [
        "#splitting\n",
        "\n",
        "arr = np.arange(6).reshape(2,3)\n",
        "print(arr)\n",
        "\n",
        "print('\\n')\n",
        "\n",
        "print('ABBC')\n",
        "\n",
        "print('\\n')\n",
        "\n",
        "print(np.hsplit(arr, 3))"
      ],
      "metadata": {
        "colab": {
          "base_uri": "https://localhost:8080/"
        },
        "id": "yIHPiO01XLQu",
        "outputId": "12da4d24-f735-4b97-c06e-955e1e0f3328"
      },
      "execution_count": null,
      "outputs": [
        {
          "output_type": "stream",
          "name": "stdout",
          "text": [
            "[[0 1 2]\n",
            " [3 4 5]]\n",
            "\n",
            "\n",
            "ABBC\n",
            "\n",
            "\n",
            "[array([[0],\n",
            "       [3]]), array([[1],\n",
            "       [4]]), array([[2],\n",
            "       [5]])]\n"
          ]
        }
      ]
    },
    {
      "cell_type": "code",
      "source": [
        "#Problem 1: Create a NumPy array from the Python list [5,10,15,20,25]. Print the array.\n",
        "\n",
        "a = np.array([5,10,15,20,25])\n",
        "print(a)"
      ],
      "metadata": {
        "colab": {
          "base_uri": "https://localhost:8080/"
        },
        "id": "690F2_0EYzDl",
        "outputId": "f0991d3c-0c52-4791-a4a7-9d2233ef53fb"
      },
      "execution_count": null,
      "outputs": [
        {
          "output_type": "stream",
          "name": "stdout",
          "text": [
            "[ 5 10 15 20 25]\n"
          ]
        }
      ]
    },
    {
      "cell_type": "code",
      "source": [
        "#Problem 2: Create a 2D NumPy array from the Python list [[1,2],[3,4],[5,6]] and print it.\n",
        "\n",
        "a = np.array([[1,2],[3,4],[5,6]])\n",
        "print(a)"
      ],
      "metadata": {
        "colab": {
          "base_uri": "https://localhost:8080/"
        },
        "id": "1FFjZQGxZYf2",
        "outputId": "4e9ff87c-b631-4c9d-e667-ad9fd9b926b0"
      },
      "execution_count": null,
      "outputs": [
        {
          "output_type": "stream",
          "name": "stdout",
          "text": [
            "[[1 2]\n",
            " [3 4]\n",
            " [5 6]]\n"
          ]
        }
      ]
    },
    {
      "cell_type": "code",
      "source": [
        "#Problem 3: Create a 3x3 matrix of zeros using NumPy. Print the matrix.\n",
        "\n",
        "zeroarr = np.zeros((3,3))\n",
        "print(zeroarr)"
      ],
      "metadata": {
        "colab": {
          "base_uri": "https://localhost:8080/"
        },
        "id": "ZMMTg1OJZYoz",
        "outputId": "aa06bc79-7b5d-463d-b978-ea6405f5a8cc"
      },
      "execution_count": null,
      "outputs": [
        {
          "output_type": "stream",
          "name": "stdout",
          "text": [
            "[[0. 0. 0.]\n",
            " [0. 0. 0.]\n",
            " [0. 0. 0.]]\n"
          ]
        }
      ]
    },
    {
      "cell_type": "code",
      "source": [
        "#Problem 4: Use np.arange() to create a NumPy array with values from 10 to 100, with a step of 10. Print the array.\n",
        "\n",
        "arr = np.arange(10,101, 10)\n",
        "print(arr)\n"
      ],
      "metadata": {
        "colab": {
          "base_uri": "https://localhost:8080/"
        },
        "id": "9eafDJpLaWnk",
        "outputId": "ae91902d-5ad0-424f-d387-a70ec6630c83"
      },
      "execution_count": null,
      "outputs": [
        {
          "output_type": "stream",
          "name": "stdout",
          "text": [
            "[ 10  20  30  40  50  60  70  80  90 100]\n"
          ]
        }
      ]
    },
    {
      "cell_type": "code",
      "source": [
        "#Problem 5: Create a NumPy array filled with ones, with shape (4,2). Print the array.\n",
        "\n",
        "a = np.ones((4,2))\n",
        "print(a)"
      ],
      "metadata": {
        "colab": {
          "base_uri": "https://localhost:8080/"
        },
        "id": "tOfPcvl6bx6H",
        "outputId": "e8776a07-0ea5-4fa3-de6b-f3c85d7c2afd"
      },
      "execution_count": null,
      "outputs": [
        {
          "output_type": "stream",
          "name": "stdout",
          "text": [
            "[[1. 1.]\n",
            " [1. 1.]\n",
            " [1. 1.]\n",
            " [1. 1.]]\n"
          ]
        }
      ]
    },
    {
      "cell_type": "code",
      "source": [
        "#Problem 6: Create a 1D NumPy array of 10 evenly spaced values between 1 and 100 using np.linspace(). Print the array.\n",
        "\n",
        "a = np.linspace(1, 101, 10)\n",
        "print(a)"
      ],
      "metadata": {
        "colab": {
          "base_uri": "https://localhost:8080/"
        },
        "id": "aYFGwnmrcRkN",
        "outputId": "599055ab-2aa3-4c55-d74b-eea79ae57639"
      },
      "execution_count": null,
      "outputs": [
        {
          "output_type": "stream",
          "name": "stdout",
          "text": [
            "[  1.          12.11111111  23.22222222  34.33333333  45.44444444\n",
            "  56.55555556  67.66666667  78.77777778  89.88888889 101.        ]\n"
          ]
        }
      ]
    },
    {
      "cell_type": "code",
      "source": [
        "#Problem 7: Convert the Python list [3,6,9] to a NumPy array and perform element-wise multiplication by 3. Print the result.\n",
        "\n",
        "array = np.array([3,6,9])\n",
        "new_array = array *3\n",
        "print(new_array)"
      ],
      "metadata": {
        "colab": {
          "base_uri": "https://localhost:8080/"
        },
        "id": "VUoSE8y8c6rk",
        "outputId": "224cbb51-c5e7-4823-97aa-cbc20607b4dc"
      },
      "execution_count": null,
      "outputs": [
        {
          "output_type": "stream",
          "name": "stdout",
          "text": [
            "[ 9 18 27]\n"
          ]
        }
      ]
    },
    {
      "cell_type": "code",
      "source": [
        "#Problem 8: Create a 2D array a = [[1,2],[3,4]] and access the element at row 1, column 0. Print the element.\n",
        "\n",
        "a = np.array([[1,2],[3,4]])\n",
        "print(arr2d[1,0])"
      ],
      "metadata": {
        "colab": {
          "base_uri": "https://localhost:8080/"
        },
        "id": "QxRSAfjYc-0M",
        "outputId": "83752e61-becf-485a-c8b5-7c0b06fefdc9"
      },
      "execution_count": null,
      "outputs": [
        {
          "output_type": "stream",
          "name": "stdout",
          "text": [
            "3\n"
          ]
        }
      ]
    },
    {
      "cell_type": "code",
      "source": [
        "#Problem 9: Slice the array a = [2,4,6,8,10] to extract the first three elements. Print the result.\n",
        "\n",
        "arr = np.array([2,4,6,8,10])\n",
        "print(arr[:3])\n"
      ],
      "metadata": {
        "colab": {
          "base_uri": "https://localhost:8080/"
        },
        "id": "TDmCUH1uc_J1",
        "outputId": "d38f83ac-9527-4669-a16b-48499382022f"
      },
      "execution_count": null,
      "outputs": [
        {
          "output_type": "stream",
          "name": "stdout",
          "text": [
            "[2 4 6]\n"
          ]
        }
      ]
    },
    {
      "cell_type": "code",
      "source": [
        "#Problem 10: Create a 1D array of size 10 filled with random integers between 1 and 100 using np.random.randint(). Print the array.\n",
        "\n",
        "a = np.random.randint(1,101, 10)\n",
        "print(a)"
      ],
      "metadata": {
        "colab": {
          "base_uri": "https://localhost:8080/"
        },
        "id": "msioikMtc_dt",
        "outputId": "70e76426-b6aa-4448-d8ff-3b7d5250249a"
      },
      "execution_count": null,
      "outputs": [
        {
          "output_type": "stream",
          "name": "stdout",
          "text": [
            "[43 95 34 72 80 87 52 29 49  8]\n"
          ]
        }
      ]
    }
  ]
}